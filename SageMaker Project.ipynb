{
 "cells": [
  {
   "cell_type": "markdown",
   "metadata": {},
   "source": [
    "# Creating a Sentiment Analysis Web App\n",
    "## Using PyTorch and SageMaker\n",
    "\n",
    "_Deep Learning Nanodegree Program | Deployment_\n",
    "\n",
    "---\n",
    "\n",
    "Now that we have a basic understanding of how SageMaker works we will try to use it to construct a complete project from end to end. Our goal will be to have a simple web page which a user can use to enter a movie review. The web page will then send the review off to our deployed model which will predict the sentiment of the entered review.\n",
    "\n",
    "## Instructions\n",
    "\n",
    "Some template code has already been provided for you, and you will need to implement additional functionality to successfully complete this notebook. You will not need to modify the included code beyond what is requested. Sections that begin with '**TODO**' in the header indicate that you need to complete or implement some portion within them. Instructions will be provided for each section and the specifics of the implementation are marked in the code block with a `# TODO: ...` comment. Please be sure to read the instructions carefully!\n",
    "\n",
    "In addition to implementing code, there will be questions for you to answer which relate to the task and your implementation. Each section where you will answer a question is preceded by a '**Question:**' header. Carefully read each question and provide your answer below the '**Answer:**' header by editing the Markdown cell.\n",
    "\n",
    "> **Note**: Code and Markdown cells can be executed using the **Shift+Enter** keyboard shortcut. In addition, a cell can be edited by typically clicking it (double-click for Markdown cells) or by pressing **Enter** while it is highlighted.\n",
    "\n",
    "## General Outline\n",
    "\n",
    "Recall the general outline for SageMaker projects using a notebook instance.\n",
    "\n",
    "1. Download or otherwise retrieve the data.\n",
    "2. Process / Prepare the data.\n",
    "3. Upload the processed data to S3.\n",
    "4. Train a chosen model.\n",
    "5. Test the trained model (typically using a batch transform job).\n",
    "6. Deploy the trained model.\n",
    "7. Use the deployed model.\n",
    "\n",
    "For this project, you will be following the steps in the general outline with some modifications. \n",
    "\n",
    "First, you will not be testing the model in its own step. You will still be testing the model, however, you will do it by deploying your model and then using the deployed model by sending the test data to it. One of the reasons for doing this is so that you can make sure that your deployed model is working correctly before moving forward.\n",
    "\n",
    "In addition, you will deploy and use your trained model a second time. In the second iteration you will customize the way that your trained model is deployed by including some of your own code. In addition, your newly deployed model will be used in the sentiment analysis web app."
   ]
  },
  {
   "cell_type": "code",
   "execution_count": 1,
   "metadata": {},
   "outputs": [
    {
     "name": "stdout",
     "output_type": "stream",
     "text": [
      "Collecting sagemaker==1.72.0\n",
      "  Downloading sagemaker-1.72.0.tar.gz (297 kB)\n",
      "\u001b[K     |████████████████████████████████| 297 kB 25.9 MB/s eta 0:00:01\n",
      "\u001b[?25hRequirement already satisfied: boto3>=1.14.12 in /home/ec2-user/anaconda3/envs/pytorch_p36/lib/python3.6/site-packages (from sagemaker==1.72.0) (1.16.37)\n",
      "Requirement already satisfied: numpy>=1.9.0 in /home/ec2-user/anaconda3/envs/pytorch_p36/lib/python3.6/site-packages (from sagemaker==1.72.0) (1.19.4)\n",
      "Requirement already satisfied: protobuf>=3.1 in /home/ec2-user/anaconda3/envs/pytorch_p36/lib/python3.6/site-packages (from sagemaker==1.72.0) (3.14.0)\n",
      "Requirement already satisfied: scipy>=0.19.0 in /home/ec2-user/anaconda3/envs/pytorch_p36/lib/python3.6/site-packages (from sagemaker==1.72.0) (1.4.1)\n",
      "Requirement already satisfied: protobuf3-to-dict>=0.1.5 in /home/ec2-user/anaconda3/envs/pytorch_p36/lib/python3.6/site-packages (from sagemaker==1.72.0) (0.1.5)\n",
      "Requirement already satisfied: importlib-metadata>=1.4.0 in /home/ec2-user/anaconda3/envs/pytorch_p36/lib/python3.6/site-packages (from sagemaker==1.72.0) (3.1.0)\n",
      "Requirement already satisfied: packaging>=20.0 in /home/ec2-user/anaconda3/envs/pytorch_p36/lib/python3.6/site-packages (from sagemaker==1.72.0) (20.7)\n",
      "Requirement already satisfied: jmespath<1.0.0,>=0.7.1 in /home/ec2-user/anaconda3/envs/pytorch_p36/lib/python3.6/site-packages (from boto3>=1.14.12->sagemaker==1.72.0) (0.10.0)\n",
      "Requirement already satisfied: s3transfer<0.4.0,>=0.3.0 in /home/ec2-user/anaconda3/envs/pytorch_p36/lib/python3.6/site-packages (from boto3>=1.14.12->sagemaker==1.72.0) (0.3.3)\n",
      "Requirement already satisfied: botocore<1.20.0,>=1.19.37 in /home/ec2-user/anaconda3/envs/pytorch_p36/lib/python3.6/site-packages (from boto3>=1.14.12->sagemaker==1.72.0) (1.19.37)\n",
      "Requirement already satisfied: jmespath<1.0.0,>=0.7.1 in /home/ec2-user/anaconda3/envs/pytorch_p36/lib/python3.6/site-packages (from boto3>=1.14.12->sagemaker==1.72.0) (0.10.0)\n",
      "Requirement already satisfied: python-dateutil<3.0.0,>=2.1 in /home/ec2-user/anaconda3/envs/pytorch_p36/lib/python3.6/site-packages (from botocore<1.20.0,>=1.19.37->boto3>=1.14.12->sagemaker==1.72.0) (2.8.1)\n",
      "Requirement already satisfied: urllib3<1.27,>=1.25.4 in /home/ec2-user/anaconda3/envs/pytorch_p36/lib/python3.6/site-packages (from botocore<1.20.0,>=1.19.37->boto3>=1.14.12->sagemaker==1.72.0) (1.25.11)\n",
      "Requirement already satisfied: zipp>=0.5 in /home/ec2-user/anaconda3/envs/pytorch_p36/lib/python3.6/site-packages (from importlib-metadata>=1.4.0->sagemaker==1.72.0) (3.4.0)\n",
      "Requirement already satisfied: pyparsing>=2.0.2 in /home/ec2-user/anaconda3/envs/pytorch_p36/lib/python3.6/site-packages (from packaging>=20.0->sagemaker==1.72.0) (2.4.7)\n",
      "Requirement already satisfied: six>=1.9 in /home/ec2-user/anaconda3/envs/pytorch_p36/lib/python3.6/site-packages (from protobuf>=3.1->sagemaker==1.72.0) (1.15.0)\n",
      "Requirement already satisfied: six>=1.9 in /home/ec2-user/anaconda3/envs/pytorch_p36/lib/python3.6/site-packages (from protobuf>=3.1->sagemaker==1.72.0) (1.15.0)\n",
      "Requirement already satisfied: protobuf>=3.1 in /home/ec2-user/anaconda3/envs/pytorch_p36/lib/python3.6/site-packages (from sagemaker==1.72.0) (3.14.0)\n",
      "Requirement already satisfied: six>=1.9 in /home/ec2-user/anaconda3/envs/pytorch_p36/lib/python3.6/site-packages (from protobuf>=3.1->sagemaker==1.72.0) (1.15.0)\n",
      "Requirement already satisfied: botocore<1.20.0,>=1.19.37 in /home/ec2-user/anaconda3/envs/pytorch_p36/lib/python3.6/site-packages (from boto3>=1.14.12->sagemaker==1.72.0) (1.19.37)\n",
      "Requirement already satisfied: numpy>=1.9.0 in /home/ec2-user/anaconda3/envs/pytorch_p36/lib/python3.6/site-packages (from sagemaker==1.72.0) (1.19.4)\n",
      "Collecting smdebug-rulesconfig==0.1.4\n",
      "  Downloading smdebug_rulesconfig-0.1.4-py2.py3-none-any.whl (10 kB)\n",
      "Building wheels for collected packages: sagemaker\n",
      "  Building wheel for sagemaker (setup.py) ... \u001b[?25ldone\n",
      "\u001b[?25h  Created wheel for sagemaker: filename=sagemaker-1.72.0-py2.py3-none-any.whl size=386358 sha256=bcaf1ce207b3e1ee3733730ace94e365e0c5e36fa211ac1826d23438e2b27396\n",
      "  Stored in directory: /home/ec2-user/.cache/pip/wheels/c3/58/70/85faf4437568bfaa4c419937569ba1fe54d44c5db42406bbd7\n",
      "Successfully built sagemaker\n",
      "Installing collected packages: smdebug-rulesconfig, sagemaker\n",
      "  Attempting uninstall: smdebug-rulesconfig\n",
      "    Found existing installation: smdebug-rulesconfig 1.0.0\n",
      "    Uninstalling smdebug-rulesconfig-1.0.0:\n",
      "      Successfully uninstalled smdebug-rulesconfig-1.0.0\n",
      "  Attempting uninstall: sagemaker\n",
      "    Found existing installation: sagemaker 2.19.0\n",
      "    Uninstalling sagemaker-2.19.0:\n",
      "      Successfully uninstalled sagemaker-2.19.0\n",
      "Successfully installed sagemaker-1.72.0 smdebug-rulesconfig-0.1.4\n",
      "\u001b[33mWARNING: You are using pip version 20.3; however, version 21.0.1 is available.\n",
      "You should consider upgrading via the '/home/ec2-user/anaconda3/envs/pytorch_p36/bin/python -m pip install --upgrade pip' command.\u001b[0m\n"
     ]
    }
   ],
   "source": [
    "# Make sure that we use SageMaker 1.x\n",
    "!pip install sagemaker==1.72.0"
   ]
  },
  {
   "cell_type": "markdown",
   "metadata": {},
   "source": [
    "## Step 1: Downloading the data\n",
    "\n",
    "As in the XGBoost in SageMaker notebook, we will be using the [IMDb dataset](http://ai.stanford.edu/~amaas/data/sentiment/)\n",
    "\n",
    "> Maas, Andrew L., et al. [Learning Word Vectors for Sentiment Analysis](http://ai.stanford.edu/~amaas/data/sentiment/). In _Proceedings of the 49th Annual Meeting of the Association for Computational Linguistics: Human Language Technologies_. Association for Computational Linguistics, 2011."
   ]
  },
  {
   "cell_type": "code",
   "execution_count": 2,
   "metadata": {},
   "outputs": [
    {
     "name": "stdout",
     "output_type": "stream",
     "text": [
      "mkdir: cannot create directory ‘../data’: File exists\n",
      "--2021-02-03 02:10:25--  http://ai.stanford.edu/~amaas/data/sentiment/aclImdb_v1.tar.gz\n",
      "Resolving ai.stanford.edu (ai.stanford.edu)... 171.64.68.10\n",
      "Connecting to ai.stanford.edu (ai.stanford.edu)|171.64.68.10|:80... connected.\n",
      "HTTP request sent, awaiting response... 200 OK\n",
      "Length: 84125825 (80M) [application/x-gzip]\n",
      "Saving to: ‘../data/aclImdb_v1.tar.gz’\n",
      "\n",
      "../data/aclImdb_v1. 100%[===================>]  80.23M  22.9MB/s    in 3.9s    \n",
      "\n",
      "2021-02-03 02:10:29 (20.8 MB/s) - ‘../data/aclImdb_v1.tar.gz’ saved [84125825/84125825]\n",
      "\n"
     ]
    }
   ],
   "source": [
    "%mkdir ../data\n",
    "!wget -O ../data/aclImdb_v1.tar.gz http://ai.stanford.edu/~amaas/data/sentiment/aclImdb_v1.tar.gz\n",
    "!tar -zxf ../data/aclImdb_v1.tar.gz -C ../data"
   ]
  },
  {
   "cell_type": "markdown",
   "metadata": {},
   "source": [
    "## Step 2: Preparing and Processing the data\n",
    "\n",
    "Also, as in the XGBoost notebook, we will be doing some initial data processing. The first few steps are the same as in the XGBoost example. To begin with, we will read in each of the reviews and combine them into a single input structure. Then, we will split the dataset into a training set and a testing set."
   ]
  },
  {
   "cell_type": "code",
   "execution_count": 3,
   "metadata": {},
   "outputs": [],
   "source": [
    "import os\n",
    "import glob\n",
    "\n",
    "def read_imdb_data(data_dir='../data/aclImdb'):\n",
    "    data = {}\n",
    "    labels = {}\n",
    "    \n",
    "    for data_type in ['train', 'test']:\n",
    "        data[data_type] = {}\n",
    "        labels[data_type] = {}\n",
    "        \n",
    "        for sentiment in ['pos', 'neg']:\n",
    "            data[data_type][sentiment] = []\n",
    "            labels[data_type][sentiment] = []\n",
    "            \n",
    "            path = os.path.join(data_dir, data_type, sentiment, '*.txt')\n",
    "            files = glob.glob(path)\n",
    "            \n",
    "            for f in files:\n",
    "                with open(f) as review:\n",
    "                    data[data_type][sentiment].append(review.read())\n",
    "                    # Here we represent a positive review by '1' and a negative review by '0'\n",
    "                    labels[data_type][sentiment].append(1 if sentiment == 'pos' else 0)\n",
    "                    \n",
    "            assert len(data[data_type][sentiment]) == len(labels[data_type][sentiment]), \\\n",
    "                    \"{}/{} data size does not match labels size\".format(data_type, sentiment)\n",
    "                \n",
    "    return data, labels"
   ]
  },
  {
   "cell_type": "code",
   "execution_count": 4,
   "metadata": {},
   "outputs": [
    {
     "name": "stdout",
     "output_type": "stream",
     "text": [
      "IMDB reviews: train = 12500 pos / 12500 neg, test = 12500 pos / 12500 neg\n"
     ]
    }
   ],
   "source": [
    "data, labels = read_imdb_data()\n",
    "print(\"IMDB reviews: train = {} pos / {} neg, test = {} pos / {} neg\".format(\n",
    "            len(data['train']['pos']), len(data['train']['neg']),\n",
    "            len(data['test']['pos']), len(data['test']['neg'])))"
   ]
  },
  {
   "cell_type": "markdown",
   "metadata": {},
   "source": [
    "Now that we've read the raw training and testing data from the downloaded dataset, we will combine the positive and negative reviews and shuffle the resulting records."
   ]
  },
  {
   "cell_type": "code",
   "execution_count": 5,
   "metadata": {},
   "outputs": [],
   "source": [
    "from sklearn.utils import shuffle\n",
    "\n",
    "def prepare_imdb_data(data, labels):\n",
    "    \"\"\"Prepare training and test sets from IMDb movie reviews.\"\"\"\n",
    "    \n",
    "    #Combine positive and negative reviews and labels\n",
    "    data_train = data['train']['pos'] + data['train']['neg']\n",
    "    data_test = data['test']['pos'] + data['test']['neg']\n",
    "    labels_train = labels['train']['pos'] + labels['train']['neg']\n",
    "    labels_test = labels['test']['pos'] + labels['test']['neg']\n",
    "    \n",
    "    #Shuffle reviews and corresponding labels within training and test sets\n",
    "    data_train, labels_train = shuffle(data_train, labels_train)\n",
    "    data_test, labels_test = shuffle(data_test, labels_test)\n",
    "    \n",
    "    # Return a unified training data, test data, training labels, test labets\n",
    "    return data_train, data_test, labels_train, labels_test"
   ]
  },
  {
   "cell_type": "code",
   "execution_count": 6,
   "metadata": {},
   "outputs": [
    {
     "name": "stdout",
     "output_type": "stream",
     "text": [
      "IMDb reviews (combined): train = 25000, test = 25000\n"
     ]
    }
   ],
   "source": [
    "train_X, test_X, train_y, test_y = prepare_imdb_data(data, labels)\n",
    "print(\"IMDb reviews (combined): train = {}, test = {}\".format(len(train_X), len(test_X)))"
   ]
  },
  {
   "cell_type": "markdown",
   "metadata": {},
   "source": [
    "Now that we have our training and testing sets unified and prepared, we should do a quick check and see an example of the data our model will be trained on. This is generally a good idea as it allows you to see how each of the further processing steps affects the reviews and it also ensures that the data has been loaded correctly."
   ]
  },
  {
   "cell_type": "code",
   "execution_count": 7,
   "metadata": {},
   "outputs": [
    {
     "name": "stdout",
     "output_type": "stream",
     "text": [
      "The film belongs to Inventor - Underdog genre. Jake Gyllenhaal, Laura Dern and Chris Cooper bring a little acting verve to story with several standard elements. Well filmed, well edited, with plenty of well acted secondary roles.<br /><br />Some have declared this movie to be classic American hokey. It is that and more. I agree with those who say \"The movie celebrates the thrill of youthful inspiration.\" <br /><br />The film is a pleasant reminder that achievement may be born of ordinary roots.<br /><br />\n",
      "1\n"
     ]
    }
   ],
   "source": [
    "print(train_X[100])\n",
    "print(train_y[100])"
   ]
  },
  {
   "cell_type": "markdown",
   "metadata": {},
   "source": [
    "The first step in processing the reviews is to make sure that any html tags that appear should be removed. In addition we wish to tokenize our input, that way words such as *entertained* and *entertaining* are considered the same with regard to sentiment analysis."
   ]
  },
  {
   "cell_type": "code",
   "execution_count": 8,
   "metadata": {},
   "outputs": [],
   "source": [
    "import nltk\n",
    "from nltk.corpus import stopwords\n",
    "from nltk.stem.porter import *\n",
    "\n",
    "import re\n",
    "from bs4 import BeautifulSoup\n",
    "\n",
    "def review_to_words(review):\n",
    "    nltk.download(\"stopwords\", quiet=True)\n",
    "    stemmer = PorterStemmer()\n",
    "    \n",
    "    text = BeautifulSoup(review, \"html.parser\").get_text() # Remove HTML tags\n",
    "    text = re.sub(r\"[^a-zA-Z0-9]\", \" \", text.lower()) # Convert to lower case\n",
    "    words = text.split() # Split string into words\n",
    "    words = [w for w in words if w not in stopwords.words(\"english\")] # Remove stopwords\n",
    "    words = [PorterStemmer().stem(w) for w in words] # stem\n",
    "    \n",
    "    return words"
   ]
  },
  {
   "cell_type": "markdown",
   "metadata": {},
   "source": [
    "The `review_to_words` method defined above uses `BeautifulSoup` to remove any html tags that appear and uses the `nltk` package to tokenize the reviews. As a check to ensure we know how everything is working, try applying `review_to_words` to one of the reviews in the training set."
   ]
  },
  {
   "cell_type": "code",
   "execution_count": 9,
   "metadata": {
    "scrolled": true
   },
   "outputs": [
    {
     "name": "stdout",
     "output_type": "stream",
     "text": [
      "['film', 'belong', 'inventor', 'underdog', 'genr', 'jake', 'gyllenha', 'laura', 'dern', 'chri', 'cooper', 'bring', 'littl', 'act', 'verv', 'stori', 'sever', 'standard', 'element', 'well', 'film', 'well', 'edit', 'plenti', 'well', 'act', 'secondari', 'role', 'declar', 'movi', 'classic', 'american', 'hokey', 'agre', 'say', 'movi', 'celebr', 'thrill', 'youth', 'inspir', 'film', 'pleasant', 'remind', 'achiev', 'may', 'born', 'ordinari', 'root']\n"
     ]
    }
   ],
   "source": [
    "# TODO: Apply review_to_words to a review (train_X[100] or any other review)\n",
    "result = review_to_words(train_X[100])\n",
    "print(result)"
   ]
  },
  {
   "cell_type": "markdown",
   "metadata": {},
   "source": [
    "**Question:** Above we mentioned that `review_to_words` method removes html formatting and allows us to tokenize the words found in a review, for example, converting *entertained* and *entertaining* into *entertain* so that they are treated as though they are the same word. What else, if anything, does this method do to the input?"
   ]
  },
  {
   "cell_type": "markdown",
   "metadata": {},
   "source": [
    "**************\n",
    "Answer\n",
    "**************\n",
    "Apart from points mentioned in the question, review_to_words method handles following, \n",
    "1. It converts text to lower case. \n",
    "2. It removes english stopword such as 'the','a','an','in'. NLTK (Natural Language Tool Kit) has stopword in 16 languages. In above code, we have used logic to remove english language stopwords. These words are kind of filler words and will not impact sentiment analysis model build.\n",
    "3. It splits full review comment into list of words. ( string split)"
   ]
  },
  {
   "cell_type": "markdown",
   "metadata": {},
   "source": [
    "The method below applies the `review_to_words` method to each of the reviews in the training and testing datasets. In addition it caches the results. This is because performing this processing step can take a long time. This way if you are unable to complete the notebook in the current session, you can come back without needing to process the data a second time."
   ]
  },
  {
   "cell_type": "code",
   "execution_count": 10,
   "metadata": {},
   "outputs": [],
   "source": [
    "import pickle\n",
    "\n",
    "cache_dir = os.path.join(\"../cache\", \"sentiment_analysis\")  # where to store cache files\n",
    "os.makedirs(cache_dir, exist_ok=True)  # ensure cache directory exists\n",
    "\n",
    "def preprocess_data(data_train, data_test, labels_train, labels_test,\n",
    "                    cache_dir=cache_dir, cache_file=\"preprocessed_data.pkl\"):\n",
    "    \"\"\"Convert each review to words; read from cache if available.\"\"\"\n",
    "\n",
    "    # If cache_file is not None, try to read from it first\n",
    "    cache_data = None\n",
    "    if cache_file is not None:\n",
    "        try:\n",
    "            with open(os.path.join(cache_dir, cache_file), \"rb\") as f:\n",
    "                cache_data = pickle.load(f)\n",
    "            print(\"Read preprocessed data from cache file:\", cache_file)\n",
    "        except:\n",
    "            pass  # unable to read from cache, but that's okay\n",
    "    \n",
    "    # If cache is missing, then do the heavy lifting\n",
    "    if cache_data is None:\n",
    "        # Preprocess training and test data to obtain words for each review\n",
    "        #words_train = list(map(review_to_words, data_train))\n",
    "        #words_test = list(map(review_to_words, data_test))\n",
    "        words_train = [review_to_words(review) for review in data_train]\n",
    "        words_test = [review_to_words(review) for review in data_test]\n",
    "        \n",
    "        # Write to cache file for future runs\n",
    "        if cache_file is not None:\n",
    "            cache_data = dict(words_train=words_train, words_test=words_test,\n",
    "                              labels_train=labels_train, labels_test=labels_test)\n",
    "            with open(os.path.join(cache_dir, cache_file), \"wb\") as f:\n",
    "                pickle.dump(cache_data, f)\n",
    "            print(\"Wrote preprocessed data to cache file:\", cache_file)\n",
    "    else:\n",
    "        # Unpack data loaded from cache file\n",
    "        words_train, words_test, labels_train, labels_test = (cache_data['words_train'],\n",
    "                cache_data['words_test'], cache_data['labels_train'], cache_data['labels_test'])\n",
    "    \n",
    "    return words_train, words_test, labels_train, labels_test"
   ]
  },
  {
   "cell_type": "code",
   "execution_count": 11,
   "metadata": {},
   "outputs": [
    {
     "name": "stdout",
     "output_type": "stream",
     "text": [
      "Read preprocessed data from cache file: preprocessed_data.pkl\n"
     ]
    }
   ],
   "source": [
    "# Preprocess data\n",
    "train_X, test_X, train_y, test_y = preprocess_data(train_X, test_X, train_y, test_y)"
   ]
  },
  {
   "cell_type": "markdown",
   "metadata": {},
   "source": [
    "## Transform the data\n",
    "\n",
    "In the XGBoost notebook we transformed the data from its word representation to a bag-of-words feature representation. For the model we are going to construct in this notebook we will construct a feature representation which is very similar. To start, we will represent each word as an integer. Of course, some of the words that appear in the reviews occur very infrequently and so likely don't contain much information for the purposes of sentiment analysis. The way we will deal with this problem is that we will fix the size of our working vocabulary and we will only include the words that appear most frequently. We will then combine all of the infrequent words into a single category and, in our case, we will label it as `1`.\n",
    "\n",
    "Since we will be using a recurrent neural network, it will be convenient if the length of each review is the same. To do this, we will fix a size for our reviews and then pad short reviews with the category 'no word' (which we will label `0`) and truncate long reviews."
   ]
  },
  {
   "cell_type": "markdown",
   "metadata": {},
   "source": [
    "### (TODO) Create a word dictionary\n",
    "\n",
    "To begin with, we need to construct a way to map words that appear in the reviews to integers. Here we fix the size of our vocabulary (including the 'no word' and 'infrequent' categories) to be `5000` but you may wish to change this to see how it affects the model.\n",
    "\n",
    "> **TODO:** Complete the implementation for the `build_dict()` method below. Note that even though the vocab_size is set to `5000`, we only want to construct a mapping for the most frequently appearing `4998` words. This is because we want to reserve the special labels `0` for 'no word' and `1` for 'infrequent word'."
   ]
  },
  {
   "cell_type": "code",
   "execution_count": 12,
   "metadata": {},
   "outputs": [],
   "source": [
    "import numpy as np\n",
    "\n",
    "def build_dict(data, vocab_size = 5000):\n",
    "    \"\"\"Construct and return a dictionary mapping each of the most frequently appearing words to a unique integer.\"\"\"\n",
    "    \n",
    "    # TODO: Determine how often each word appears in `data`. Note that `data` is a list of sentences and that a\n",
    "    #       sentence is a list of words.\n",
    "    \n",
    "    word_count = {} # A dict storing the words that appear in the reviews along with how often they occur\n",
    "    for sentence in data:\n",
    "        for word in sentence:\n",
    "            if word not in word_count:\n",
    "                word_count[word] = 1\n",
    "            else:\n",
    "                word_count[word] +=1 \n",
    "    \n",
    "    # TODO: Sort the words found in `data` so that sorted_words[0] is the most frequently appearing word and\n",
    "    #       sorted_words[-1] is the least frequently appearing word.\n",
    "    sorted_words = [item[0] for item in sorted(word_count.items(), key=lambda x: x[1], reverse=True)]\n",
    "    \n",
    "    word_dict = {} # This is what we are building, a dictionary that translates words into integers\n",
    "    for idx, word in enumerate(sorted_words[:vocab_size - 2]): # The -2 is so that we save room for the 'no word'\n",
    "        word_dict[word] = idx + 2                              # 'infrequent' labels\n",
    "        \n",
    "    return word_dict"
   ]
  },
  {
   "cell_type": "code",
   "execution_count": 13,
   "metadata": {},
   "outputs": [],
   "source": [
    "word_dict = build_dict(train_X)"
   ]
  },
  {
   "cell_type": "code",
   "execution_count": 14,
   "metadata": {},
   "outputs": [
    {
     "data": {
      "text/plain": [
       "dict_keys(['movi', 'film', 'one', 'like', 'time', 'good', 'make', 'charact', 'get', 'see', 'watch', 'stori', 'even', 'would', 'realli', 'well', 'scene', 'look', 'show', 'much', 'end', 'peopl', 'bad', 'go', 'great', 'also', 'first', 'love', 'think', 'way', 'act', 'play', 'made', 'thing', 'could', 'know', 'say', 'seem', 'work', 'plot', 'two', 'actor', 'year', 'come', 'mani', 'seen', 'take', 'want', 'life', 'never', 'littl', 'best', 'tri', 'man', 'ever', 'give', 'better', 'still', 'perform', 'find', 'feel', 'part', 'back', 'use', 'someth', 'director', 'actual', 'interest', 'lot', 'real', 'old', 'cast', 'though', 'live', 'star', 'enjoy', 'guy', 'anoth', 'new', 'role', 'noth', '10', 'funni', 'music', 'point', 'start', 'set', 'girl', 'origin', 'day', 'world', 'everi', 'believ', 'turn', 'quit', 'us', 'direct', 'thought', 'fact', 'minut', 'horror', 'kill', 'action', 'comedi', 'pretti', 'young', 'wonder', 'happen', 'around', 'got', 'effect', 'right', 'long', 'howev', 'big', 'line', 'famili', 'enough', 'seri', 'may', 'need', 'fan', 'bit', 'script', 'beauti', 'person', 'becom', 'without', 'must', 'alway', 'friend', 'tell', 'reason', 'saw', 'last', 'final', 'kid', 'almost', 'put', 'least', 'sure', 'done', 'whole', 'place', 'complet', 'kind', 'expect', 'differ', 'shot', 'far', 'mean', 'anyth', 'book', 'laugh', 'might', 'name', 'sinc', 'begin', '2', 'probabl', 'woman', 'help', 'entertain', 'let', 'screen', 'call', 'tv', 'moment', 'away', 'read', 'yet', 'rather', 'worst', 'run', 'fun', 'lead', 'hard', 'audienc', 'idea', 'anyon', 'episod', 'american', 'found', 'appear', 'bore', 'especi', 'although', 'hope', 'keep', 'cours', 'anim', 'job', 'goe', 'move', 'sens', 'dvd', 'version', 'war', 'money', 'someon', 'mind', 'mayb', 'problem', 'true', 'hous', 'everyth', 'nice', 'second', 'rate', 'three', 'night', 'follow', 'face', 'recommend', 'main', 'product', 'worth', 'leav', 'human', 'special', 'excel', 'togeth', 'wast', 'everyon', 'sound', 'john', 'hand', '1', 'father', 'later', 'eye', 'said', 'view', 'instead', 'review', 'boy', 'high', 'hour', 'miss', 'talk', 'classic', 'wife', 'understand', 'left', 'care', 'black', 'death', 'open', 'murder', 'write', 'half', 'head', 'rememb', 'chang', 'viewer', 'fight', 'gener', 'surpris', 'short', 'includ', 'die', 'fall', 'less', 'els', 'entir', 'piec', 'involv', 'pictur', 'simpli', 'home', 'power', 'top', 'total', 'usual', 'budget', 'attempt', 'suppos', 'releas', 'hollywood', 'terribl', 'song', 'men', 'possibl', 'featur', 'portray', 'disappoint', '3', 'poor', 'coupl', 'camera', 'stupid', 'dead', 'wrong', 'produc', 'low', 'either', 'video', 'aw', 'definit', 'except', 'rest', 'given', 'absolut', 'women', 'lack', 'word', 'writer', 'titl', 'talent', 'decid', 'full', 'perfect', 'along', 'style', 'close', 'truli', 'school', 'save', 'emot', 'age', 'sex', 'next', 'bring', 'mr', 'case', 'killer', 'heart', 'comment', 'sort', 'creat', 'perhap', 'came', 'brother', 'sever', 'joke', 'art', 'dialogu', 'game', 'small', 'base', 'flick', 'written', 'sequenc', 'meet', 'earli', 'often', 'other', 'mother', 'develop', 'humor', 'actress', 'consid', 'dark', 'guess', 'amaz', 'unfortun', 'light', 'lost', 'exampl', 'cinema', 'drama', 'ye', 'white', 'experi', 'imagin', 'mention', 'stop', 'natur', 'forc', 'manag', 'felt', 'present', 'cut', 'children', 'fail', 'son', 'qualiti', 'car', 'support', 'ask', 'hit', 'side', 'voic', 'extrem', 'impress', 'wors', 'evil', 'went', 'stand', 'certainli', 'basic', 'oh', 'overal', 'favorit', 'horribl', 'mysteri', 'number', 'type', 'danc', 'wait', 'hero', 'alreadi', '5', 'learn', 'matter', '4', 'michael', 'genr', 'fine', 'despit', 'throughout', 'walk', 'success', 'histori', 'question', 'zombi', 'town', 'relationship', 'realiz', 'child', 'past', 'daughter', 'late', 'b', 'wish', 'credit', 'hate', 'event', 'theme', 'touch', 'citi', 'today', 'sometim', 'behind', 'god', 'twist', 'sit', 'annoy', 'stay', 'deal', 'abl', 'rent', 'pleas', 'edit', 'blood', 'deserv', 'anyway', 'comic', 'appar', 'soon', 'gave', 'etc', 'level', 'slow', 'chanc', 'score', 'bodi', 'brilliant', 'incred', 'figur', 'situat', 'major', 'self', 'stuff', 'decent', 'element', 'dream', 'return', 'obvious', 'continu', 'order', 'pace', 'ridicul', 'happi', 'group', 'add', 'highli', 'thank', 'ladi', 'novel', 'speak', 'pain', 'career', 'shoot', 'strang', 'heard', 'sad', 'polic', 'husband', 'import', 'break', 'took', 'cannot', 'strong', 'robert', 'predict', 'violenc', 'hilari', 'recent', 'countri', 'known', 'particularli', 'pick', 'documentari', 'season', 'critic', 'jame', 'compar', 'obviou', 'alon', 'told', 'state', 'visual', 'rock', 'offer', 'exist', 'theater', 'opinion', 'gore', 'hold', 'crap', 'result', 'hear', 'realiti', 'room', 'effort', 'clich', 'thriller', 'caus', 'sequel', 'explain', 'serious', 'king', 'local', 'ago', 'none', 'hell', 'note', 'allow', 'david', 'sister', 'simpl', 'femal', 'deliv', 'ok', 'convinc', 'class', 'check', 'suspens', 'win', 'oscar', 'buy', 'huge', 'valu', 'sexual', 'cool', 'scari', 'similar', 'excit', 'provid', 'exactli', 'apart', 'shown', 'avoid', 'seriou', 'english', 'whose', 'taken', 'cinematographi', 'shock', 'polit', 'spoiler', 'offic', 'across', 'middl', 'pass', 'street', 'messag', 'somewhat', 'charm', 'silli', 'modern', 'confus', 'filmmak', 'form', 'tale', 'singl', 'jack', 'mostli', 'attent', 'william', 'carri', 'sing', 'subject', 'five', 'prove', 'richard', 'team', 'stage', 'unlik', 'cop', 'georg', 'televis', 'monster', 'earth', 'villain', 'cover', 'pay', 'marri', 'toward', 'build', 'pull', 'parent', 'due', 'fill', 'respect', 'four', 'dialog', 'remind', 'futur', 'weak', 'typic', '7', 'cheap', 'intellig', 'british', 'atmospher', 'clearli', '80', 'non', 'dog', 'paul', 'artist', 'knew', '8', 'fast', 'crime', 'easili', 'escap', 'adult', 'doubt', 'detail', 'date', 'member', 'fire', 'romant', 'drive', 'gun', 'straight', 'beyond', 'fit', 'attack', 'imag', 'upon', 'posit', 'whether', 'fantast', 'peter', 'aspect', 'appreci', 'captur', 'ten', 'plan', 'discov', 'remain', 'period', 'near', 'air', 'realist', 'mark', 'red', 'dull', 'adapt', 'within', 'lose', 'spend', 'materi', 'color', 'chase', 'mari', 'storylin', 'forget', 'bunch', 'clear', 'lee', 'victim', 'nearli', 'box', 'york', 'match', 'inspir', 'finish', 'mess', 'standard', 'easi', 'truth', 'suffer', 'busi', 'dramat', 'bill', 'space', 'western', 'e', 'list', 'battl', 'notic', 'de', 'french', 'ad', '9', 'tom', 'larg', 'among', 'eventu', 'accept', 'train', 'agre', 'spirit', 'soundtrack', 'third', 'teenag', 'soldier', 'adventur', 'suggest', 'sorri', 'drug', 'famou', 'normal', 'cri', 'babi', 'troubl', 'ultim', 'contain', 'certain', 'cultur', 'romanc', 'rare', 'lame', 'somehow', 'disney', 'mix', 'gone', 'cartoon', 'student', 'reveal', 'fear', 'kept', 'suck', 'attract', 'appeal', 'premis', 'greatest', 'secret', 'design', 'shame', 'throw', 'scare', 'copi', 'wit', 'america', 'admit', 'particular', 'relat', 'brought', 'screenplay', 'whatev', 'pure', '70', 'averag', 'harri', 'master', 'describ', 'male', 'treat', '20', 'issu', 'fantasi', 'warn', 'inde', 'forward', 'background', 'free', 'project', 'memor', 'japanes', 'poorli', 'award', 'locat', 'amus', 'potenti', 'struggl', 'weird', 'magic', 'societi', 'okay', 'imdb', 'accent', 'doctor', 'hot', 'water', 'express', 'alien', '30', 'dr', 'odd', 'choic', 'crazi', 'studio', 'fiction', 'becam', 'control', 'masterpiec', 'difficult', 'fli', 'joe', 'scream', 'costum', 'lover', 'uniqu', 'refer', 'remak', 'vampir', 'girlfriend', 'prison', 'execut', 'wear', 'jump', 'unless', 'wood', 'creepi', 'cheesi', 'superb', 'otherwis', 'parti', 'ghost', 'roll', 'mad', 'public', 'depict', 'badli', 'week', 'moral', 'jane', 'earlier', 'dumb', 'fi', 'flaw', 'grow', 'sci', 'deep', 'maker', 'cat', 'connect', 'footag', 'older', 'bother', 'plenti', 'outsid', 'stick', 'gay', 'catch', 'co', 'plu', 'popular', 'equal', 'social', 'disturb', 'quickli', 'perfectli', 'dress', 'era', '90', 'mistak', 'lie', 'previou', 'ride', 'combin', 'concept', 'band', 'surviv', 'answer', 'rich', 'front', 'sweet', 'christma', 'insid', 'concern', 'bare', 'eat', 'beat', 'listen', 'ben', 'c', 'serv', 'term', 'meant', 'german', 'la', 'hardli', 'stereotyp', 'innoc', 'law', 'desper', 'promis', 'memori', 'intent', 'cute', 'steal', 'inform', 'variou', 'brain', 'post', 'tone', 'island', 'amount', 'compani', 'nuditi', 'track', 'claim', 'store', '50', 'hair', 'flat', 'univers', 'land', 'scott', 'kick', 'danger', 'fairli', 'player', 'step', 'crew', 'plain', 'toni', 'share', 'centuri', 'tast', 'achiev', 'engag', 'travel', 'cold', 'rip', 'record', 'suit', 'manner', 'sadli', 'spot', 'wrote', 'tension', 'fascin', 'intens', 'familiar', 'depth', 'burn', 'remark', 'destroy', 'histor', 'sleep', 'purpos', 'languag', 'ruin', 'ignor', 'delight', 'unbeliev', 'italian', 'soul', 'collect', 'abil', 'clever', 'detect', 'violent', 'rape', 'reach', 'door', 'trash', 'liter', 'scienc', 'commun', 'caught', 'reveng', 'creatur', 'approach', 'trip', 'intrigu', 'fashion', 'introduc', 'paint', 'skill', 'complex', 'channel', 'camp', 'christian', 'hole', 'extra', 'immedi', 'mental', 'limit', 'ann', 'slightli', 'million', '6', 'mere', 'comput', 'conclus', 'slasher', 'suddenli', 'imposs', 'neither', 'crimin', 'teen', 'spent', 'physic', 'nation', 'respons', 'planet', 'receiv', 'fake', 'blue', 'sick', 'bizarr', 'embarrass', 'indian', 'ring', '15', 'pop', 'drop', 'drag', 'haunt', 'suspect', 'pointless', 'search', 'edg', 'handl', 'common', 'biggest', 'arriv', 'hurt', 'faith', 'technic', 'angel', 'dad', 'genuin', 'f', 'awesom', 'solid', 'focu', 'van', 'former', 'colleg', 'count', 'heavi', 'tear', 'wall', 'rais', 'visit', 'laughabl', 'younger', 'excus', 'fair', 'sign', 'cult', 'tough', 'motion', 'key', 'desir', 'super', 'stun', 'addit', 'exploit', 'cloth', 'tortur', 'smith', 'race', 'davi', 'cross', 'author', 'jim', 'consist', 'minor', 'compel', 'focus', 'commit', 'chemistri', 'pathet', 'park', 'obsess', 'tradit', 'frank', 'grade', 'asid', '60', 'brutal', 'somewher', 'steve', 'rule', 'opportun', 'u', 'grant', 'depress', 'explor', 'honest', 'besid', 'dub', 'anti', 'trailer', 'intend', 'bar', 'west', 'longer', 'regard', 'scientist', 'judg', 'decad', 'silent', 'armi', 'creativ', 'wild', 'stewart', 'south', 'g', 'draw', 'road', 'govern', 'boss', 'ex', 'practic', 'gang', 'surprisingli', 'festiv', 'motiv', 'club', 'redeem', 'green', 'london', 'page', 'idiot', 'machin', 'display', 'militari', 'aliv', 'thrill', 'repeat', 'nobodi', '100', 'folk', 'yeah', '40', 'garbag', 'journey', 'tire', 'smile', 'ground', 'bought', 'mood', 'stone', 'sam', 'cost', 'noir', 'mouth', 'terrif', 'agent', 'requir', 'utterli', 'honestli', 'area', 'sexi', 'geniu', 'report', 'humour', 'glad', 'enter', 'investig', 'serial', 'occasion', 'narr', 'passion', 'climax', 'marriag', 'studi', 'industri', 'nowher', 'demon', 'center', 'ship', 'charli', 'hors', 'loos', 'bear', 'hang', 'wow', 'graphic', 'admir', 'giant', 'send', 'loud', 'damn', 'profession', 'rel', 'subtl', 'nake', 'blow', 'bottom', 'insult', 'batman', 'doubl', 'kelli', 'r', 'boyfriend', 'initi', 'frame', 'opera', 'gem', 'drawn', 'affect', 'church', 'cinemat', 'challeng', 'nightmar', 'j', 'fulli', 'l', 'seek', 'evid', 'conflict', 'essenti', 'arm', 'henri', 'christoph', 'wind', 'grace', 'narrat', 'assum', 'witch', 'hunt', 'push', 'chri', 'wise', 'month', 'repres', 'nomin', 'avail', 'affair', 'sceneri', 'hide', 'smart', 'justic', 'thu', 'bond', 'interview', 'outstand', 'flashback', 'satisfi', 'constantli', 'presenc', 'central', 'bed', 'iron', 'sell', 'content', 'everybodi', 'gag', 'slowli', 'hotel', 'hire', 'system', 'individu', 'charl', 'thrown', 'hey', 'adam', 'mediocr', 'jone', 'allen', 'lesson', 'billi', 'ray', 'cameo', 'photographi', 'pari', 'fellow', 'strike', 'absurd', 'rise', 'brief', 'independ', 'neg', 'phone', 'impact', 'born', 'ill', 'model', 'spoil', 'fresh', 'angl', 'likabl', 'abus', 'hill', 'discuss', 'ahead', 'sight', 'photograph', 'sent', 'occur', 'shine', 'logic', 'blame', 'mainli', 'bruce', 'skip', 'forev', 'commerci', 'held', 'teacher', 'surround', 'segment', 'zero', 'blond', 'summer', 'trap', 'satir', 'resembl', 'queen', 'six', 'ball', 'fool', 'twice', 'sub', 'tragedi', 'reaction', 'pack', 'bomb', 'will', 'hospit', 'protagonist', 'mile', 'sport', 'vote', 'jerri', 'mom', 'trust', 'drink', 'encount', 'plane', 'program', 'station', 'current', 'al', 'celebr', 'choos', 'martin', 'join', 'lord', 'field', 'favourit', 'tragic', 'round', 'jean', 'robot', 'vision', 'tie', 'arthur', 'fortun', 'random', 'roger', 'dread', 'psycholog', 'intern', 'nonsens', 'improv', 'epic', 'prefer', 'pleasur', 'highlight', 'legend', 'formula', 'dollar', 'tape', '11', 'gorgeou', 'thin', 'object', 'porn', 'fox', 'wide', 'ugli', 'buddi', 'influenc', 'prepar', 'nasti', 'ii', 'supposedli', 'warm', 'progress', 'reflect', 'youth', 'worthi', 'length', 'latter', 'unusu', 'crash', 'childhood', 'superior', 'seven', 'shop', 'theatr', 'remot', 'funniest', 'pilot', 'paid', 'disgust', 'trick', 'fell', 'convers', 'castl', 'disast', 'establish', 'gangster', 'rob', 'suicid', 'disappear', 'mine', 'ident', 'heaven', 'heroin', 'forgotten', 'tend', 'decis', 'singer', 'mask', 'partner', 'brian', 'recogn', 'desert', 'alan', 'ms', 'thoroughli', 'sky', 'p', 'stuck', 'accur', 'replac', 'market', 'clue', 'seemingli', 'commentari', 'andi', 'uncl', 'danni', 'eddi', 'jackson', 'devil', 'therefor', 'that', 'refus', 'pair', 'fault', 'accid', 'river', 'fate', 'unit', 'ed', 'tune', 'afraid', 'stephen', 'russian', 'clean', 'hidden', 'readi', 'convey', 'instanc', 'test', 'quick', 'irrit', 'captain', 'european', 'frustrat', 'daniel', 'insan', 'food', '1950', 'chines', 'wed', 'rescu', 'angri', 'dirti', 'lock', 'joy', 'price', 'steven', 'bland', 'cage', 'rang', 'anymor', 'wooden', 'rush', 'news', 'n', 'jason', 'worri', 'martial', '12', 'board', 'led', 'twenti', 'cgi', 'transform', 'hunter', 'symbol', 'invent', 'onto', 'piti', 'sentiment', 'x', 'johnni', 'process', 'explan', 'attitud', 'owner', 'awar', 'aim', 'necessari', 'floor', 'favor', 'target', 'energi', 'religi', 'opposit', 'insight', 'blind', 'chick', 'window', 'movement', 'research', 'possess', 'deepli', 'comparison', 'mountain', 'whatsoev', 'rain', 'grand', 'comed', 'mid', 'bank', 'shadow', 'began', 'princ', 'parodi', 'pre', 'weapon', 'friendship', 'taylor', 'credibl', 'flesh', 'dougla', 'teach', 'bloodi', 'protect', 'terror', 'hint', 'marvel', 'leader', 'anybodi', 'accord', 'load', 'watchabl', 'drunk', 'superman', 'freddi', 'brown', 'seat', 'tim', 'jeff', 'appropri', 'hitler', 'charg', 'knock', 'villag', 'unknown', 'keaton', 'empti', 'unnecessari', 'enemi', 'england', 'media', 'strength', 'wave', 'dare', 'buck', 'utter', 'perspect', 'craft', 'correct', 'nativ', 'kiss', 'ford', 'contrast', 'soap', 'knowledg', 'chill', 'distract', 'anywher', 'speed', 'magnific', 'nazi', 'mission', 'breath', '1980', 'ice', 'fred', 'moon', 'joan', 'jr', 'crowd', 'soft', '000', 'frighten', 'kate', 'hundr', 'dick', 'dan', 'nick', 'dozen', 'radio', 'somebodi', 'simon', 'shakespear', 'thousand', 'andrew', 'loss', 'academi', 'root', 'account', 'quot', 'sum', 'vehicl', 'convent', 'leg', 'behavior', '1970', 'regular', 'gold', 'compet', 'worker', 'pretenti', 'demand', 'lynch', 'stretch', 'explos', 'candi', 'notabl', 'japan', 'interpret', 'privat', 'debut', 'constant', 'tarzan', 'translat', 'spi', 'prais', 'sea', 'revolv', 'quiet', 'technolog', 'sat', 'ass', 'franc', 'threaten', 'failur', 'jesu', 'toy', 'met', 'aid', 'punch', 'higher', 'kevin', 'abandon', 'vh', 'mike', 'interact', 'separ', 'bet', 'confront', 'command', 'techniqu', 'stunt', 'gotten', 'recal', 'site', 'belong', 'servic', 'bug', 'cabl', 'freak', 'foot', 'jimmi', 'capabl', 'bright', 'african', 'fu', 'succeed', 'stock', 'boat', 'fat', 'presid', 'clark', 'structur', 'gene', 'spanish', 'kidnap', 'paper', 'factor', 'whilst', 'belief', 'attend', 'realis', 'tree', 'complic', 'realism', 'bob', 'witti', 'educ', 'broken', 'finest', 'assist', 'santa', 'up', 'smoke', 'v', 'observ', 'determin', 'depart', 'oper', 'routin', 'hat', 'rubbish', 'domin', 'fame', 'lewi', 'hook', 'kinda', 'safe', 'foreign', 'advanc', 'morgan', 'lone', 'numer', 'rank', 'shallow', 'rose', 'civil', 'washington', 'vs', 'shape', 'werewolf', 'morn', 'gari', 'kong', 'accomplish', 'ordinari', 'winner', 'peac', 'virtual', 'grab', 'whenev', 'offens', 'h', 'luck', 'activ', 'unfunni', 'patient', 'welcom', 'contriv', 'complain', 'bigger', 'con', 'dimension', 'pretend', 'trek', 'dri', 'wake', 'code', 'lesbian', 'cain', 'flash', 'eric', 'statu', 'dancer', 'manipul', 'guard', 'albert', 'corrupt', 'context', 'signific', 'awkward', 'gain', 'speech', 'sourc', 'clip', 'anthoni', 'sean', '13', 'corni', 'psycho', 'theatric', 'curiou', 'w', 'advic', 'priest', 'religion', 'reli', 'addict', 'flow', 'asian', 'skin', 'specif', 'jennif', 'howard', 'secur', 'golden', 'organ', 'promot', 'luke', 'comfort', 'core', 'cash', 'lucki', 'cheat', 'lower', 'dislik', 'associ', 'contribut', 'balanc', 'regret', 'frankli', 'wing', 'degre', 'devic', 'frequent', 'spell', 'print', 'lake', 'sake', 'forgiv', 'mass', 'thoma', 'betti', 'unexpect', 'crack', 'gordon', 'construct', 'amateur', 'unfold', 'categori', 'grown', 'depend', 'invit', 'matur', 'honor', 'walter', 'anna', 'grew', 'intellectu', 'condit', 'sole', 'veteran', 'spectacular', 'sudden', 'mirror', 'gift', 'overli', 'robin', 'demonstr', 'card', 'experienc', 'freedom', 'meanwhil', 'liner', 'grip', 'sheriff', 'circumst', 'unabl', 'theori', 'drew', 'crappi', 'colour', 'brilliantli', 'subtitl', 'section', 'oliv', 'cook', 'altern', 'pile', 'matt', 'sheer', 'parker', 'path', 'laughter', 'accident', 'relief', 'defin', 'wander', 'lawyer', 'treatment', 'hall', 'sinatra', 'captiv', 'hank', 'dragon', 'halloween', 'moor', 'gratuit', 'jacki', 'wayn', 'k', 'barbara', 'kung', 'cowboy', 'broadway', 'wound', 'unintent', 'statement', 'winter', 'canadian', 'surreal', 'spoof', 'compos', 'fare', 'gonna', 'cheer', 'fish', 'treasur', 'sensit', 'emerg', 'unrealist', 'victor', 'woodi', 'driven', 'sympathet', 'neighbor', 'ran', 'topic', 'expos', 'authent', 'overlook', 'menac', 'glass', 'handsom', 'michel', 'chief', 'ancient', 'gross', 'built', 'cinderella', 'contemporari', 'pleasant', 'nevertheless', 'stranger', 'network', 'feet', 'comedian', 'russel', 'letter', 'earn', 'blockbust', 'consider', 'gori', 'miser', 'underr', 'endless', 'solv', 'switch', 'brook', 'bullet', 'edward', 'convict', 'virgin', 'victoria', 'joseph', '0', 'scenario', 'scale', 'cynic', 'chosen', 'alex', 'gut', 'outrag', 'com', 'curs', 'sword', 'screenwrit', 'monkey', 'driver', 'wrap', 'proper', 'substanc', 'juli', 'uk', 'remov', 'par', 'indic', 'bird', 'court', 'advertis', 'consequ', 'rental', 'inevit', 'loser', 'roy', 'naiv', 'nanci', 'grave', 'slap', 'fatal', 'invis', 'le', 'germani', 'brave', 'bridg', 'ador', 'anger', 'loui', 'footbal', 'provok', 'chan', 'alcohol', 'anderson', 'stumbl', 'professor', 'ryan', 'willi', '1930', 'sharp', 'patrick', 'bat', 'australian', 'assassin', 'liber', 'eight', 'amateurish', 'refresh', 'heck', 'trilog', 'cell', 'saturday', 'deni', 'ape', 'strongli', 'lousi', 'sin', 'resid', 'san', 'vagu', 'justifi', 'reput', 'defeat', 'mini', 'indi', 'terrifi', 'sympathi', 'creator', 'endur', 'expert', 'tabl', 'prevent', 'tediou', 'task', 'trial', 'basebal', 'employ', 'offend', 'rival', 'imit', 'che', 'complaint', 'dig', 'weekend', 'fairi', 'pitch', 'max', 'europ', 'beach', 'murphi', 'format', 'purchas', 'risk', 'reminisc', 'nois', 'tini', 'bite', 'powel', 'glimps', 'hype', 'harsh', 'titan', 'till', 'strip', 'north', 'prime', '14', 'fals', 'asleep', 'africa', 'revel', 'texa', 'destruct', 'descript', 'arrest', 'sitcom', 'spin', 'excess', 'surfac', 'semi', 'uninterest', 'inner', 'massiv', 'maintain', 'argu', 'twin', 'hitchcock', 'controversi', 'makeup', 'dinosaur', 'expens', 'melodrama', 'insist', 'ludicr', 'stare', 'kim', 'ideal', 'reject', 'erot', 'ga', 'ala', 'supernatur', 'nail', 'subplot', 'forest', 'press', 'host', 'atroci', 'columbo', 'notch', 'dude', 'presum', 'identifi', 'cant', 'crude', 'method', 'forgett', 'guest', 'character', 'closer', 'plagu', 'princess', 'border', 'landscap', 'beast', 'foster', 'lion', 'ear', 'previous', 'storytel', 'aunt', 'accus', 'urban', 'damag', 'jungl', 'pacino', 'birth', 'bound', 'thirti', 'emma', 'nude', 'chose', 'doll', 'propaganda', 'jess', 'guid', 'warrior', '25', 'whoever', 'mate', 'pet', 'mainstream', 'deadli', 'poster', 'cooper', 'friday', 'size', 'merit', 'gritti', 'latest', 'exact', 'upset', 'rough', '1990', 'citizen', 'sun', 'ton', 'settl', 'buff', 'blend', 'contact', 'warner', 'corps', 'wilson', 'popul', 'contest', 'alic', 'bu', 'overcom', 'rat', 'metal', 'select', 'mgm', 'widow', 'pitt', 'environ', 'lift', 'guilti', 'link', 'particip', 'revolut', 'ted', 'matrix', 'corner', 'johnson', 'exagger', 'afternoon', 'corpor', 'prostitut', 'moron', '1960', 'accompani', 'instal', 'leagu', 'sincer', 'doom', 'friendli', 'clair', 'holm', 'multipl', 'hood', 'advis', 'junk', 'sunday', 'blah', 'grim', 'examin', 'string', 'defend', 'campi', 'aka', 'hip', 'lugosi', 'irish', 'tight', 'confid', 'rachel', 'shut', 'varieti', 'icon', 'pro', 'shake', 'jaw', 'denni', 'goal', 'medic', 'directli', 'attach', 'mexican', 'sullivan', 'sentenc', 'terrorist', 'courag', 'truck', 'sarah', 'prior', 'legendari', 'breast', 'vietnam', 'dean', 'duke', 'bourn', 'un', 'hong', 'donald', 'proceed', 'split', 'entri', 'nose', 'yell', 'behav', 'gather', 'concentr', 'buri', 'confess', 'unconvinc', 'borrow', 'swim', 'everywher', 'jerk', 'crush', 'stolen', 'forth', 'lifetim', 'california', 'turkey', 'julia', 'lip', 'pan', 'spite', 'deliveri', 'china', 'proud', 'offici', 'reward', 'flight', 'freeman', 'downright', 'hoffman', 'quest', 'notori', 'worthwhil', 'sir', 'inept', 'jon', 'sink', 'encourag', 'fade', 'fabul', 'jail', 'lazi', 'betray', 'teeth', 'branagh', 'imageri', 'relev', 'shower', 'lisa', 'storm', 'bell', 'susan', 'retard', 'bag', 'survivor', 'cousin', 'shark', 'toler', 'alright', 'finger', 'mexico', 'trade', 'quirki', 'facial', 'stab', 'tremend', 'summari', 'hugh', 'bride', 'pose', 'von', 'bitter', 'blown', 'ha', 'hyster', 'scheme', 'ned', 'bone', 'address', 'ron', 'afterward', 'cruel', 'larri', 'christ', 'feed', 'traci', 'snake', 'pursu', 'distinct', 'tour', 'beg', 'screw', 'thumb', 'swear', 'mechan', 'obscur', 'photo', 'chair', 'occas', 'stomach', 'raw', 'heavili', 'argument', 'chain', 'render', 'gruesom', 'necessarili', 'resist', 'cabin', 'holiday', 'southern', 'hardi', 'sidney', 'racist', 'understood', 'satan', 'indulg', 'india', 'philip', 'pregnant', 'integr', 'midnight', 'obnoxi', 'lay', 'outfit', 'belov', 'tongu', 'forgot', 'fourth', 'stalk', 'inhabit', 'magazin', 'garden', 'ticket', 'deeper', '17', 'slapstick', 'carol', 'restor', 'lincoln', 'incid', 'shoe', 'devot', 'brad', 'anticip', 'guarante', 'divorc', 'underground', 'maria', 'disbelief', 'sandler', 'benefit', 'elizabeth', 'lili', 'explod', 'amazingli', 'mildli', 'princip', 'greater', 'creation', 'bbc', 'capit', 'slave', 'cring', 'introduct', 'halfway', 'lesli', 'funnier', 'extraordinari', 'transfer', 'tap', 'wreck', 'punish', 'enhanc', 'text', 'advantag', 'overwhelm', 'extent', 'preview', 'lo', 'horrif', 'jessica', 'plant', 'error', 'deliber', 'east', 'lane', 'dynam', 'basi', 'vacat', 'homosexu', 'appli', 'vincent', 'miscast', 'ensu', 'sophist', '2000', 'miller', 'uncomfort', 'measur', 'sleazi', 'extend', 'elev', 'mansion', 'via', 'steel', 'spoken', 'bollywood', 'reed', 'dentist', 'alter', 'goofi', 'breathtak', 'beer', 'melt', 'hippi', 'conceiv', 'overact', 'mous', 'stanley', 'cathol', 'assign', 'fix', 'daili', 'savag', 'blair', 'everyday', 'properli', 'carpent', 'nowaday', 'subsequ', 'inspector', 'oppos', 'burt', 'sacrific', 'succe', 'circl', 'massacr', 'block', 'neck', 'laura', 'pool', 'portrait', 'grey', 'mob', 'lesser', 'fay', 'access', 'concert', 'fallen', 'christi', 'seagal', 'isol', 'usa', 'react', 'chees', 'sinist', 'competit', 'relax', 'jewish', 'jake', '2006', 'nine', 'stink', 'nonetheless', 'immens', 'spiritu', 'appal', 'ironi', 'suitabl', 'chop', 'lyric', 'creep', 'spring', 'reduc', 'adopt', 'showcas', 'sold', 'needless', 'rage', 'franchis', 'user', 'navi', 'shirt', 'nut', 'retir', 'luci', 'per', 'zone', 'nurs', 'bath', 'uninspir', 'asham', 'stanwyck', 'bulli', 'jay', 'digit', 'amongst', 'sutherland', 'laid', 'oddli', '2001', '1940', 'illustr', 'broadcast', 'upper', 'aspir', 'stylish', 'throat', 'fulfil', 'disguis', 'baker', 'brando', 'wwii', 'pound', '18', 'em', 'wanna', 'neighborhood', 'thief', 'nobl', 'impli', 'pride', 'endear', 'cinematograph', 'prop', 'dawn', 'shift', 'tens', 'dinner', 'albeit', 'bett', 'bo', 'shoulder', 'diseas', 'distribut', '16', 'coher', 'rochest', 'silenc', 'matthau', 'wash', 'poignant', 'snow', 'contract', 'shout', 'forti', 'function', 'knife', 'rebel', 'surf', 'internet', 'heat', 'duti', 'cannib', 'cancel', 'chuck', 'reunion', 'henc', 'silver', 'horrend', 'derek', 'widmark', 'instinct', 'eeri', 'mindless', 'height', 'proof', 'elvira', 'incoher', 'musician', 'greatli', 'innov', 'torn', 'glori', 'neat', 'etern', 'absorb', 'mill', 'premier', 'repetit', 'alik', 'pie', 'spielberg', 'elvi', 'homag', 'racism', 'redempt', 'diamond', 'blank', 'horrifi', 'fbi', 'trite', 'lovabl', 'burton', 'nelson', 'wealthi', 'infam', 'announc', 'crisi', 'itali', 'britain', 'precis', 'bang', 'flop', 'parallel', 'helen', 'wilder', 'resolut', 'ensembl', 'happili', 'pat', 'hammer', 'chaplin', 'dedic', 'streisand', 'factori', 'cube', 'mar', 'triumph', 'broke', 'oil', 'plastic', 'carter', 'disagre', 'conclud', 'st', 'weight', 'row', 'rocket', 'chuckl', 'march', 'fighter', 'bush', 'own', 'vega', 'climb', 'unforgett', 'boot', 'spare', 'kurt', 'wherea', 'enorm', 'mst3k', 'thug', 'luca', 'lust', 'dane', 'dump', 'meaning', 'sensibl', 'stress', 'butt', 'rap', 'fifti', 'dear', 'caricatur', 'arnold', 'threat', 'difficulti', 'brand', 'engin', 'bobbi', 'adequ', 'karloff', 'secretari', 'flynn', 'homeless', 'arrog', 'swing', 'journalist', 'ralph', 'barri', 'polish', 'ego', 'fest', 'hamlet', 'elabor', 'resort', 'unbear', 'float', 'tool', 'induc', 'simpson', 'grate', 'spike', 'fanci', 'arrang', 'puppet', 'conspiraci', 'choreograph', 'guilt', 'boll', 'phillip', 'cruis', 'basement', 'pig', 'tribut', 'exercis', 'muppet', 'korean', 'layer', 'toilet', '24', 'editor', 'ham', 'item', 'fianc', 'babe', 'document', 'slip', 'tower', 'scarecrow', 'medium', 'puzzl', 'file', 'ward', 'stan', 'spark', 'minim', 'librari', 'orient', 'superfici', 'portion', 'transit', 'inexplic', 'slaughter', 'catherin', 'doc', 'territori', 'denzel', 'philosoph', 'glover', 'persona', 'assur', 'larger', 'walken', 'owe', 'jet', 'pg', 'dorothi', 'financi', 'wolf', 'shi', 'boredom', 'sneak', 'ban', 'jeremi', 'curti', 'hudson', 'profound', 'multi', 'cusack', 'backdrop', 'eleph', 'whale', 'metaphor', 'ambigu', 'elsewher', 'rave', 'hack', 'birthday', '2005', 'ultra', 'implaus', 'gadget', 'viru', 'stiff', 'union', 'notion', 'disc', 'slight', 'eastwood', '1st', 'canada', 'pad', 'eva', 'deriv', 'reader', 'lloyd', 'newspap', 'squar', 'poison', 'superhero', 'hawk', 'distanc', 'urg', 'bibl', 'afford', 'spread', 'button', 'essenc', 'sadist', 'charisma', 'health', 'skit', 'cure', 'heston', 'montag', 'drown', 'restaur', 'huh', 'fetch', 'maniac', 'gradual', 'muslim', 'godfath', 'scoobi', 'estat', 'lab', 'dealt', 'invest', 'peak', 'companion', 'servant', 'miik', 'countless', 'alli', 'gothic', 'ritter', 'cup', 'tea', 'kane', 'subtleti', 'heroic', 'charismat', 'iii', 'elect', 'salli', 'briefli', 'electr', 'nuanc', 'admittedli', 'bud', 'resourc', 'neil', 'cole', 'toss', 'tender', 'grandmoth', 'ingredi', 'wannab', 'reel', 'stood', 'reev', 'pauli', 'pit', 'poverti', 'punk', 'shall', 'mafia', 'mild', 'carrey', 'stronger', 'label', 'kubrick', 'dawson', 'gate', 'easier', 'outcom', 'updat', 'smash', 'fond', 'cox', 'ian', 'useless', 'smooth', 'tag', 'terri', 'burst', 'astair', 'cardboard', 'assault', 'bakshi', 'divers', 'melodramat', 'coincid', 'fist', 'rex', 'vulner', '2002', 'resolv', 'qualifi', 'vari', 'samurai', 'sketch', 'exchang', 'increasingli', 'insert', 'blast', 'conveni', 'tame', 'scratch', 'be', 'brillianc', 'suspend', 'templ', 'reynold', 'luckili', 'nuclear', 'soprano', 'matthew', 'walker', 'farm', 'seventi', 'jami', 'hamilton', 'strictli', 'ambiti', 'gotta', 'meat', 'pin', 'fisher', 'coach', 'monk', 'kudo', 'spooki', 'instantli', 'convolut', 'grasp', 'timeless', 'worthless', 'struck', 'butcher', 'recreat', 'joey', 'clock', 'closet', 'ninja', 'empir', 'eccentr', 'brosnan', 'revers', 'cave', 'discoveri', 'importantli', 'norman', 'partli', 'bleak', 'miracl', 'evok', 'communist', 'gray', 'wipe', 'mitchel', 'eighti', 'sidekick', 'fifteen', 'selfish', 'clown', 'seller', 'declar', 'inconsist', 'sloppi', 'pal', 'cliff', 'farc', 'flawless', 'psychiatrist', 'websit', 'debat', 'lifestyl', '45', 'destin', 'chew', 'australia', 'enthusiast', 'piano', 'ho', 'cheek', 'aforement', 'superbl', 'seed', 'stoog', 'incompet', 'slice', 'kitchen', 'splatter', 'drivel', 'dash', 'akshay', 'wick', 'wrestl', 'dire', 'anni', 'abc', 'pressur', 'emili', 'soviet', 'directori', 'regardless', 'bash', 'ken', 'flower', 'dave', 'lou', 'seduc', 'doo', 'recov', 'beaten', 'jar', 'helicopt', 'suppli', 'pleasantli', 'boil', 'cia', 'curios', 'judi', 'duo', 'glow', 'cameron', 'prize', 'increas', 'artifici', 'blob', 'cagney', 'chapter', 'mann', 'distant', 'combat', 'drunken', 'perri', 'eleg', 'craig', 'ranger', 'laurel', 'turner', 'craven', 'panic', 'web', 'favour', 'glenn', 'goldberg', 'psychot', 'splendid', 'ellen', 'hop', 'francisco', '20th', 'gentl', 'plausibl', 'graduat', 'gandhi', 'ruth', 'fx', 'hatr', 'slightest', 'alexand', 'min', 'rid', 'falk', 'wizard', 'philosophi', 'flip', 'modesti', 'shortli', 'greek', 'harm', 'holi', 'legal', 'we', 'knight', 'ocean', 'manhattan', 'tall', 'jealou', 'preciou', 'fund', 'futurist', 'unpleas', 'lend', 'felix', 'dracula', 'forbidden', 'nod', 'scientif', 'ami', 'mock', 'childish', 'explicit', 'bless', 'thread', 'reviv', 'digniti', 'giallo', 'tank', 'overdon', 'repeatedli', '99', '2004', 'awaken', 'unwatch', 'nerv', 'torment', 'broad', 'awe', 'yesterday', 'thick', 'mel', 'verhoeven', 'pirat', 'elderli', 'fever', 'eve', 'margaret', 'royal', 'eas', 'publish', 'rivet', 'griffith', 'ah', 'roman', 'uniform', 'romero', 'launch', 'ambit', 'bin', 'stiller', 'absenc', 'kay', 'lean', 'timothi', 'automat', 'custom', 'politician', 'acclaim', 'homicid', 'foul', 'transport', 'wallac', 'stinker', 'sunshin', 'antic', 'bathroom', 'darker', 'purpl', 'gabriel', 'crook', 'pierc', 'phrase', 'pulp', 'termin', 'warren', 'tomato', 'coloni', '2003', 'q', 'awak', 'juvenil', 'li', 'viciou', 'ought', 'album', 'rambo', 'horrid', 'prom', 'packag', 'revolutionari', 'sixti', 'hollow', 'kenneth', 'contrari', 'pray', 'evolv', 'choreographi', 'saint', 'brazil', 'karen', 'donna', 'marin', 'eyr', 'stole', 'blade', 'mildr', 'candid', 'mummi', 'boast', 'twelv', 'dose', 'overr', 'defi', 'nerd', 'kapoor', 'conserv', 'beatti', 'ramon', 'option', 'ireland', 'fulci', 'global', 'trio', 'funer', 'detract', 'flame', 'astonish', 'natali', 'jazz', 'collabor', 'confirm', 'kirk', 'altman', 'protest', 'spit', 'tommi', 'delici', 'shade', 'nicholson', 'destini', 'bottl', 'bull', 'leap', 'audio', 'mystic', 'enterpris', 'yellow', 'whip', 'blake', 'racial', 'fonda', 'altogeth', 'popcorn', 'merci', 'todd', 'enchant', 'vivid', 'reunit', 'neo', 'threw', 'visibl', 'bedroom', 'harder', 'swedish', 'meaningless', 'inherit', 'pseudo', 'staff', 'adolesc', 'leonard', 'ruthless', 'wire', 'bust', 'await', 'kennedi', 'tip', 'respond', 'reserv', 'roommat', 'exhibit', 'befriend', 'madonna', 'decor', 'moodi', 'uneven', 'lawrenc', 'edi', 'synopsi', 'jew', 'fanat', 'atlanti', 'suspici', 'lemmon', 'voight', 'crocodil', 'clumsi', 'ventur', 'bargain', 'audit', 'chao', 'abysm', 'centr', '2007', 'garner', 'bold', 'clint', 'unsettl', 'incident', 'rural', 'carl', 'palma', 'voyag', 'bradi', 'holli', 'dimens', 'ant', 'mall', 'versu', 'echo', 'characterist', 'poetic', 'wealth', 'cari', 'elimin', 'cuba', 'tiger', 'lit', 'troop', 'nearbi', 'cd', 'imperson', 'daddi', 'acknowledg', '2nd', 'trail', 'humili', 'immigr', 'hart', 'neglect', 'timon', 'mistaken', 'prejudic', 'paus', 'infect', 'repuls', 'domest', 'saga', 'jeffrey', 'solo', 'marshal', 'pun', 'celluloid', 'mickey', 'collaps', 'homer', 'pant', 'olivi', 'cake', 'sore', '1996', 'undoubtedli', 'chest', 'ginger', 'hbo', 'tribe', 'gear', 'milk', 'apolog', 'inappropri', 'coffe', 'promin', 'equip', 'leon', 'inan', 'interrupt', 'coat', 'assembl', 'harvey', 'maggi', 'vulgar', 'polanski', 'trace', 'solut', 'brooklyn', 'exot', 'colleagu', 'pen', 'humbl', 'consum', 'instant', 'aveng', 'colonel', 'florida', 'airplan', 'highest', 'retain', 'furthermor', 'devast', 'primari', 'institut', 'embrac', 'jenni', 'pot', 'cope', 'dutch', 'gender', 'seduct', 'smaller', 'illog', '1999', 'ya', 'descend', 'sale', 'dian', 'wive', 'bowl', 'disabl', 'strain', 'rick', 'principl', 'poke', 'godzilla', '3rd', 'linda', 'outer', 'dive', 'secondli', 'devoid', 'gloriou', 'cue', 'predecessor', 'beneath', 'inferior', 'yard', 'mixtur', 'bubbl', 'lol', 'dud', 'vast', 'blatant', 'primarili', 'hal', 'scope', 'rabbit', 'glamor', 'gundam', 'disjoint', 'casual', 'invas', 'alert', 'shelf', 'senseless', 'breed', 'museum', 'talki', 'shirley', 'domino', 'simplist', 'et', 'countrysid', 'myer', 'grinch', 'alfr', 'aggress', 'trademark', 'arab', 'hideou', 'z', 'april', 'pearl', 'garbo', 'streep', 'slide', 'sh', 'uwe', 'defens', 'rendit', 'stir', 'vanish', 'khan', 'applaud', 'disgrac', 'acid', 'hopeless', 'illeg', 'obtain', 'boom', 'robinson', 'mayor', 'experiment', 'robberi', 'mail', 'hardcor', 'loyal', 'stellar', 'maci', 'unhappi', 'stack', 'oz', 'rifl', 'wont', 'incomprehens', 'span', 'psychic', 'dismiss', 'emphasi', 'tenant', 'recruit', 'craze', 'topless', 'spider', 'soccer', 'scroog', 'tempt', 'blew', 'hartley', 'berlin', 'diana', 'counter', 'amanda', 'dicken', 'grandfath', 'fri', 'declin', 'intim', 'ration', 'resurrect', 'revolt', 'ethnic', 'shed', 'niro', 'bitch', 'faster', 'sympath', 'sibl', 'woo', 'trashi', 'justin', 'goer', 'porno', 'parad', 'lumet', 'shaw', 'wet', 'riot', 'hopper', 'wendi', 'immort', 'gap', 'partial', 'feminist', 'weakest', 'eager', 'steam', 'ensur', 'region', 'honesti', '00', 'jonathan', 'hesit', 'wheel', 'worm', 'patriot', 'rider', 'unreal', 'biographi', 'slick', 'mario', 'enlighten', 'choru', 'commend', 'andr', 'farmer', 'ballet', 'nephew', 'dealer', 'lena', 'composit', 'vice', 'wore', 'blunt', 'mutant', 'repress', 'similarli', 'nostalg', 'util', 'prequel', 'safeti', 'confin', 'properti', 'snap', 'owen', 'skull', 'hung', 'victori', 'kingdom', 'sandra', 'sappi', 'franco', 'psychopath', 'charlott', 'leo', 'morri', 'macarthur', 'strand', 'rope', 'speci', 'cg', 'bonu', 'drain', 'dust', 'despair', 'pattern', 'nervou', 'hyde', 'bow', 'tail', 'emperor', 'heartbreak', 'tad', 'compens', 'campbel', 'del', 'whoopi', 'bergman', 'snl', 'miseri', 'valuabl', 'repli', 'rambl', 'compass', 'kyle', 'acquir', 'drum', 'bumbl', '1972', 'rocki', 'exit', 'montana', 'farrel', 'latin', 'recycl', 'deed', 'thru', 'dalton', 'gimmick', 'gal', 'radic', 'roth', 'percept', 'wacki', 'contempl', 'bleed', 'downhil', 'carradin', 'oppress', '35', 'rotten', 'da', 'orson', 'tonight', 'rapist', 'romp', 'martian', 'chess', 'mistress', 'slug', 'airport', 'pour', 'olli', 'taught', 'arc', 'banal', 'stilt', 'tackl', 'melodi', 'pervers', 'mislead', 'dazzl', 'arguabl', 'champion', 'heal', 'shelley', 'preach', 'pervert', 'paltrow', 'unpredict', 'edgar', 'belt', 'attorney', 'slash', 'tooth', 'programm', '1983', 'pursuit', 'plight', 'graham', 'sensat', 'closest', 'mesmer', 'maid', 'virginia', 'marti', 'chicken', 'poem', 'passeng', 'vocal', 'vengeanc', 'employe', 'cleverli', 'uplift', 'franki', 'duval', 'dixon', 'raymond', 'rubi', 'bela', 'orang', 'tiresom', 'gambl', 'conneri', 'abraham', 'profan', 'calm', 'volum', 'paranoia', 'habit', 'climact', 'yawn', 'outing', 'mute', 'pokemon', 'iran', 'monologu', 'extens', 'gerard', 'bay', 'quarter', '1968', 'numb', 'swallow', 'suffic', 'whine', 'tube', 'convincingli', 'scottish', 'lundgren', 'engross', 'secretli', 'giggl', 'clone', 'sirk', 'crystal', 'amitabh', 'inject', 'franci', 'underst', 'nichola', 'chicago', 'junior', 'surpass', 'meander', 'im', 'lowest', 'fed', 'grotesqu', 'taxi', 'earl', 'abort', 'linger', 'expand', 'profess', 'backward', 'richardson', 'ethan', 'septemb', 'poetri', 'bend', 'dispos', 'spock', 'trend', 'frankenstein', 'plod', 'austen', 'myth', 'muddl', 'simplic', 'greedi', 'household', 'descent', 'spoke', 'tourist', 'econom', 'nostalgia', 'stallon', 'lure', 'waitress', 'der', 'hum', 'eugen', 'catchi', 'compliment', 'dysfunct', 'literatur', 'sue', 'mundan', 'rant', 'instrument', 'rubber', 'cannon', 'insur', 'furi', 'irrelev', 'firstli', 'lang', 'recognit', 'deaf', 'recognis', 'molli', 'mankind', 'equival', 'mortal', 'eaten', 'occupi', 'bacal', 'cent', 'carel', 'crucial', 'dictat', 'phoni', 'randi', 'dement', 'sissi', 'june', 'omen', 'coast', 'stale', 'map', 'phantom', 'flee', 'damon', 'hello', 'duck', 'alongsid', 'louis', 'lengthi', 'dreari', 'twilight', 'likewis', 'newli', 'rooney', 'rude', 'onlin', 'grayson', 'drake', 'bike', 'cyborg', 'loyalti', 'distinguish', 'reign', 'freez', 'ashley', 'daisi', 'heel', 'wisdom', 'blackmail', 'bump', 'labor', 'buffalo', 'damm', 'biko', '1973', 'antwon', 'ridden', 'incorpor', 'baddi', 'chronicl', 'worn', 'tunnel', 'startl', 'interior', 'proce', 'prey', 'exposur', 'vein', 'approv', 'provoc', 'sailor', 'pink', 'barrymor', 'nineti', 'basketbal', 'attribut', 'emphas', 'keith', 'analysi', 'unorigin', 'butler', 'inher', 'boxer', 'fleet', 'simmon', 'walsh', 'hypnot', 'unrel', 'nicol', 'carla', 'predat', 'othello', 'elm', 'drift', 'condemn', 'meg', 'robbin', 'indiffer', 'improvis', 'undeni', 'underli', 'substitut', 'belushi', 'millionair', 'julian', 'degrad', 'er', 'meyer', 'stalker', 'barrel', 'mormon', 'mighti', 'bunni', 'disord', 'priceless', 'hay', 'shove', '3d', 'lampoon', 'alison', 'nyc', 'vital', 'firm', 'reid', 'greed', 'errol', 'warmth', 'roof', 'watson', 'alarm', 'agenda', 'novak', 'palac', 'exquisit', 'unawar', 'dolph', 'edgi', 'enthusiasm', 'mtv', 'marion', 'rukh', 'sergeant', 'peck', 'eastern', 'thompson', 'spain', 'nun', 'unleash', '13th', 'petti', 'minimum', 'cassidi', 'simultan', 'what', '1933', 'ponder', 'gestur', 'orlean', 'peril', 'campaign', 'iraq', 'valentin', 'beatl', 'testament', 'showdown', 'drip', 'preserv', 'angela', 'distort', 'randomli', 'israel', 'profit', 'pamela', 'glanc', 'championship', 'coup', 'session', 'crown', 'zizek', 'regist', 'rout', 'travesti', 'reson', 'calib', 'valley', 'climat', 'realm', 'contradict', 'stake', 'wig', 'crawl', 'miyazaki', 'cream', 'scotland', 'quinn', 'cooki', 'mon', 'buster', 'perpetu', 'jan', 'fido', 'bro', 'stroke', 'shootout', 'empathi', 'crow', 'gentleman', 'restrain', 'represent', '1984', 'brenda', 'han', 'kurosawa', 'sabrina', 'exposit', 'unimagin', 'din', 'pole', '1987', 'delic', 'baldwin', 'distress', 'perceiv', 'ross', 'businessman', 'mclaglen', 'unsatisfi', 'geek', 'wax', 'passabl', 'warrant', 'traumat', 'shoddi', 'compromis', 'fuller', 'soderbergh', 'ustinov', 'josh', 'darren', 'cloud', 'painter', 'sucker', 'femm', 'shaki', '1997', 'demis', 'monoton', 'spacey', 'pretens', 'absent', 'sammi', 'censor', 'derang', 'unseen', 'greg', 'dana', 'tacki', 'stargat', 'abomin', 'meryl', 'crawford', 'norm', 'valid', 'exclus', 'click', 'jewel', 'unravel', 'expedit', 'sid', 'seal', 'tarantino', 'judgment', 'fenc', 'accuraci', 'dee', 'polici', 'austin', 'correctli', 'anchor', 'wholli', 'clash', 'deceas', 'fog', 'primit', 'tech', 'uncov', 'furiou', 'reluct', 'nathan', 'deniro', '1993', 'antonioni', 'kumar', 'verbal', 'sheet', 'trait', 'alec', 'bake', 'clerk', 'shanghai', 'pocket', 'mode', '1971', 'wretch', '3000', 'seldom', 'vanc', 'behold', 'ritual', 'conduct', 'logan', 'unfair', 'hallucin', 'roller', 'fart', 'murray', 'patienc', 'joel', 'enforc', 'dreck', 'slam', 'nicola', 'sustain', 'tax', 'temper', 'sand', '2008', 'fabric', 'wang', 'crippl', '1995', 'debt', 'darn', 'fought', 'sunni', 'malon', 'exhaust', 'squad', 'outlin', 'scriptwrit', 'grief', 'guitar', 'stark', 'preston', 'runner', 'isabel', 'shell', 'phil', 'sweep', 'legaci', 'helpless', 'tactic', 'stuart', 'despis', 'soup', 'divid', 'bias', 'critiqu', 'conscious', 'canyon', 'clau', 'technicolor', 'bridget', 'preposter', 'rita', 'pete', 'penni', 'fundament', 'robber', 'schedul', 'alicia', 'boyl', 'sugar', 'cigarett', 'culmin', 'inabl', 'bloom', 'rehash', 'passag', 'drove', 'flair', 'sentinel', 'palanc', 'vomit', 'unexpectedli', 'marc', 'alley', 'rear', 'propos', 'newman', 'russia', 'jacket', 'implic', 'delv', 'gregori', 'sniper', 'agenc', 'lacklust', 'liberti', 'downey', 'consciou', 'connor', 'invad', 'kansa', 'restrict', 'jodi', 'feat', 'rampag', 'asylum', 'awhil', 'aesthet', '1936', 'tendenc', 'horn', '22', 'arrow', 'improb', 'karl', 'sharon', 'foxx', 'ladder', 'chainsaw', 'vet', 'behaviour', 'delet', 'rod', 'rehears', 'pale', 'mccoy', 'tripe', 'bacon', 'cap', 'yeti', 'wrench', 'lush', 'kolchak', 'stream', 'visitor', 'weav', 'scoop', 'basing', '1988', 'filler', 'hungri', 'rhythm', 'paramount', 'tasteless', 'shortcom', 'lurk', 'financ', 'spice', 'amazon', 'tomorrow', 'underneath', '19th', 'sung', 'loneli', 'fright', 'wagner', '1920', '1978', 'conscienc', 'minu', 'paradis', 'suffici', 'hulk', 'wildli', 'aristocrat', 'hackney', 'suspicion', 'coaster', 'rumor', 'newcom', 'prank', 'globe', 'el', 'elit', 'thunderbird', 'straightforward', 'counterpart', 'choppi', 'secondari', 'impos', 'abrupt', 'inmat', 'beverli', 'worship', 'ingeni', 'dirt', 'minist', 'en', 'lectur', 'ram', 'quietli', '1989', 'grudg', 'literari', 'wwe', '1939', 'immers', 'entranc', 'penn', 'atroc', 'springer', 'brit', 'leigh', 'hopkin', 'recogniz', 'bread', 'standout', 'curli', 'tierney', 'cancer', 'posey', 'smell', 'chamberlain', 'couch', '75', 'iv', 'heist', 'teas', 'paxton', 'rub', 'chavez', 'naughti', 'transcend', 'variat', 'policeman', 'net', 'ace', 'skeptic', 'moreov', 'sublim', 'bernard', 'convert', 'cattl', 'lindsay', 'enthral', 'entitl', 'laurenc', 'misguid', 'watcher', 'heartfelt', 'morbid', 'yearn', 'nolan', 'clan', 'injuri', 'quaid', '1986', 'esther', 'missil', 'sassi', 'nemesi', 'duel', 'attenborough', 'geni', 'ratso', 'moder', 'reliabl', 'kidman', 'enabl', 'characteris', 'hopelessli', 'graini', 'buzz', 'obstacl', 'setup', 'bean', 'steadi', 'bye', 'vader', 'diari', 'mytholog', 'poe', 'egg', 'unexplain', 'spiral', 'youngest', 'uncut', 'tyler', '1979', 'out', 'facil', 'artsi', 'rosemari', 'grin', 'carlito', 'brood', 'puppi', 'kitti', 'dont', 'cruelti', 'hk', 'bronson', 'preming', 'decept', 'disastr', 'exterior', 'heap', 'brendan', 'clueless', 'sweat', 'underworld', 'spontan', 'oblig', 'despic', 'martha', 'christin', '1969', 'effici', 'hammi', 'weather', 'narrow', 'patricia', 'bewar', 'fuel', 'acquaint', 'athlet', 'baffl', 'bounc', 'kline', 'niec', 'gillian', 'hain', 'gina', 'circu', 'astound', 'injur', '73', 'preachi', 'housewif', 'headach', 'trigger', 'taboo', 'sleepwalk', '19', 'tick', 'fontain', 'enlist', 'angst', 'harmless', 'biker', 'analyz', 'candl', 'hepburn', 'mayhem', 'loath', 'suprem', 'dilemma', 'renaiss', 'sooner', 'viewpoint', 'shatter', 'outlaw', 'loi', 'goof', 'scar', 'dandi', 'insipid', 'mermaid', 'rome', 'uh', 'virtu', 'lester', 'dismal', 'phenomenon', 'glorifi', 'overlong', 'stimul', 'stair', 'ebert', 'claustrophob', 'boston', 'scorses', 'spade', 'whore', 'hooker', 'steer', 'tripl', 'amor', 'dish', 'immatur', 'oldest', 'contempt', 'intric', 'macho', 'hostag', 'idol', 'redund', 'foolish', 'zoom', 'fluff', 'salt', 'gere', 'hokey', 'guin', 'bent', 'surgeri', 'slimi', 'sox', 'filth', 'camcord', 'ariel', 'cassavet', 'corbett', 'preced', 'keen', 'messi', 'spinal', 'perman', 'zane', 'harold', 'mount', 'muscl', 'proport', 'gasp', 'spree', 'mutual', 'shield', 'rhyme', 'faint', '1981', 'remad', 'cohen', 'conquer', 'widescreen', 'radiat', 'strongest', 'antagonist', '1976', 'schlock', 'flag', 'margin', 'down', 'shred', 'frantic', 'joker', 'nolt', 'fascist', 'dwarf', 'transplant', 'assert', 'naschi', 'trivia', 'astronaut', 'cow', 'flirt', 'flashi', 'obligatori', 'cush', 'alvin', 'beard', 'corman', 'gabl', 'bitten', 'divin', 'someday', 'off', 'discern', 'instruct', 'ritchi', '95', 'archiv', 'scandal', 'triangl', 'wield', 'boob', '1945', 'inflict', 'www', 'deer', 'vaniti', 'interestingli', 'fishburn', 'hara', 'resum', 'strive', 'info', 'mobil', 'flock', 'departur', 'danish', 'persuad', 'bachelor', 'claud', 'neurot', 'aborigin', 'raj', 'carey', '28', 'repris', 'sensual', 'brush', 'barn', 'mol', 'hilar', 'dame', 'pixar', 'cher', 'loretta', 'submit', 'pacif', 'helm', 'rot', 'bate', 'luka', 'casino', 'mobster', 'miracul', 'jade', 'cb', 'senior', 'vibrant', 'clad', 'kathryn', 'cycl', 'wendigo', 'cliffhang', 'harrison', 'dylan', 'artwork', 'undermin', 'axe', 'parson', 'fragil', 'proclaim', 'frontier', 'earnest', 'hug', 'ish', 'banter', 'biblic', 'dim', 'recit', 'prophet', 'pickford', 'hapless', 'neill', 'europa', 'melissa', 'colin', 'anton', 'heartwarm', 'traffic', 'carlo', 'timberlak', 'aris', 'winchest', 'antholog', 'misfortun', 'northern', 'redneck', 'alexandr', 'mathieu', 'flavor', 'choke', 'vile', 'rooki', 'mason', 'seedi', 'akin', 'lucil', 'holocaust', 'articl', 'venom', 'vanessa', 'bondag', 'electron', 'token', 'sicken', 'legitim', 'razor', 'eli', 'illus', 'toronto', 'shepherd', 'estrang', 'trier', 'lui', 'bikini', 'jordan', 'jo', 'breakfast', 'blatantli', 'wardrob', 'uma', 'static', 'marlon', 'foil', 'nope', 'cerebr', 'pc', 'http', 'feast', 'isra', 'orphan', 'milo', 'abund', 'psych', 'audrey', 'leather', 'huston', 'ideolog', 'highway', 'magician', 'ceremoni', 'swept', 'retriev', 'frog', 'fifth', 'wrestler', 'dudley', 'oppon', 'nightclub', 'shorter', 'howl', 'outdat', 'peer', 'glare', 'smack', 'affleck', 'deem', 'linear', 'feminin', 'disregard', 'charlton', 'knightley', 'gilbert', 'boyer', 'turd', 'cartoonish', 'comprehend', 'clinic', 'tack', 'styliz', 'gunga', 'braveheart', 'uniformli', '1994', 'lighter', 'whack', 'energet', 'breakdown', 'plate', 'newer', 'cemeteri', 'monument', 'conrad', 'boo', 'einstein', 'compris', 'snatch', 'moe', 'cuban', 'evolut', 'client', 'spine', 'greet', 'lavish', 'spawn', '1991', 'corn', 'btw', 'chip', 'goldsworthi', 'durat', 'collector', 'senat', 'summar', 'sleaz', '4th', 'bogu', 'lifeless', 'potter', 'toe', 'phenomen', 'bastard', 'deliver', 'salman', 'tara', 'mitch', 'bulk', 'trauma', 'neatli', 'fluid', 'wtf', 'ol', 'pronounc', 'undead', 'judd', 'firmli', 'jedi', 'signal', 'ie', 'randolph', 'appl', '1977', 'embark', 'nina', 'outright', 'luxuri', 'constitut', 'sorrow', 'capot', 'undertak', 'lex', 'armstrong', 'mcqueen', 'occup', 'inaccuraci', 'jam', 'healthi', 'alleg', 'replay', 'historian', 'cecil', 'clara', 'gilliam', 'belli', 'kent', '1974', 'eleven', 'spectacl', 'bori', 'kazan', 'liu', 'evelyn', 'jare', 'jule', 'creek', 'tokyo', 'spray', '1985', 'forgiven', 'vain', 'porter', 'unattract', 'subtli', 'sacrif', 'pioneer', 'conan', 'antonio', 'goldblum', 'relentless', 'vignett', 'congratul', 'fruit', 'unsuspect', 'paula', 'curtain', 'ash', 'bait', 'aussi', 'cape', 'truman', 'meal', 'kiddi', 'roar', 'inaccur', 'id', 'poker', 'groan', 'inclus', 'comprehens', 'pepper', 'palm', 'mum', 'basket', 'galaxi', 'propheci', 'sidewalk', 'blur', 'knee', 'walt', 'lauren', 'comb', 'lanc', 'miniseri', 'abound', 'decapit', 'genet', 'carmen', 'miami', 'bsg', 'rosario', 'macabr', 'mice', 'scariest', 'sparkl', 'verg', 'drone', 'cypher', 'orchestr', 'epitom', 'jill', 'substanti', 'reincarn', 'weaker', 'weari', 'incorrect', 'dubiou', 'motorcycl', 'profil', 'masterson', 'vastli', 'growth', 'spill', 'modest', 'evan', 'asset', 'hostil', 'sophi', 'assort', 'playboy', 'optimist', 'frontal', 'detach', 'victorian', 'rapidli', 'bravo', 'handicap'])"
      ]
     },
     "execution_count": 14,
     "metadata": {},
     "output_type": "execute_result"
    }
   ],
   "source": [
    "word_dict.keys()"
   ]
  },
  {
   "cell_type": "markdown",
   "metadata": {},
   "source": [
    "**Question:** What are the five most frequently appearing (tokenized) words in the training set? Does it makes sense that these words appear frequently in the training set?"
   ]
  },
  {
   "cell_type": "markdown",
   "metadata": {},
   "source": [
    "***************\n",
    "**Answer:**  \n",
    "******************\n",
    "As we can see from below results,  Following are top five most frequently appearing (tokenized) words in the training set :  \n",
    "\n",
    "'movi', \n",
    "'film', \n",
    "'one', \n",
    "'like', \n",
    "'time'\n",
    "\n",
    "It does make sense that these words appear frequently since this is related to movies review where people will enter comments with these words.  Example :  \"I like movie\"  or  \"this film is good\"  or 'this is my all time favourite movie\" ,  "
   ]
  },
  {
   "cell_type": "code",
   "execution_count": 15,
   "metadata": {},
   "outputs": [
    {
     "data": {
      "text/plain": [
       "['movi', 'film', 'one', 'like', 'time']"
      ]
     },
     "execution_count": 15,
     "metadata": {},
     "output_type": "execute_result"
    }
   ],
   "source": [
    "# TODO: Use this space to determine the five most frequently appearing words in the training set.\n",
    "list(word_dict.keys())[0:5]"
   ]
  },
  {
   "cell_type": "markdown",
   "metadata": {},
   "source": [
    "### Save `word_dict`\n",
    "\n",
    "Later on when we construct an endpoint which processes a submitted review we will need to make use of the `word_dict` which we have created. As such, we will save it to a file now for future use."
   ]
  },
  {
   "cell_type": "code",
   "execution_count": 16,
   "metadata": {},
   "outputs": [],
   "source": [
    "data_dir = '../data/pytorch' # The folder we will use for storing data\n",
    "if not os.path.exists(data_dir): # Make sure that the folder exists\n",
    "    os.makedirs(data_dir)"
   ]
  },
  {
   "cell_type": "code",
   "execution_count": 17,
   "metadata": {},
   "outputs": [],
   "source": [
    "with open(os.path.join(data_dir, 'word_dict.pkl'), \"wb\") as f:\n",
    "    pickle.dump(word_dict, f)"
   ]
  },
  {
   "cell_type": "markdown",
   "metadata": {},
   "source": [
    "### Transform the reviews\n",
    "\n",
    "Now that we have our word dictionary which allows us to transform the words appearing in the reviews into integers, it is time to make use of it and convert our reviews to their integer sequence representation, making sure to pad or truncate to a fixed length, which in our case is `500`."
   ]
  },
  {
   "cell_type": "code",
   "execution_count": 18,
   "metadata": {},
   "outputs": [],
   "source": [
    "def convert_and_pad(word_dict, sentence, pad=500):\n",
    "    NOWORD = 0 # We will use 0 to represent the 'no word' category\n",
    "    INFREQ = 1 # and we use 1 to represent the infrequent words, i.e., words not appearing in word_dict\n",
    "    \n",
    "    working_sentence = [NOWORD] * pad\n",
    "    \n",
    "    for word_index, word in enumerate(sentence[:pad]):\n",
    "        if word in word_dict:\n",
    "            working_sentence[word_index] = word_dict[word]\n",
    "        else:\n",
    "            working_sentence[word_index] = INFREQ\n",
    "            \n",
    "    return working_sentence, min(len(sentence), pad)\n",
    "\n",
    "def convert_and_pad_data(word_dict, data, pad=500):\n",
    "    result = []\n",
    "    lengths = []\n",
    "    \n",
    "    for sentence in data:\n",
    "        converted, leng = convert_and_pad(word_dict, sentence, pad)\n",
    "        result.append(converted)\n",
    "        lengths.append(leng)\n",
    "        \n",
    "    return np.array(result), np.array(lengths)"
   ]
  },
  {
   "cell_type": "code",
   "execution_count": 19,
   "metadata": {},
   "outputs": [
    {
     "name": "stdout",
     "output_type": "stream",
     "text": [
      "{'movi': 2, 'film': 3, 'one': 4, 'like': 5, 'time': 6, 'good': 7, 'make': 8, 'charact': 9, 'get': 10, 'see': 11, 'watch': 12, 'stori': 13, 'even': 14, 'would': 15, 'realli': 16, 'well': 17, 'scene': 18, 'look': 19, 'show': 20, 'much': 21, 'end': 22, 'peopl': 23, 'bad': 24, 'go': 25, 'great': 26, 'also': 27, 'first': 28, 'love': 29, 'think': 30, 'way': 31, 'act': 32, 'play': 33, 'made': 34, 'thing': 35, 'could': 36, 'know': 37, 'say': 38, 'seem': 39, 'work': 40, 'plot': 41, 'two': 42, 'actor': 43, 'year': 44, 'come': 45, 'mani': 46, 'seen': 47, 'take': 48, 'want': 49, 'life': 50, 'never': 51, 'littl': 52, 'best': 53, 'tri': 54, 'man': 55, 'ever': 56, 'give': 57, 'better': 58, 'still': 59, 'perform': 60, 'find': 61, 'feel': 62, 'part': 63, 'back': 64, 'use': 65, 'someth': 66, 'director': 67, 'actual': 68, 'interest': 69, 'lot': 70, 'real': 71, 'old': 72, 'cast': 73, 'though': 74, 'live': 75, 'star': 76, 'enjoy': 77, 'guy': 78, 'anoth': 79, 'new': 80, 'role': 81, 'noth': 82, '10': 83, 'funni': 84, 'music': 85, 'point': 86, 'start': 87, 'set': 88, 'girl': 89, 'origin': 90, 'day': 91, 'world': 92, 'everi': 93, 'believ': 94, 'turn': 95, 'quit': 96, 'us': 97, 'direct': 98, 'thought': 99, 'fact': 100, 'minut': 101, 'horror': 102, 'kill': 103, 'action': 104, 'comedi': 105, 'pretti': 106, 'young': 107, 'wonder': 108, 'happen': 109, 'around': 110, 'got': 111, 'effect': 112, 'right': 113, 'long': 114, 'howev': 115, 'big': 116, 'line': 117, 'famili': 118, 'enough': 119, 'seri': 120, 'may': 121, 'need': 122, 'fan': 123, 'bit': 124, 'script': 125, 'beauti': 126, 'person': 127, 'becom': 128, 'without': 129, 'must': 130, 'alway': 131, 'friend': 132, 'tell': 133, 'reason': 134, 'saw': 135, 'last': 136, 'final': 137, 'kid': 138, 'almost': 139, 'put': 140, 'least': 141, 'sure': 142, 'done': 143, 'whole': 144, 'place': 145, 'complet': 146, 'kind': 147, 'expect': 148, 'differ': 149, 'shot': 150, 'far': 151, 'mean': 152, 'anyth': 153, 'book': 154, 'laugh': 155, 'might': 156, 'name': 157, 'sinc': 158, 'begin': 159, '2': 160, 'probabl': 161, 'woman': 162, 'help': 163, 'entertain': 164, 'let': 165, 'screen': 166, 'call': 167, 'tv': 168, 'moment': 169, 'away': 170, 'read': 171, 'yet': 172, 'rather': 173, 'worst': 174, 'run': 175, 'fun': 176, 'lead': 177, 'hard': 178, 'audienc': 179, 'idea': 180, 'anyon': 181, 'episod': 182, 'american': 183, 'found': 184, 'appear': 185, 'bore': 186, 'especi': 187, 'although': 188, 'hope': 189, 'keep': 190, 'cours': 191, 'anim': 192, 'job': 193, 'goe': 194, 'move': 195, 'sens': 196, 'dvd': 197, 'version': 198, 'war': 199, 'money': 200, 'someon': 201, 'mind': 202, 'mayb': 203, 'problem': 204, 'true': 205, 'hous': 206, 'everyth': 207, 'nice': 208, 'second': 209, 'rate': 210, 'three': 211, 'night': 212, 'follow': 213, 'face': 214, 'recommend': 215, 'main': 216, 'product': 217, 'worth': 218, 'leav': 219, 'human': 220, 'special': 221, 'excel': 222, 'togeth': 223, 'wast': 224, 'everyon': 225, 'sound': 226, 'john': 227, 'hand': 228, '1': 229, 'father': 230, 'later': 231, 'eye': 232, 'said': 233, 'view': 234, 'instead': 235, 'review': 236, 'boy': 237, 'high': 238, 'hour': 239, 'miss': 240, 'talk': 241, 'classic': 242, 'wife': 243, 'understand': 244, 'left': 245, 'care': 246, 'black': 247, 'death': 248, 'open': 249, 'murder': 250, 'write': 251, 'half': 252, 'head': 253, 'rememb': 254, 'chang': 255, 'viewer': 256, 'fight': 257, 'gener': 258, 'surpris': 259, 'short': 260, 'includ': 261, 'die': 262, 'fall': 263, 'less': 264, 'els': 265, 'entir': 266, 'piec': 267, 'involv': 268, 'pictur': 269, 'simpli': 270, 'home': 271, 'power': 272, 'top': 273, 'total': 274, 'usual': 275, 'budget': 276, 'attempt': 277, 'suppos': 278, 'releas': 279, 'hollywood': 280, 'terribl': 281, 'song': 282, 'men': 283, 'possibl': 284, 'featur': 285, 'portray': 286, 'disappoint': 287, '3': 288, 'poor': 289, 'coupl': 290, 'camera': 291, 'stupid': 292, 'dead': 293, 'wrong': 294, 'produc': 295, 'low': 296, 'either': 297, 'video': 298, 'aw': 299, 'definit': 300, 'except': 301, 'rest': 302, 'given': 303, 'absolut': 304, 'women': 305, 'lack': 306, 'word': 307, 'writer': 308, 'titl': 309, 'talent': 310, 'decid': 311, 'full': 312, 'perfect': 313, 'along': 314, 'style': 315, 'close': 316, 'truli': 317, 'school': 318, 'save': 319, 'emot': 320, 'age': 321, 'sex': 322, 'next': 323, 'bring': 324, 'mr': 325, 'case': 326, 'killer': 327, 'heart': 328, 'comment': 329, 'sort': 330, 'creat': 331, 'perhap': 332, 'came': 333, 'brother': 334, 'sever': 335, 'joke': 336, 'art': 337, 'dialogu': 338, 'game': 339, 'small': 340, 'base': 341, 'flick': 342, 'written': 343, 'sequenc': 344, 'meet': 345, 'earli': 346, 'often': 347, 'other': 348, 'mother': 349, 'develop': 350, 'humor': 351, 'actress': 352, 'consid': 353, 'dark': 354, 'guess': 355, 'amaz': 356, 'unfortun': 357, 'light': 358, 'lost': 359, 'exampl': 360, 'cinema': 361, 'drama': 362, 'ye': 363, 'white': 364, 'experi': 365, 'imagin': 366, 'mention': 367, 'stop': 368, 'natur': 369, 'forc': 370, 'manag': 371, 'felt': 372, 'present': 373, 'cut': 374, 'children': 375, 'fail': 376, 'son': 377, 'qualiti': 378, 'car': 379, 'support': 380, 'ask': 381, 'hit': 382, 'side': 383, 'voic': 384, 'extrem': 385, 'impress': 386, 'wors': 387, 'evil': 388, 'went': 389, 'stand': 390, 'certainli': 391, 'basic': 392, 'oh': 393, 'overal': 394, 'favorit': 395, 'horribl': 396, 'mysteri': 397, 'number': 398, 'type': 399, 'danc': 400, 'wait': 401, 'hero': 402, 'alreadi': 403, '5': 404, 'learn': 405, 'matter': 406, '4': 407, 'michael': 408, 'genr': 409, 'fine': 410, 'despit': 411, 'throughout': 412, 'walk': 413, 'success': 414, 'histori': 415, 'question': 416, 'zombi': 417, 'town': 418, 'relationship': 419, 'realiz': 420, 'child': 421, 'past': 422, 'daughter': 423, 'late': 424, 'b': 425, 'wish': 426, 'credit': 427, 'hate': 428, 'event': 429, 'theme': 430, 'touch': 431, 'citi': 432, 'today': 433, 'sometim': 434, 'behind': 435, 'god': 436, 'twist': 437, 'sit': 438, 'annoy': 439, 'stay': 440, 'deal': 441, 'abl': 442, 'rent': 443, 'pleas': 444, 'edit': 445, 'blood': 446, 'deserv': 447, 'anyway': 448, 'comic': 449, 'appar': 450, 'soon': 451, 'gave': 452, 'etc': 453, 'level': 454, 'slow': 455, 'chanc': 456, 'score': 457, 'bodi': 458, 'brilliant': 459, 'incred': 460, 'figur': 461, 'situat': 462, 'major': 463, 'self': 464, 'stuff': 465, 'decent': 466, 'element': 467, 'dream': 468, 'return': 469, 'obvious': 470, 'continu': 471, 'order': 472, 'pace': 473, 'ridicul': 474, 'happi': 475, 'group': 476, 'add': 477, 'highli': 478, 'thank': 479, 'ladi': 480, 'novel': 481, 'speak': 482, 'pain': 483, 'career': 484, 'shoot': 485, 'strang': 486, 'heard': 487, 'sad': 488, 'polic': 489, 'husband': 490, 'import': 491, 'break': 492, 'took': 493, 'cannot': 494, 'strong': 495, 'robert': 496, 'predict': 497, 'violenc': 498, 'hilari': 499, 'recent': 500, 'countri': 501, 'known': 502, 'particularli': 503, 'pick': 504, 'documentari': 505, 'season': 506, 'critic': 507, 'jame': 508, 'compar': 509, 'obviou': 510, 'alon': 511, 'told': 512, 'state': 513, 'visual': 514, 'rock': 515, 'offer': 516, 'exist': 517, 'theater': 518, 'opinion': 519, 'gore': 520, 'hold': 521, 'crap': 522, 'result': 523, 'hear': 524, 'realiti': 525, 'room': 526, 'effort': 527, 'clich': 528, 'thriller': 529, 'caus': 530, 'sequel': 531, 'explain': 532, 'serious': 533, 'king': 534, 'local': 535, 'ago': 536, 'none': 537, 'hell': 538, 'note': 539, 'allow': 540, 'david': 541, 'sister': 542, 'simpl': 543, 'femal': 544, 'deliv': 545, 'ok': 546, 'convinc': 547, 'class': 548, 'check': 549, 'suspens': 550, 'win': 551, 'oscar': 552, 'buy': 553, 'huge': 554, 'valu': 555, 'sexual': 556, 'cool': 557, 'scari': 558, 'similar': 559, 'excit': 560, 'provid': 561, 'exactli': 562, 'apart': 563, 'shown': 564, 'avoid': 565, 'seriou': 566, 'english': 567, 'whose': 568, 'taken': 569, 'cinematographi': 570, 'shock': 571, 'polit': 572, 'spoiler': 573, 'offic': 574, 'across': 575, 'middl': 576, 'pass': 577, 'street': 578, 'messag': 579, 'somewhat': 580, 'charm': 581, 'silli': 582, 'modern': 583, 'confus': 584, 'filmmak': 585, 'form': 586, 'tale': 587, 'singl': 588, 'jack': 589, 'mostli': 590, 'attent': 591, 'william': 592, 'carri': 593, 'sing': 594, 'subject': 595, 'five': 596, 'prove': 597, 'richard': 598, 'team': 599, 'stage': 600, 'unlik': 601, 'cop': 602, 'georg': 603, 'televis': 604, 'monster': 605, 'earth': 606, 'villain': 607, 'cover': 608, 'pay': 609, 'marri': 610, 'toward': 611, 'build': 612, 'pull': 613, 'parent': 614, 'due': 615, 'fill': 616, 'respect': 617, 'four': 618, 'dialog': 619, 'remind': 620, 'futur': 621, 'weak': 622, 'typic': 623, '7': 624, 'cheap': 625, 'intellig': 626, 'british': 627, 'atmospher': 628, 'clearli': 629, '80': 630, 'non': 631, 'dog': 632, 'paul': 633, 'artist': 634, 'knew': 635, '8': 636, 'fast': 637, 'crime': 638, 'easili': 639, 'escap': 640, 'adult': 641, 'doubt': 642, 'detail': 643, 'date': 644, 'member': 645, 'fire': 646, 'romant': 647, 'drive': 648, 'gun': 649, 'straight': 650, 'beyond': 651, 'fit': 652, 'attack': 653, 'imag': 654, 'upon': 655, 'posit': 656, 'whether': 657, 'fantast': 658, 'peter': 659, 'aspect': 660, 'appreci': 661, 'captur': 662, 'ten': 663, 'plan': 664, 'discov': 665, 'remain': 666, 'period': 667, 'near': 668, 'air': 669, 'realist': 670, 'mark': 671, 'red': 672, 'dull': 673, 'adapt': 674, 'within': 675, 'lose': 676, 'spend': 677, 'materi': 678, 'color': 679, 'chase': 680, 'mari': 681, 'storylin': 682, 'forget': 683, 'bunch': 684, 'clear': 685, 'lee': 686, 'victim': 687, 'nearli': 688, 'box': 689, 'york': 690, 'match': 691, 'inspir': 692, 'finish': 693, 'mess': 694, 'standard': 695, 'easi': 696, 'truth': 697, 'suffer': 698, 'busi': 699, 'dramat': 700, 'bill': 701, 'space': 702, 'western': 703, 'e': 704, 'list': 705, 'battl': 706, 'notic': 707, 'de': 708, 'french': 709, 'ad': 710, '9': 711, 'tom': 712, 'larg': 713, 'among': 714, 'eventu': 715, 'accept': 716, 'train': 717, 'agre': 718, 'spirit': 719, 'soundtrack': 720, 'third': 721, 'teenag': 722, 'soldier': 723, 'adventur': 724, 'suggest': 725, 'sorri': 726, 'drug': 727, 'famou': 728, 'normal': 729, 'cri': 730, 'babi': 731, 'troubl': 732, 'ultim': 733, 'contain': 734, 'certain': 735, 'cultur': 736, 'romanc': 737, 'rare': 738, 'lame': 739, 'somehow': 740, 'disney': 741, 'mix': 742, 'gone': 743, 'cartoon': 744, 'student': 745, 'reveal': 746, 'fear': 747, 'kept': 748, 'suck': 749, 'attract': 750, 'appeal': 751, 'premis': 752, 'greatest': 753, 'secret': 754, 'design': 755, 'shame': 756, 'throw': 757, 'scare': 758, 'copi': 759, 'wit': 760, 'america': 761, 'admit': 762, 'particular': 763, 'relat': 764, 'brought': 765, 'screenplay': 766, 'whatev': 767, 'pure': 768, '70': 769, 'averag': 770, 'harri': 771, 'master': 772, 'describ': 773, 'male': 774, 'treat': 775, '20': 776, 'issu': 777, 'fantasi': 778, 'warn': 779, 'inde': 780, 'forward': 781, 'background': 782, 'free': 783, 'project': 784, 'memor': 785, 'japanes': 786, 'poorli': 787, 'award': 788, 'locat': 789, 'amus': 790, 'potenti': 791, 'struggl': 792, 'weird': 793, 'magic': 794, 'societi': 795, 'okay': 796, 'imdb': 797, 'accent': 798, 'doctor': 799, 'hot': 800, 'water': 801, 'express': 802, 'alien': 803, '30': 804, 'dr': 805, 'odd': 806, 'choic': 807, 'crazi': 808, 'studio': 809, 'fiction': 810, 'becam': 811, 'control': 812, 'masterpiec': 813, 'difficult': 814, 'fli': 815, 'joe': 816, 'scream': 817, 'costum': 818, 'lover': 819, 'uniqu': 820, 'refer': 821, 'remak': 822, 'vampir': 823, 'girlfriend': 824, 'prison': 825, 'execut': 826, 'wear': 827, 'jump': 828, 'unless': 829, 'wood': 830, 'creepi': 831, 'cheesi': 832, 'superb': 833, 'otherwis': 834, 'parti': 835, 'ghost': 836, 'roll': 837, 'mad': 838, 'public': 839, 'depict': 840, 'badli': 841, 'week': 842, 'moral': 843, 'jane': 844, 'earlier': 845, 'dumb': 846, 'fi': 847, 'flaw': 848, 'grow': 849, 'sci': 850, 'deep': 851, 'maker': 852, 'cat': 853, 'connect': 854, 'footag': 855, 'older': 856, 'bother': 857, 'plenti': 858, 'outsid': 859, 'stick': 860, 'gay': 861, 'catch': 862, 'co': 863, 'plu': 864, 'popular': 865, 'equal': 866, 'social': 867, 'disturb': 868, 'quickli': 869, 'perfectli': 870, 'dress': 871, 'era': 872, '90': 873, 'mistak': 874, 'lie': 875, 'previou': 876, 'ride': 877, 'combin': 878, 'concept': 879, 'band': 880, 'surviv': 881, 'answer': 882, 'rich': 883, 'front': 884, 'sweet': 885, 'christma': 886, 'insid': 887, 'concern': 888, 'bare': 889, 'eat': 890, 'beat': 891, 'listen': 892, 'ben': 893, 'c': 894, 'serv': 895, 'term': 896, 'meant': 897, 'german': 898, 'la': 899, 'hardli': 900, 'stereotyp': 901, 'innoc': 902, 'law': 903, 'desper': 904, 'promis': 905, 'memori': 906, 'intent': 907, 'cute': 908, 'steal': 909, 'inform': 910, 'variou': 911, 'brain': 912, 'post': 913, 'tone': 914, 'island': 915, 'amount': 916, 'compani': 917, 'nuditi': 918, 'track': 919, 'claim': 920, 'store': 921, '50': 922, 'hair': 923, 'flat': 924, 'univers': 925, 'land': 926, 'scott': 927, 'kick': 928, 'danger': 929, 'fairli': 930, 'player': 931, 'step': 932, 'crew': 933, 'plain': 934, 'toni': 935, 'share': 936, 'centuri': 937, 'tast': 938, 'achiev': 939, 'engag': 940, 'travel': 941, 'cold': 942, 'rip': 943, 'record': 944, 'suit': 945, 'manner': 946, 'sadli': 947, 'spot': 948, 'wrote': 949, 'tension': 950, 'fascin': 951, 'intens': 952, 'familiar': 953, 'depth': 954, 'burn': 955, 'remark': 956, 'destroy': 957, 'histor': 958, 'sleep': 959, 'purpos': 960, 'languag': 961, 'ruin': 962, 'ignor': 963, 'delight': 964, 'unbeliev': 965, 'italian': 966, 'soul': 967, 'collect': 968, 'abil': 969, 'clever': 970, 'detect': 971, 'violent': 972, 'rape': 973, 'reach': 974, 'door': 975, 'trash': 976, 'liter': 977, 'scienc': 978, 'commun': 979, 'caught': 980, 'reveng': 981, 'creatur': 982, 'approach': 983, 'trip': 984, 'intrigu': 985, 'fashion': 986, 'introduc': 987, 'paint': 988, 'skill': 989, 'complex': 990, 'channel': 991, 'camp': 992, 'christian': 993, 'hole': 994, 'extra': 995, 'immedi': 996, 'mental': 997, 'limit': 998, 'ann': 999, 'slightli': 1000, 'million': 1001, '6': 1002, 'mere': 1003, 'comput': 1004, 'conclus': 1005, 'slasher': 1006, 'suddenli': 1007, 'imposs': 1008, 'neither': 1009, 'crimin': 1010, 'teen': 1011, 'spent': 1012, 'physic': 1013, 'nation': 1014, 'respons': 1015, 'planet': 1016, 'receiv': 1017, 'fake': 1018, 'blue': 1019, 'sick': 1020, 'bizarr': 1021, 'embarrass': 1022, 'indian': 1023, 'ring': 1024, '15': 1025, 'pop': 1026, 'drop': 1027, 'drag': 1028, 'haunt': 1029, 'suspect': 1030, 'pointless': 1031, 'search': 1032, 'edg': 1033, 'handl': 1034, 'common': 1035, 'biggest': 1036, 'arriv': 1037, 'hurt': 1038, 'faith': 1039, 'technic': 1040, 'angel': 1041, 'dad': 1042, 'genuin': 1043, 'f': 1044, 'awesom': 1045, 'solid': 1046, 'focu': 1047, 'van': 1048, 'former': 1049, 'colleg': 1050, 'count': 1051, 'heavi': 1052, 'tear': 1053, 'wall': 1054, 'rais': 1055, 'visit': 1056, 'laughabl': 1057, 'younger': 1058, 'excus': 1059, 'fair': 1060, 'sign': 1061, 'cult': 1062, 'tough': 1063, 'motion': 1064, 'key': 1065, 'desir': 1066, 'super': 1067, 'stun': 1068, 'addit': 1069, 'exploit': 1070, 'cloth': 1071, 'tortur': 1072, 'smith': 1073, 'race': 1074, 'davi': 1075, 'cross': 1076, 'author': 1077, 'jim': 1078, 'consist': 1079, 'minor': 1080, 'compel': 1081, 'focus': 1082, 'commit': 1083, 'chemistri': 1084, 'pathet': 1085, 'park': 1086, 'obsess': 1087, 'tradit': 1088, 'frank': 1089, 'grade': 1090, 'asid': 1091, '60': 1092, 'brutal': 1093, 'somewher': 1094, 'steve': 1095, 'rule': 1096, 'opportun': 1097, 'u': 1098, 'grant': 1099, 'depress': 1100, 'explor': 1101, 'honest': 1102, 'besid': 1103, 'dub': 1104, 'anti': 1105, 'trailer': 1106, 'intend': 1107, 'bar': 1108, 'west': 1109, 'longer': 1110, 'regard': 1111, 'scientist': 1112, 'judg': 1113, 'decad': 1114, 'silent': 1115, 'armi': 1116, 'creativ': 1117, 'wild': 1118, 'stewart': 1119, 'south': 1120, 'g': 1121, 'draw': 1122, 'road': 1123, 'govern': 1124, 'boss': 1125, 'ex': 1126, 'practic': 1127, 'gang': 1128, 'surprisingli': 1129, 'festiv': 1130, 'motiv': 1131, 'club': 1132, 'redeem': 1133, 'green': 1134, 'london': 1135, 'page': 1136, 'idiot': 1137, 'machin': 1138, 'display': 1139, 'militari': 1140, 'aliv': 1141, 'thrill': 1142, 'repeat': 1143, 'nobodi': 1144, '100': 1145, 'folk': 1146, 'yeah': 1147, '40': 1148, 'garbag': 1149, 'journey': 1150, 'tire': 1151, 'smile': 1152, 'ground': 1153, 'bought': 1154, 'mood': 1155, 'stone': 1156, 'sam': 1157, 'cost': 1158, 'noir': 1159, 'mouth': 1160, 'terrif': 1161, 'agent': 1162, 'requir': 1163, 'utterli': 1164, 'honestli': 1165, 'area': 1166, 'sexi': 1167, 'geniu': 1168, 'report': 1169, 'humour': 1170, 'glad': 1171, 'enter': 1172, 'investig': 1173, 'serial': 1174, 'occasion': 1175, 'narr': 1176, 'passion': 1177, 'climax': 1178, 'marriag': 1179, 'studi': 1180, 'industri': 1181, 'nowher': 1182, 'demon': 1183, 'center': 1184, 'ship': 1185, 'charli': 1186, 'hors': 1187, 'loos': 1188, 'bear': 1189, 'hang': 1190, 'wow': 1191, 'graphic': 1192, 'admir': 1193, 'giant': 1194, 'send': 1195, 'loud': 1196, 'damn': 1197, 'profession': 1198, 'rel': 1199, 'subtl': 1200, 'nake': 1201, 'blow': 1202, 'bottom': 1203, 'insult': 1204, 'batman': 1205, 'doubl': 1206, 'kelli': 1207, 'r': 1208, 'boyfriend': 1209, 'initi': 1210, 'frame': 1211, 'opera': 1212, 'gem': 1213, 'drawn': 1214, 'affect': 1215, 'church': 1216, 'cinemat': 1217, 'challeng': 1218, 'nightmar': 1219, 'j': 1220, 'fulli': 1221, 'l': 1222, 'seek': 1223, 'evid': 1224, 'conflict': 1225, 'essenti': 1226, 'arm': 1227, 'henri': 1228, 'christoph': 1229, 'wind': 1230, 'grace': 1231, 'narrat': 1232, 'assum': 1233, 'witch': 1234, 'hunt': 1235, 'push': 1236, 'chri': 1237, 'wise': 1238, 'month': 1239, 'repres': 1240, 'nomin': 1241, 'avail': 1242, 'affair': 1243, 'sceneri': 1244, 'hide': 1245, 'smart': 1246, 'justic': 1247, 'thu': 1248, 'bond': 1249, 'interview': 1250, 'outstand': 1251, 'flashback': 1252, 'satisfi': 1253, 'constantli': 1254, 'presenc': 1255, 'central': 1256, 'bed': 1257, 'iron': 1258, 'sell': 1259, 'content': 1260, 'everybodi': 1261, 'gag': 1262, 'slowli': 1263, 'hotel': 1264, 'hire': 1265, 'system': 1266, 'individu': 1267, 'charl': 1268, 'thrown': 1269, 'hey': 1270, 'adam': 1271, 'mediocr': 1272, 'jone': 1273, 'allen': 1274, 'lesson': 1275, 'billi': 1276, 'ray': 1277, 'cameo': 1278, 'photographi': 1279, 'pari': 1280, 'fellow': 1281, 'strike': 1282, 'absurd': 1283, 'rise': 1284, 'brief': 1285, 'independ': 1286, 'neg': 1287, 'phone': 1288, 'impact': 1289, 'born': 1290, 'ill': 1291, 'model': 1292, 'spoil': 1293, 'fresh': 1294, 'angl': 1295, 'likabl': 1296, 'abus': 1297, 'hill': 1298, 'discuss': 1299, 'ahead': 1300, 'sight': 1301, 'photograph': 1302, 'sent': 1303, 'occur': 1304, 'shine': 1305, 'logic': 1306, 'blame': 1307, 'mainli': 1308, 'bruce': 1309, 'skip': 1310, 'forev': 1311, 'commerci': 1312, 'held': 1313, 'teacher': 1314, 'surround': 1315, 'segment': 1316, 'zero': 1317, 'blond': 1318, 'summer': 1319, 'trap': 1320, 'satir': 1321, 'resembl': 1322, 'queen': 1323, 'six': 1324, 'ball': 1325, 'fool': 1326, 'twice': 1327, 'sub': 1328, 'tragedi': 1329, 'reaction': 1330, 'pack': 1331, 'bomb': 1332, 'will': 1333, 'hospit': 1334, 'protagonist': 1335, 'mile': 1336, 'sport': 1337, 'vote': 1338, 'jerri': 1339, 'mom': 1340, 'trust': 1341, 'drink': 1342, 'encount': 1343, 'plane': 1344, 'program': 1345, 'station': 1346, 'current': 1347, 'al': 1348, 'celebr': 1349, 'choos': 1350, 'martin': 1351, 'join': 1352, 'lord': 1353, 'field': 1354, 'favourit': 1355, 'tragic': 1356, 'round': 1357, 'jean': 1358, 'robot': 1359, 'vision': 1360, 'tie': 1361, 'arthur': 1362, 'fortun': 1363, 'random': 1364, 'roger': 1365, 'dread': 1366, 'psycholog': 1367, 'intern': 1368, 'nonsens': 1369, 'improv': 1370, 'epic': 1371, 'prefer': 1372, 'pleasur': 1373, 'highlight': 1374, 'legend': 1375, 'formula': 1376, 'dollar': 1377, 'tape': 1378, '11': 1379, 'gorgeou': 1380, 'thin': 1381, 'object': 1382, 'porn': 1383, 'fox': 1384, 'wide': 1385, 'ugli': 1386, 'buddi': 1387, 'influenc': 1388, 'prepar': 1389, 'nasti': 1390, 'ii': 1391, 'supposedli': 1392, 'warm': 1393, 'progress': 1394, 'reflect': 1395, 'youth': 1396, 'worthi': 1397, 'length': 1398, 'latter': 1399, 'unusu': 1400, 'crash': 1401, 'childhood': 1402, 'superior': 1403, 'seven': 1404, 'shop': 1405, 'theatr': 1406, 'remot': 1407, 'funniest': 1408, 'pilot': 1409, 'paid': 1410, 'disgust': 1411, 'trick': 1412, 'fell': 1413, 'convers': 1414, 'castl': 1415, 'disast': 1416, 'establish': 1417, 'gangster': 1418, 'rob': 1419, 'suicid': 1420, 'disappear': 1421, 'mine': 1422, 'ident': 1423, 'heaven': 1424, 'heroin': 1425, 'forgotten': 1426, 'tend': 1427, 'decis': 1428, 'singer': 1429, 'mask': 1430, 'partner': 1431, 'brian': 1432, 'recogn': 1433, 'desert': 1434, 'alan': 1435, 'ms': 1436, 'thoroughli': 1437, 'sky': 1438, 'p': 1439, 'stuck': 1440, 'accur': 1441, 'replac': 1442, 'market': 1443, 'clue': 1444, 'seemingli': 1445, 'commentari': 1446, 'andi': 1447, 'uncl': 1448, 'danni': 1449, 'eddi': 1450, 'jackson': 1451, 'devil': 1452, 'therefor': 1453, 'that': 1454, 'refus': 1455, 'pair': 1456, 'fault': 1457, 'accid': 1458, 'river': 1459, 'fate': 1460, 'unit': 1461, 'ed': 1462, 'tune': 1463, 'afraid': 1464, 'stephen': 1465, 'russian': 1466, 'clean': 1467, 'hidden': 1468, 'readi': 1469, 'convey': 1470, 'instanc': 1471, 'test': 1472, 'quick': 1473, 'irrit': 1474, 'captain': 1475, 'european': 1476, 'frustrat': 1477, 'daniel': 1478, 'insan': 1479, 'food': 1480, '1950': 1481, 'chines': 1482, 'wed': 1483, 'rescu': 1484, 'angri': 1485, 'dirti': 1486, 'lock': 1487, 'joy': 1488, 'price': 1489, 'steven': 1490, 'bland': 1491, 'cage': 1492, 'rang': 1493, 'anymor': 1494, 'wooden': 1495, 'rush': 1496, 'news': 1497, 'n': 1498, 'jason': 1499, 'worri': 1500, 'martial': 1501, '12': 1502, 'board': 1503, 'led': 1504, 'twenti': 1505, 'cgi': 1506, 'transform': 1507, 'hunter': 1508, 'symbol': 1509, 'invent': 1510, 'onto': 1511, 'piti': 1512, 'sentiment': 1513, 'x': 1514, 'johnni': 1515, 'process': 1516, 'explan': 1517, 'attitud': 1518, 'owner': 1519, 'awar': 1520, 'aim': 1521, 'necessari': 1522, 'floor': 1523, 'favor': 1524, 'target': 1525, 'energi': 1526, 'religi': 1527, 'opposit': 1528, 'insight': 1529, 'blind': 1530, 'chick': 1531, 'window': 1532, 'movement': 1533, 'research': 1534, 'possess': 1535, 'deepli': 1536, 'comparison': 1537, 'mountain': 1538, 'whatsoev': 1539, 'rain': 1540, 'grand': 1541, 'comed': 1542, 'mid': 1543, 'bank': 1544, 'shadow': 1545, 'began': 1546, 'princ': 1547, 'parodi': 1548, 'pre': 1549, 'weapon': 1550, 'friendship': 1551, 'taylor': 1552, 'credibl': 1553, 'flesh': 1554, 'dougla': 1555, 'teach': 1556, 'bloodi': 1557, 'protect': 1558, 'terror': 1559, 'hint': 1560, 'marvel': 1561, 'leader': 1562, 'anybodi': 1563, 'accord': 1564, 'load': 1565, 'watchabl': 1566, 'drunk': 1567, 'superman': 1568, 'freddi': 1569, 'brown': 1570, 'seat': 1571, 'tim': 1572, 'jeff': 1573, 'appropri': 1574, 'hitler': 1575, 'charg': 1576, 'knock': 1577, 'villag': 1578, 'unknown': 1579, 'keaton': 1580, 'empti': 1581, 'unnecessari': 1582, 'enemi': 1583, 'england': 1584, 'media': 1585, 'strength': 1586, 'wave': 1587, 'dare': 1588, 'buck': 1589, 'utter': 1590, 'perspect': 1591, 'craft': 1592, 'correct': 1593, 'nativ': 1594, 'kiss': 1595, 'ford': 1596, 'contrast': 1597, 'soap': 1598, 'knowledg': 1599, 'chill': 1600, 'distract': 1601, 'anywher': 1602, 'speed': 1603, 'magnific': 1604, 'nazi': 1605, 'mission': 1606, 'breath': 1607, '1980': 1608, 'ice': 1609, 'fred': 1610, 'moon': 1611, 'joan': 1612, 'jr': 1613, 'crowd': 1614, 'soft': 1615, '000': 1616, 'frighten': 1617, 'kate': 1618, 'hundr': 1619, 'dick': 1620, 'dan': 1621, 'nick': 1622, 'dozen': 1623, 'radio': 1624, 'somebodi': 1625, 'simon': 1626, 'shakespear': 1627, 'thousand': 1628, 'andrew': 1629, 'loss': 1630, 'academi': 1631, 'root': 1632, 'account': 1633, 'quot': 1634, 'sum': 1635, 'vehicl': 1636, 'convent': 1637, 'leg': 1638, 'behavior': 1639, '1970': 1640, 'regular': 1641, 'gold': 1642, 'compet': 1643, 'worker': 1644, 'pretenti': 1645, 'demand': 1646, 'lynch': 1647, 'stretch': 1648, 'explos': 1649, 'candi': 1650, 'notabl': 1651, 'japan': 1652, 'interpret': 1653, 'privat': 1654, 'debut': 1655, 'constant': 1656, 'tarzan': 1657, 'translat': 1658, 'spi': 1659, 'prais': 1660, 'sea': 1661, 'revolv': 1662, 'quiet': 1663, 'technolog': 1664, 'sat': 1665, 'ass': 1666, 'franc': 1667, 'threaten': 1668, 'failur': 1669, 'jesu': 1670, 'toy': 1671, 'met': 1672, 'aid': 1673, 'punch': 1674, 'higher': 1675, 'kevin': 1676, 'abandon': 1677, 'vh': 1678, 'mike': 1679, 'interact': 1680, 'separ': 1681, 'bet': 1682, 'confront': 1683, 'command': 1684, 'techniqu': 1685, 'stunt': 1686, 'gotten': 1687, 'recal': 1688, 'site': 1689, 'belong': 1690, 'servic': 1691, 'bug': 1692, 'cabl': 1693, 'freak': 1694, 'foot': 1695, 'jimmi': 1696, 'capabl': 1697, 'bright': 1698, 'african': 1699, 'fu': 1700, 'succeed': 1701, 'stock': 1702, 'boat': 1703, 'fat': 1704, 'presid': 1705, 'clark': 1706, 'structur': 1707, 'gene': 1708, 'spanish': 1709, 'kidnap': 1710, 'paper': 1711, 'factor': 1712, 'whilst': 1713, 'belief': 1714, 'attend': 1715, 'realis': 1716, 'tree': 1717, 'complic': 1718, 'realism': 1719, 'bob': 1720, 'witti': 1721, 'educ': 1722, 'broken': 1723, 'finest': 1724, 'assist': 1725, 'santa': 1726, 'up': 1727, 'smoke': 1728, 'v': 1729, 'observ': 1730, 'determin': 1731, 'depart': 1732, 'oper': 1733, 'routin': 1734, 'hat': 1735, 'rubbish': 1736, 'domin': 1737, 'fame': 1738, 'lewi': 1739, 'hook': 1740, 'kinda': 1741, 'safe': 1742, 'foreign': 1743, 'advanc': 1744, 'morgan': 1745, 'lone': 1746, 'numer': 1747, 'rank': 1748, 'shallow': 1749, 'rose': 1750, 'civil': 1751, 'washington': 1752, 'vs': 1753, 'shape': 1754, 'werewolf': 1755, 'morn': 1756, 'gari': 1757, 'kong': 1758, 'accomplish': 1759, 'ordinari': 1760, 'winner': 1761, 'peac': 1762, 'virtual': 1763, 'grab': 1764, 'whenev': 1765, 'offens': 1766, 'h': 1767, 'luck': 1768, 'activ': 1769, 'unfunni': 1770, 'patient': 1771, 'welcom': 1772, 'contriv': 1773, 'complain': 1774, 'bigger': 1775, 'con': 1776, 'dimension': 1777, 'pretend': 1778, 'trek': 1779, 'dri': 1780, 'wake': 1781, 'code': 1782, 'lesbian': 1783, 'cain': 1784, 'flash': 1785, 'eric': 1786, 'statu': 1787, 'dancer': 1788, 'manipul': 1789, 'guard': 1790, 'albert': 1791, 'corrupt': 1792, 'context': 1793, 'signific': 1794, 'awkward': 1795, 'gain': 1796, 'speech': 1797, 'sourc': 1798, 'clip': 1799, 'anthoni': 1800, 'sean': 1801, '13': 1802, 'corni': 1803, 'psycho': 1804, 'theatric': 1805, 'curiou': 1806, 'w': 1807, 'advic': 1808, 'priest': 1809, 'religion': 1810, 'reli': 1811, 'addict': 1812, 'flow': 1813, 'asian': 1814, 'skin': 1815, 'specif': 1816, 'jennif': 1817, 'howard': 1818, 'secur': 1819, 'golden': 1820, 'organ': 1821, 'promot': 1822, 'luke': 1823, 'comfort': 1824, 'core': 1825, 'cash': 1826, 'lucki': 1827, 'cheat': 1828, 'lower': 1829, 'dislik': 1830, 'associ': 1831, 'contribut': 1832, 'balanc': 1833, 'regret': 1834, 'frankli': 1835, 'wing': 1836, 'degre': 1837, 'devic': 1838, 'frequent': 1839, 'spell': 1840, 'print': 1841, 'lake': 1842, 'sake': 1843, 'forgiv': 1844, 'mass': 1845, 'thoma': 1846, 'betti': 1847, 'unexpect': 1848, 'crack': 1849, 'gordon': 1850, 'construct': 1851, 'amateur': 1852, 'unfold': 1853, 'categori': 1854, 'grown': 1855, 'depend': 1856, 'invit': 1857, 'matur': 1858, 'honor': 1859, 'walter': 1860, 'anna': 1861, 'grew': 1862, 'intellectu': 1863, 'condit': 1864, 'sole': 1865, 'veteran': 1866, 'spectacular': 1867, 'sudden': 1868, 'mirror': 1869, 'gift': 1870, 'overli': 1871, 'robin': 1872, 'demonstr': 1873, 'card': 1874, 'experienc': 1875, 'freedom': 1876, 'meanwhil': 1877, 'liner': 1878, 'grip': 1879, 'sheriff': 1880, 'circumst': 1881, 'unabl': 1882, 'theori': 1883, 'drew': 1884, 'crappi': 1885, 'colour': 1886, 'brilliantli': 1887, 'subtitl': 1888, 'section': 1889, 'oliv': 1890, 'cook': 1891, 'altern': 1892, 'pile': 1893, 'matt': 1894, 'sheer': 1895, 'parker': 1896, 'path': 1897, 'laughter': 1898, 'accident': 1899, 'relief': 1900, 'defin': 1901, 'wander': 1902, 'lawyer': 1903, 'treatment': 1904, 'hall': 1905, 'sinatra': 1906, 'captiv': 1907, 'hank': 1908, 'dragon': 1909, 'halloween': 1910, 'moor': 1911, 'gratuit': 1912, 'jacki': 1913, 'wayn': 1914, 'k': 1915, 'barbara': 1916, 'kung': 1917, 'cowboy': 1918, 'broadway': 1919, 'wound': 1920, 'unintent': 1921, 'statement': 1922, 'winter': 1923, 'canadian': 1924, 'surreal': 1925, 'spoof': 1926, 'compos': 1927, 'fare': 1928, 'gonna': 1929, 'cheer': 1930, 'fish': 1931, 'treasur': 1932, 'sensit': 1933, 'emerg': 1934, 'unrealist': 1935, 'victor': 1936, 'woodi': 1937, 'driven': 1938, 'sympathet': 1939, 'neighbor': 1940, 'ran': 1941, 'topic': 1942, 'expos': 1943, 'authent': 1944, 'overlook': 1945, 'menac': 1946, 'glass': 1947, 'handsom': 1948, 'michel': 1949, 'chief': 1950, 'ancient': 1951, 'gross': 1952, 'built': 1953, 'cinderella': 1954, 'contemporari': 1955, 'pleasant': 1956, 'nevertheless': 1957, 'stranger': 1958, 'network': 1959, 'feet': 1960, 'comedian': 1961, 'russel': 1962, 'letter': 1963, 'earn': 1964, 'blockbust': 1965, 'consider': 1966, 'gori': 1967, 'miser': 1968, 'underr': 1969, 'endless': 1970, 'solv': 1971, 'switch': 1972, 'brook': 1973, 'bullet': 1974, 'edward': 1975, 'convict': 1976, 'virgin': 1977, 'victoria': 1978, 'joseph': 1979, '0': 1980, 'scenario': 1981, 'scale': 1982, 'cynic': 1983, 'chosen': 1984, 'alex': 1985, 'gut': 1986, 'outrag': 1987, 'com': 1988, 'curs': 1989, 'sword': 1990, 'screenwrit': 1991, 'monkey': 1992, 'driver': 1993, 'wrap': 1994, 'proper': 1995, 'substanc': 1996, 'juli': 1997, 'uk': 1998, 'remov': 1999, 'par': 2000, 'indic': 2001, 'bird': 2002, 'court': 2003, 'advertis': 2004, 'consequ': 2005, 'rental': 2006, 'inevit': 2007, 'loser': 2008, 'roy': 2009, 'naiv': 2010, 'nanci': 2011, 'grave': 2012, 'slap': 2013, 'fatal': 2014, 'invis': 2015, 'le': 2016, 'germani': 2017, 'brave': 2018, 'bridg': 2019, 'ador': 2020, 'anger': 2021, 'loui': 2022, 'footbal': 2023, 'provok': 2024, 'chan': 2025, 'alcohol': 2026, 'anderson': 2027, 'stumbl': 2028, 'professor': 2029, 'ryan': 2030, 'willi': 2031, '1930': 2032, 'sharp': 2033, 'patrick': 2034, 'bat': 2035, 'australian': 2036, 'assassin': 2037, 'liber': 2038, 'eight': 2039, 'amateurish': 2040, 'refresh': 2041, 'heck': 2042, 'trilog': 2043, 'cell': 2044, 'saturday': 2045, 'deni': 2046, 'ape': 2047, 'strongli': 2048, 'lousi': 2049, 'sin': 2050, 'resid': 2051, 'san': 2052, 'vagu': 2053, 'justifi': 2054, 'reput': 2055, 'defeat': 2056, 'mini': 2057, 'indi': 2058, 'terrifi': 2059, 'sympathi': 2060, 'creator': 2061, 'endur': 2062, 'expert': 2063, 'tabl': 2064, 'prevent': 2065, 'tediou': 2066, 'task': 2067, 'trial': 2068, 'basebal': 2069, 'employ': 2070, 'offend': 2071, 'rival': 2072, 'imit': 2073, 'che': 2074, 'complaint': 2075, 'dig': 2076, 'weekend': 2077, 'fairi': 2078, 'pitch': 2079, 'max': 2080, 'europ': 2081, 'beach': 2082, 'murphi': 2083, 'format': 2084, 'purchas': 2085, 'risk': 2086, 'reminisc': 2087, 'nois': 2088, 'tini': 2089, 'bite': 2090, 'powel': 2091, 'glimps': 2092, 'hype': 2093, 'harsh': 2094, 'titan': 2095, 'till': 2096, 'strip': 2097, 'north': 2098, 'prime': 2099, '14': 2100, 'fals': 2101, 'asleep': 2102, 'africa': 2103, 'revel': 2104, 'texa': 2105, 'destruct': 2106, 'descript': 2107, 'arrest': 2108, 'sitcom': 2109, 'spin': 2110, 'excess': 2111, 'surfac': 2112, 'semi': 2113, 'uninterest': 2114, 'inner': 2115, 'massiv': 2116, 'maintain': 2117, 'argu': 2118, 'twin': 2119, 'hitchcock': 2120, 'controversi': 2121, 'makeup': 2122, 'dinosaur': 2123, 'expens': 2124, 'melodrama': 2125, 'insist': 2126, 'ludicr': 2127, 'stare': 2128, 'kim': 2129, 'ideal': 2130, 'reject': 2131, 'erot': 2132, 'ga': 2133, 'ala': 2134, 'supernatur': 2135, 'nail': 2136, 'subplot': 2137, 'forest': 2138, 'press': 2139, 'host': 2140, 'atroci': 2141, 'columbo': 2142, 'notch': 2143, 'dude': 2144, 'presum': 2145, 'identifi': 2146, 'cant': 2147, 'crude': 2148, 'method': 2149, 'forgett': 2150, 'guest': 2151, 'character': 2152, 'closer': 2153, 'plagu': 2154, 'princess': 2155, 'border': 2156, 'landscap': 2157, 'beast': 2158, 'foster': 2159, 'lion': 2160, 'ear': 2161, 'previous': 2162, 'storytel': 2163, 'aunt': 2164, 'accus': 2165, 'urban': 2166, 'damag': 2167, 'jungl': 2168, 'pacino': 2169, 'birth': 2170, 'bound': 2171, 'thirti': 2172, 'emma': 2173, 'nude': 2174, 'chose': 2175, 'doll': 2176, 'propaganda': 2177, 'jess': 2178, 'guid': 2179, 'warrior': 2180, '25': 2181, 'whoever': 2182, 'mate': 2183, 'pet': 2184, 'mainstream': 2185, 'deadli': 2186, 'poster': 2187, 'cooper': 2188, 'friday': 2189, 'size': 2190, 'merit': 2191, 'gritti': 2192, 'latest': 2193, 'exact': 2194, 'upset': 2195, 'rough': 2196, '1990': 2197, 'citizen': 2198, 'sun': 2199, 'ton': 2200, 'settl': 2201, 'buff': 2202, 'blend': 2203, 'contact': 2204, 'warner': 2205, 'corps': 2206, 'wilson': 2207, 'popul': 2208, 'contest': 2209, 'alic': 2210, 'bu': 2211, 'overcom': 2212, 'rat': 2213, 'metal': 2214, 'select': 2215, 'mgm': 2216, 'widow': 2217, 'pitt': 2218, 'environ': 2219, 'lift': 2220, 'guilti': 2221, 'link': 2222, 'particip': 2223, 'revolut': 2224, 'ted': 2225, 'matrix': 2226, 'corner': 2227, 'johnson': 2228, 'exagger': 2229, 'afternoon': 2230, 'corpor': 2231, 'prostitut': 2232, 'moron': 2233, '1960': 2234, 'accompani': 2235, 'instal': 2236, 'leagu': 2237, 'sincer': 2238, 'doom': 2239, 'friendli': 2240, 'clair': 2241, 'holm': 2242, 'multipl': 2243, 'hood': 2244, 'advis': 2245, 'junk': 2246, 'sunday': 2247, 'blah': 2248, 'grim': 2249, 'examin': 2250, 'string': 2251, 'defend': 2252, 'campi': 2253, 'aka': 2254, 'hip': 2255, 'lugosi': 2256, 'irish': 2257, 'tight': 2258, 'confid': 2259, 'rachel': 2260, 'shut': 2261, 'varieti': 2262, 'icon': 2263, 'pro': 2264, 'shake': 2265, 'jaw': 2266, 'denni': 2267, 'goal': 2268, 'medic': 2269, 'directli': 2270, 'attach': 2271, 'mexican': 2272, 'sullivan': 2273, 'sentenc': 2274, 'terrorist': 2275, 'courag': 2276, 'truck': 2277, 'sarah': 2278, 'prior': 2279, 'legendari': 2280, 'breast': 2281, 'vietnam': 2282, 'dean': 2283, 'duke': 2284, 'bourn': 2285, 'un': 2286, 'hong': 2287, 'donald': 2288, 'proceed': 2289, 'split': 2290, 'entri': 2291, 'nose': 2292, 'yell': 2293, 'behav': 2294, 'gather': 2295, 'concentr': 2296, 'buri': 2297, 'confess': 2298, 'unconvinc': 2299, 'borrow': 2300, 'swim': 2301, 'everywher': 2302, 'jerk': 2303, 'crush': 2304, 'stolen': 2305, 'forth': 2306, 'lifetim': 2307, 'california': 2308, 'turkey': 2309, 'julia': 2310, 'lip': 2311, 'pan': 2312, 'spite': 2313, 'deliveri': 2314, 'china': 2315, 'proud': 2316, 'offici': 2317, 'reward': 2318, 'flight': 2319, 'freeman': 2320, 'downright': 2321, 'hoffman': 2322, 'quest': 2323, 'notori': 2324, 'worthwhil': 2325, 'sir': 2326, 'inept': 2327, 'jon': 2328, 'sink': 2329, 'encourag': 2330, 'fade': 2331, 'fabul': 2332, 'jail': 2333, 'lazi': 2334, 'betray': 2335, 'teeth': 2336, 'branagh': 2337, 'imageri': 2338, 'relev': 2339, 'shower': 2340, 'lisa': 2341, 'storm': 2342, 'bell': 2343, 'susan': 2344, 'retard': 2345, 'bag': 2346, 'survivor': 2347, 'cousin': 2348, 'shark': 2349, 'toler': 2350, 'alright': 2351, 'finger': 2352, 'mexico': 2353, 'trade': 2354, 'quirki': 2355, 'facial': 2356, 'stab': 2357, 'tremend': 2358, 'summari': 2359, 'hugh': 2360, 'bride': 2361, 'pose': 2362, 'von': 2363, 'bitter': 2364, 'blown': 2365, 'ha': 2366, 'hyster': 2367, 'scheme': 2368, 'ned': 2369, 'bone': 2370, 'address': 2371, 'ron': 2372, 'afterward': 2373, 'cruel': 2374, 'larri': 2375, 'christ': 2376, 'feed': 2377, 'traci': 2378, 'snake': 2379, 'pursu': 2380, 'distinct': 2381, 'tour': 2382, 'beg': 2383, 'screw': 2384, 'thumb': 2385, 'swear': 2386, 'mechan': 2387, 'obscur': 2388, 'photo': 2389, 'chair': 2390, 'occas': 2391, 'stomach': 2392, 'raw': 2393, 'heavili': 2394, 'argument': 2395, 'chain': 2396, 'render': 2397, 'gruesom': 2398, 'necessarili': 2399, 'resist': 2400, 'cabin': 2401, 'holiday': 2402, 'southern': 2403, 'hardi': 2404, 'sidney': 2405, 'racist': 2406, 'understood': 2407, 'satan': 2408, 'indulg': 2409, 'india': 2410, 'philip': 2411, 'pregnant': 2412, 'integr': 2413, 'midnight': 2414, 'obnoxi': 2415, 'lay': 2416, 'outfit': 2417, 'belov': 2418, 'tongu': 2419, 'forgot': 2420, 'fourth': 2421, 'stalk': 2422, 'inhabit': 2423, 'magazin': 2424, 'garden': 2425, 'ticket': 2426, 'deeper': 2427, '17': 2428, 'slapstick': 2429, 'carol': 2430, 'restor': 2431, 'lincoln': 2432, 'incid': 2433, 'shoe': 2434, 'devot': 2435, 'brad': 2436, 'anticip': 2437, 'guarante': 2438, 'divorc': 2439, 'underground': 2440, 'maria': 2441, 'disbelief': 2442, 'sandler': 2443, 'benefit': 2444, 'elizabeth': 2445, 'lili': 2446, 'explod': 2447, 'amazingli': 2448, 'mildli': 2449, 'princip': 2450, 'greater': 2451, 'creation': 2452, 'bbc': 2453, 'capit': 2454, 'slave': 2455, 'cring': 2456, 'introduct': 2457, 'halfway': 2458, 'lesli': 2459, 'funnier': 2460, 'extraordinari': 2461, 'transfer': 2462, 'tap': 2463, 'wreck': 2464, 'punish': 2465, 'enhanc': 2466, 'text': 2467, 'advantag': 2468, 'overwhelm': 2469, 'extent': 2470, 'preview': 2471, 'lo': 2472, 'horrif': 2473, 'jessica': 2474, 'plant': 2475, 'error': 2476, 'deliber': 2477, 'east': 2478, 'lane': 2479, 'dynam': 2480, 'basi': 2481, 'vacat': 2482, 'homosexu': 2483, 'appli': 2484, 'vincent': 2485, 'miscast': 2486, 'ensu': 2487, 'sophist': 2488, '2000': 2489, 'miller': 2490, 'uncomfort': 2491, 'measur': 2492, 'sleazi': 2493, 'extend': 2494, 'elev': 2495, 'mansion': 2496, 'via': 2497, 'steel': 2498, 'spoken': 2499, 'bollywood': 2500, 'reed': 2501, 'dentist': 2502, 'alter': 2503, 'goofi': 2504, 'breathtak': 2505, 'beer': 2506, 'melt': 2507, 'hippi': 2508, 'conceiv': 2509, 'overact': 2510, 'mous': 2511, 'stanley': 2512, 'cathol': 2513, 'assign': 2514, 'fix': 2515, 'daili': 2516, 'savag': 2517, 'blair': 2518, 'everyday': 2519, 'properli': 2520, 'carpent': 2521, 'nowaday': 2522, 'subsequ': 2523, 'inspector': 2524, 'oppos': 2525, 'burt': 2526, 'sacrific': 2527, 'succe': 2528, 'circl': 2529, 'massacr': 2530, 'block': 2531, 'neck': 2532, 'laura': 2533, 'pool': 2534, 'portrait': 2535, 'grey': 2536, 'mob': 2537, 'lesser': 2538, 'fay': 2539, 'access': 2540, 'concert': 2541, 'fallen': 2542, 'christi': 2543, 'seagal': 2544, 'isol': 2545, 'usa': 2546, 'react': 2547, 'chees': 2548, 'sinist': 2549, 'competit': 2550, 'relax': 2551, 'jewish': 2552, 'jake': 2553, '2006': 2554, 'nine': 2555, 'stink': 2556, 'nonetheless': 2557, 'immens': 2558, 'spiritu': 2559, 'appal': 2560, 'ironi': 2561, 'suitabl': 2562, 'chop': 2563, 'lyric': 2564, 'creep': 2565, 'spring': 2566, 'reduc': 2567, 'adopt': 2568, 'showcas': 2569, 'sold': 2570, 'needless': 2571, 'rage': 2572, 'franchis': 2573, 'user': 2574, 'navi': 2575, 'shirt': 2576, 'nut': 2577, 'retir': 2578, 'luci': 2579, 'per': 2580, 'zone': 2581, 'nurs': 2582, 'bath': 2583, 'uninspir': 2584, 'asham': 2585, 'stanwyck': 2586, 'bulli': 2587, 'jay': 2588, 'digit': 2589, 'amongst': 2590, 'sutherland': 2591, 'laid': 2592, 'oddli': 2593, '2001': 2594, '1940': 2595, 'illustr': 2596, 'broadcast': 2597, 'upper': 2598, 'aspir': 2599, 'stylish': 2600, 'throat': 2601, 'fulfil': 2602, 'disguis': 2603, 'baker': 2604, 'brando': 2605, 'wwii': 2606, 'pound': 2607, '18': 2608, 'em': 2609, 'wanna': 2610, 'neighborhood': 2611, 'thief': 2612, 'nobl': 2613, 'impli': 2614, 'pride': 2615, 'endear': 2616, 'cinematograph': 2617, 'prop': 2618, 'dawn': 2619, 'shift': 2620, 'tens': 2621, 'dinner': 2622, 'albeit': 2623, 'bett': 2624, 'bo': 2625, 'shoulder': 2626, 'diseas': 2627, 'distribut': 2628, '16': 2629, 'coher': 2630, 'rochest': 2631, 'silenc': 2632, 'matthau': 2633, 'wash': 2634, 'poignant': 2635, 'snow': 2636, 'contract': 2637, 'shout': 2638, 'forti': 2639, 'function': 2640, 'knife': 2641, 'rebel': 2642, 'surf': 2643, 'internet': 2644, 'heat': 2645, 'duti': 2646, 'cannib': 2647, 'cancel': 2648, 'chuck': 2649, 'reunion': 2650, 'henc': 2651, 'silver': 2652, 'horrend': 2653, 'derek': 2654, 'widmark': 2655, 'instinct': 2656, 'eeri': 2657, 'mindless': 2658, 'height': 2659, 'proof': 2660, 'elvira': 2661, 'incoher': 2662, 'musician': 2663, 'greatli': 2664, 'innov': 2665, 'torn': 2666, 'glori': 2667, 'neat': 2668, 'etern': 2669, 'absorb': 2670, 'mill': 2671, 'premier': 2672, 'repetit': 2673, 'alik': 2674, 'pie': 2675, 'spielberg': 2676, 'elvi': 2677, 'homag': 2678, 'racism': 2679, 'redempt': 2680, 'diamond': 2681, 'blank': 2682, 'horrifi': 2683, 'fbi': 2684, 'trite': 2685, 'lovabl': 2686, 'burton': 2687, 'nelson': 2688, 'wealthi': 2689, 'infam': 2690, 'announc': 2691, 'crisi': 2692, 'itali': 2693, 'britain': 2694, 'precis': 2695, 'bang': 2696, 'flop': 2697, 'parallel': 2698, 'helen': 2699, 'wilder': 2700, 'resolut': 2701, 'ensembl': 2702, 'happili': 2703, 'pat': 2704, 'hammer': 2705, 'chaplin': 2706, 'dedic': 2707, 'streisand': 2708, 'factori': 2709, 'cube': 2710, 'mar': 2711, 'triumph': 2712, 'broke': 2713, 'oil': 2714, 'plastic': 2715, 'carter': 2716, 'disagre': 2717, 'conclud': 2718, 'st': 2719, 'weight': 2720, 'row': 2721, 'rocket': 2722, 'chuckl': 2723, 'march': 2724, 'fighter': 2725, 'bush': 2726, 'own': 2727, 'vega': 2728, 'climb': 2729, 'unforgett': 2730, 'boot': 2731, 'spare': 2732, 'kurt': 2733, 'wherea': 2734, 'enorm': 2735, 'mst3k': 2736, 'thug': 2737, 'luca': 2738, 'lust': 2739, 'dane': 2740, 'dump': 2741, 'meaning': 2742, 'sensibl': 2743, 'stress': 2744, 'butt': 2745, 'rap': 2746, 'fifti': 2747, 'dear': 2748, 'caricatur': 2749, 'arnold': 2750, 'threat': 2751, 'difficulti': 2752, 'brand': 2753, 'engin': 2754, 'bobbi': 2755, 'adequ': 2756, 'karloff': 2757, 'secretari': 2758, 'flynn': 2759, 'homeless': 2760, 'arrog': 2761, 'swing': 2762, 'journalist': 2763, 'ralph': 2764, 'barri': 2765, 'polish': 2766, 'ego': 2767, 'fest': 2768, 'hamlet': 2769, 'elabor': 2770, 'resort': 2771, 'unbear': 2772, 'float': 2773, 'tool': 2774, 'induc': 2775, 'simpson': 2776, 'grate': 2777, 'spike': 2778, 'fanci': 2779, 'arrang': 2780, 'puppet': 2781, 'conspiraci': 2782, 'choreograph': 2783, 'guilt': 2784, 'boll': 2785, 'phillip': 2786, 'cruis': 2787, 'basement': 2788, 'pig': 2789, 'tribut': 2790, 'exercis': 2791, 'muppet': 2792, 'korean': 2793, 'layer': 2794, 'toilet': 2795, '24': 2796, 'editor': 2797, 'ham': 2798, 'item': 2799, 'fianc': 2800, 'babe': 2801, 'document': 2802, 'slip': 2803, 'tower': 2804, 'scarecrow': 2805, 'medium': 2806, 'puzzl': 2807, 'file': 2808, 'ward': 2809, 'stan': 2810, 'spark': 2811, 'minim': 2812, 'librari': 2813, 'orient': 2814, 'superfici': 2815, 'portion': 2816, 'transit': 2817, 'inexplic': 2818, 'slaughter': 2819, 'catherin': 2820, 'doc': 2821, 'territori': 2822, 'denzel': 2823, 'philosoph': 2824, 'glover': 2825, 'persona': 2826, 'assur': 2827, 'larger': 2828, 'walken': 2829, 'owe': 2830, 'jet': 2831, 'pg': 2832, 'dorothi': 2833, 'financi': 2834, 'wolf': 2835, 'shi': 2836, 'boredom': 2837, 'sneak': 2838, 'ban': 2839, 'jeremi': 2840, 'curti': 2841, 'hudson': 2842, 'profound': 2843, 'multi': 2844, 'cusack': 2845, 'backdrop': 2846, 'eleph': 2847, 'whale': 2848, 'metaphor': 2849, 'ambigu': 2850, 'elsewher': 2851, 'rave': 2852, 'hack': 2853, 'birthday': 2854, '2005': 2855, 'ultra': 2856, 'implaus': 2857, 'gadget': 2858, 'viru': 2859, 'stiff': 2860, 'union': 2861, 'notion': 2862, 'disc': 2863, 'slight': 2864, 'eastwood': 2865, '1st': 2866, 'canada': 2867, 'pad': 2868, 'eva': 2869, 'deriv': 2870, 'reader': 2871, 'lloyd': 2872, 'newspap': 2873, 'squar': 2874, 'poison': 2875, 'superhero': 2876, 'hawk': 2877, 'distanc': 2878, 'urg': 2879, 'bibl': 2880, 'afford': 2881, 'spread': 2882, 'button': 2883, 'essenc': 2884, 'sadist': 2885, 'charisma': 2886, 'health': 2887, 'skit': 2888, 'cure': 2889, 'heston': 2890, 'montag': 2891, 'drown': 2892, 'restaur': 2893, 'huh': 2894, 'fetch': 2895, 'maniac': 2896, 'gradual': 2897, 'muslim': 2898, 'godfath': 2899, 'scoobi': 2900, 'estat': 2901, 'lab': 2902, 'dealt': 2903, 'invest': 2904, 'peak': 2905, 'companion': 2906, 'servant': 2907, 'miik': 2908, 'countless': 2909, 'alli': 2910, 'gothic': 2911, 'ritter': 2912, 'cup': 2913, 'tea': 2914, 'kane': 2915, 'subtleti': 2916, 'heroic': 2917, 'charismat': 2918, 'iii': 2919, 'elect': 2920, 'salli': 2921, 'briefli': 2922, 'electr': 2923, 'nuanc': 2924, 'admittedli': 2925, 'bud': 2926, 'resourc': 2927, 'neil': 2928, 'cole': 2929, 'toss': 2930, 'tender': 2931, 'grandmoth': 2932, 'ingredi': 2933, 'wannab': 2934, 'reel': 2935, 'stood': 2936, 'reev': 2937, 'pauli': 2938, 'pit': 2939, 'poverti': 2940, 'punk': 2941, 'shall': 2942, 'mafia': 2943, 'mild': 2944, 'carrey': 2945, 'stronger': 2946, 'label': 2947, 'kubrick': 2948, 'dawson': 2949, 'gate': 2950, 'easier': 2951, 'outcom': 2952, 'updat': 2953, 'smash': 2954, 'fond': 2955, 'cox': 2956, 'ian': 2957, 'useless': 2958, 'smooth': 2959, 'tag': 2960, 'terri': 2961, 'burst': 2962, 'astair': 2963, 'cardboard': 2964, 'assault': 2965, 'bakshi': 2966, 'divers': 2967, 'melodramat': 2968, 'coincid': 2969, 'fist': 2970, 'rex': 2971, 'vulner': 2972, '2002': 2973, 'resolv': 2974, 'qualifi': 2975, 'vari': 2976, 'samurai': 2977, 'sketch': 2978, 'exchang': 2979, 'increasingli': 2980, 'insert': 2981, 'blast': 2982, 'conveni': 2983, 'tame': 2984, 'scratch': 2985, 'be': 2986, 'brillianc': 2987, 'suspend': 2988, 'templ': 2989, 'reynold': 2990, 'luckili': 2991, 'nuclear': 2992, 'soprano': 2993, 'matthew': 2994, 'walker': 2995, 'farm': 2996, 'seventi': 2997, 'jami': 2998, 'hamilton': 2999, 'strictli': 3000, 'ambiti': 3001, 'gotta': 3002, 'meat': 3003, 'pin': 3004, 'fisher': 3005, 'coach': 3006, 'monk': 3007, 'kudo': 3008, 'spooki': 3009, 'instantli': 3010, 'convolut': 3011, 'grasp': 3012, 'timeless': 3013, 'worthless': 3014, 'struck': 3015, 'butcher': 3016, 'recreat': 3017, 'joey': 3018, 'clock': 3019, 'closet': 3020, 'ninja': 3021, 'empir': 3022, 'eccentr': 3023, 'brosnan': 3024, 'revers': 3025, 'cave': 3026, 'discoveri': 3027, 'importantli': 3028, 'norman': 3029, 'partli': 3030, 'bleak': 3031, 'miracl': 3032, 'evok': 3033, 'communist': 3034, 'gray': 3035, 'wipe': 3036, 'mitchel': 3037, 'eighti': 3038, 'sidekick': 3039, 'fifteen': 3040, 'selfish': 3041, 'clown': 3042, 'seller': 3043, 'declar': 3044, 'inconsist': 3045, 'sloppi': 3046, 'pal': 3047, 'cliff': 3048, 'farc': 3049, 'flawless': 3050, 'psychiatrist': 3051, 'websit': 3052, 'debat': 3053, 'lifestyl': 3054, '45': 3055, 'destin': 3056, 'chew': 3057, 'australia': 3058, 'enthusiast': 3059, 'piano': 3060, 'ho': 3061, 'cheek': 3062, 'aforement': 3063, 'superbl': 3064, 'seed': 3065, 'stoog': 3066, 'incompet': 3067, 'slice': 3068, 'kitchen': 3069, 'splatter': 3070, 'drivel': 3071, 'dash': 3072, 'akshay': 3073, 'wick': 3074, 'wrestl': 3075, 'dire': 3076, 'anni': 3077, 'abc': 3078, 'pressur': 3079, 'emili': 3080, 'soviet': 3081, 'directori': 3082, 'regardless': 3083, 'bash': 3084, 'ken': 3085, 'flower': 3086, 'dave': 3087, 'lou': 3088, 'seduc': 3089, 'doo': 3090, 'recov': 3091, 'beaten': 3092, 'jar': 3093, 'helicopt': 3094, 'suppli': 3095, 'pleasantli': 3096, 'boil': 3097, 'cia': 3098, 'curios': 3099, 'judi': 3100, 'duo': 3101, 'glow': 3102, 'cameron': 3103, 'prize': 3104, 'increas': 3105, 'artifici': 3106, 'blob': 3107, 'cagney': 3108, 'chapter': 3109, 'mann': 3110, 'distant': 3111, 'combat': 3112, 'drunken': 3113, 'perri': 3114, 'eleg': 3115, 'craig': 3116, 'ranger': 3117, 'laurel': 3118, 'turner': 3119, 'craven': 3120, 'panic': 3121, 'web': 3122, 'favour': 3123, 'glenn': 3124, 'goldberg': 3125, 'psychot': 3126, 'splendid': 3127, 'ellen': 3128, 'hop': 3129, 'francisco': 3130, '20th': 3131, 'gentl': 3132, 'plausibl': 3133, 'graduat': 3134, 'gandhi': 3135, 'ruth': 3136, 'fx': 3137, 'hatr': 3138, 'slightest': 3139, 'alexand': 3140, 'min': 3141, 'rid': 3142, 'falk': 3143, 'wizard': 3144, 'philosophi': 3145, 'flip': 3146, 'modesti': 3147, 'shortli': 3148, 'greek': 3149, 'harm': 3150, 'holi': 3151, 'legal': 3152, 'we': 3153, 'knight': 3154, 'ocean': 3155, 'manhattan': 3156, 'tall': 3157, 'jealou': 3158, 'preciou': 3159, 'fund': 3160, 'futurist': 3161, 'unpleas': 3162, 'lend': 3163, 'felix': 3164, 'dracula': 3165, 'forbidden': 3166, 'nod': 3167, 'scientif': 3168, 'ami': 3169, 'mock': 3170, 'childish': 3171, 'explicit': 3172, 'bless': 3173, 'thread': 3174, 'reviv': 3175, 'digniti': 3176, 'giallo': 3177, 'tank': 3178, 'overdon': 3179, 'repeatedli': 3180, '99': 3181, '2004': 3182, 'awaken': 3183, 'unwatch': 3184, 'nerv': 3185, 'torment': 3186, 'broad': 3187, 'awe': 3188, 'yesterday': 3189, 'thick': 3190, 'mel': 3191, 'verhoeven': 3192, 'pirat': 3193, 'elderli': 3194, 'fever': 3195, 'eve': 3196, 'margaret': 3197, 'royal': 3198, 'eas': 3199, 'publish': 3200, 'rivet': 3201, 'griffith': 3202, 'ah': 3203, 'roman': 3204, 'uniform': 3205, 'romero': 3206, 'launch': 3207, 'ambit': 3208, 'bin': 3209, 'stiller': 3210, 'absenc': 3211, 'kay': 3212, 'lean': 3213, 'timothi': 3214, 'automat': 3215, 'custom': 3216, 'politician': 3217, 'acclaim': 3218, 'homicid': 3219, 'foul': 3220, 'transport': 3221, 'wallac': 3222, 'stinker': 3223, 'sunshin': 3224, 'antic': 3225, 'bathroom': 3226, 'darker': 3227, 'purpl': 3228, 'gabriel': 3229, 'crook': 3230, 'pierc': 3231, 'phrase': 3232, 'pulp': 3233, 'termin': 3234, 'warren': 3235, 'tomato': 3236, 'coloni': 3237, '2003': 3238, 'q': 3239, 'awak': 3240, 'juvenil': 3241, 'li': 3242, 'viciou': 3243, 'ought': 3244, 'album': 3245, 'rambo': 3246, 'horrid': 3247, 'prom': 3248, 'packag': 3249, 'revolutionari': 3250, 'sixti': 3251, 'hollow': 3252, 'kenneth': 3253, 'contrari': 3254, 'pray': 3255, 'evolv': 3256, 'choreographi': 3257, 'saint': 3258, 'brazil': 3259, 'karen': 3260, 'donna': 3261, 'marin': 3262, 'eyr': 3263, 'stole': 3264, 'blade': 3265, 'mildr': 3266, 'candid': 3267, 'mummi': 3268, 'boast': 3269, 'twelv': 3270, 'dose': 3271, 'overr': 3272, 'defi': 3273, 'nerd': 3274, 'kapoor': 3275, 'conserv': 3276, 'beatti': 3277, 'ramon': 3278, 'option': 3279, 'ireland': 3280, 'fulci': 3281, 'global': 3282, 'trio': 3283, 'funer': 3284, 'detract': 3285, 'flame': 3286, 'astonish': 3287, 'natali': 3288, 'jazz': 3289, 'collabor': 3290, 'confirm': 3291, 'kirk': 3292, 'altman': 3293, 'protest': 3294, 'spit': 3295, 'tommi': 3296, 'delici': 3297, 'shade': 3298, 'nicholson': 3299, 'destini': 3300, 'bottl': 3301, 'bull': 3302, 'leap': 3303, 'audio': 3304, 'mystic': 3305, 'enterpris': 3306, 'yellow': 3307, 'whip': 3308, 'blake': 3309, 'racial': 3310, 'fonda': 3311, 'altogeth': 3312, 'popcorn': 3313, 'merci': 3314, 'todd': 3315, 'enchant': 3316, 'vivid': 3317, 'reunit': 3318, 'neo': 3319, 'threw': 3320, 'visibl': 3321, 'bedroom': 3322, 'harder': 3323, 'swedish': 3324, 'meaningless': 3325, 'inherit': 3326, 'pseudo': 3327, 'staff': 3328, 'adolesc': 3329, 'leonard': 3330, 'ruthless': 3331, 'wire': 3332, 'bust': 3333, 'await': 3334, 'kennedi': 3335, 'tip': 3336, 'respond': 3337, 'reserv': 3338, 'roommat': 3339, 'exhibit': 3340, 'befriend': 3341, 'madonna': 3342, 'decor': 3343, 'moodi': 3344, 'uneven': 3345, 'lawrenc': 3346, 'edi': 3347, 'synopsi': 3348, 'jew': 3349, 'fanat': 3350, 'atlanti': 3351, 'suspici': 3352, 'lemmon': 3353, 'voight': 3354, 'crocodil': 3355, 'clumsi': 3356, 'ventur': 3357, 'bargain': 3358, 'audit': 3359, 'chao': 3360, 'abysm': 3361, 'centr': 3362, '2007': 3363, 'garner': 3364, 'bold': 3365, 'clint': 3366, 'unsettl': 3367, 'incident': 3368, 'rural': 3369, 'carl': 3370, 'palma': 3371, 'voyag': 3372, 'bradi': 3373, 'holli': 3374, 'dimens': 3375, 'ant': 3376, 'mall': 3377, 'versu': 3378, 'echo': 3379, 'characterist': 3380, 'poetic': 3381, 'wealth': 3382, 'cari': 3383, 'elimin': 3384, 'cuba': 3385, 'tiger': 3386, 'lit': 3387, 'troop': 3388, 'nearbi': 3389, 'cd': 3390, 'imperson': 3391, 'daddi': 3392, 'acknowledg': 3393, '2nd': 3394, 'trail': 3395, 'humili': 3396, 'immigr': 3397, 'hart': 3398, 'neglect': 3399, 'timon': 3400, 'mistaken': 3401, 'prejudic': 3402, 'paus': 3403, 'infect': 3404, 'repuls': 3405, 'domest': 3406, 'saga': 3407, 'jeffrey': 3408, 'solo': 3409, 'marshal': 3410, 'pun': 3411, 'celluloid': 3412, 'mickey': 3413, 'collaps': 3414, 'homer': 3415, 'pant': 3416, 'olivi': 3417, 'cake': 3418, 'sore': 3419, '1996': 3420, 'undoubtedli': 3421, 'chest': 3422, 'ginger': 3423, 'hbo': 3424, 'tribe': 3425, 'gear': 3426, 'milk': 3427, 'apolog': 3428, 'inappropri': 3429, 'coffe': 3430, 'promin': 3431, 'equip': 3432, 'leon': 3433, 'inan': 3434, 'interrupt': 3435, 'coat': 3436, 'assembl': 3437, 'harvey': 3438, 'maggi': 3439, 'vulgar': 3440, 'polanski': 3441, 'trace': 3442, 'solut': 3443, 'brooklyn': 3444, 'exot': 3445, 'colleagu': 3446, 'pen': 3447, 'humbl': 3448, 'consum': 3449, 'instant': 3450, 'aveng': 3451, 'colonel': 3452, 'florida': 3453, 'airplan': 3454, 'highest': 3455, 'retain': 3456, 'furthermor': 3457, 'devast': 3458, 'primari': 3459, 'institut': 3460, 'embrac': 3461, 'jenni': 3462, 'pot': 3463, 'cope': 3464, 'dutch': 3465, 'gender': 3466, 'seduct': 3467, 'smaller': 3468, 'illog': 3469, '1999': 3470, 'ya': 3471, 'descend': 3472, 'sale': 3473, 'dian': 3474, 'wive': 3475, 'bowl': 3476, 'disabl': 3477, 'strain': 3478, 'rick': 3479, 'principl': 3480, 'poke': 3481, 'godzilla': 3482, '3rd': 3483, 'linda': 3484, 'outer': 3485, 'dive': 3486, 'secondli': 3487, 'devoid': 3488, 'gloriou': 3489, 'cue': 3490, 'predecessor': 3491, 'beneath': 3492, 'inferior': 3493, 'yard': 3494, 'mixtur': 3495, 'bubbl': 3496, 'lol': 3497, 'dud': 3498, 'vast': 3499, 'blatant': 3500, 'primarili': 3501, 'hal': 3502, 'scope': 3503, 'rabbit': 3504, 'glamor': 3505, 'gundam': 3506, 'disjoint': 3507, 'casual': 3508, 'invas': 3509, 'alert': 3510, 'shelf': 3511, 'senseless': 3512, 'breed': 3513, 'museum': 3514, 'talki': 3515, 'shirley': 3516, 'domino': 3517, 'simplist': 3518, 'et': 3519, 'countrysid': 3520, 'myer': 3521, 'grinch': 3522, 'alfr': 3523, 'aggress': 3524, 'trademark': 3525, 'arab': 3526, 'hideou': 3527, 'z': 3528, 'april': 3529, 'pearl': 3530, 'garbo': 3531, 'streep': 3532, 'slide': 3533, 'sh': 3534, 'uwe': 3535, 'defens': 3536, 'rendit': 3537, 'stir': 3538, 'vanish': 3539, 'khan': 3540, 'applaud': 3541, 'disgrac': 3542, 'acid': 3543, 'hopeless': 3544, 'illeg': 3545, 'obtain': 3546, 'boom': 3547, 'robinson': 3548, 'mayor': 3549, 'experiment': 3550, 'robberi': 3551, 'mail': 3552, 'hardcor': 3553, 'loyal': 3554, 'stellar': 3555, 'maci': 3556, 'unhappi': 3557, 'stack': 3558, 'oz': 3559, 'rifl': 3560, 'wont': 3561, 'incomprehens': 3562, 'span': 3563, 'psychic': 3564, 'dismiss': 3565, 'emphasi': 3566, 'tenant': 3567, 'recruit': 3568, 'craze': 3569, 'topless': 3570, 'spider': 3571, 'soccer': 3572, 'scroog': 3573, 'tempt': 3574, 'blew': 3575, 'hartley': 3576, 'berlin': 3577, 'diana': 3578, 'counter': 3579, 'amanda': 3580, 'dicken': 3581, 'grandfath': 3582, 'fri': 3583, 'declin': 3584, 'intim': 3585, 'ration': 3586, 'resurrect': 3587, 'revolt': 3588, 'ethnic': 3589, 'shed': 3590, 'niro': 3591, 'bitch': 3592, 'faster': 3593, 'sympath': 3594, 'sibl': 3595, 'woo': 3596, 'trashi': 3597, 'justin': 3598, 'goer': 3599, 'porno': 3600, 'parad': 3601, 'lumet': 3602, 'shaw': 3603, 'wet': 3604, 'riot': 3605, 'hopper': 3606, 'wendi': 3607, 'immort': 3608, 'gap': 3609, 'partial': 3610, 'feminist': 3611, 'weakest': 3612, 'eager': 3613, 'steam': 3614, 'ensur': 3615, 'region': 3616, 'honesti': 3617, '00': 3618, 'jonathan': 3619, 'hesit': 3620, 'wheel': 3621, 'worm': 3622, 'patriot': 3623, 'rider': 3624, 'unreal': 3625, 'biographi': 3626, 'slick': 3627, 'mario': 3628, 'enlighten': 3629, 'choru': 3630, 'commend': 3631, 'andr': 3632, 'farmer': 3633, 'ballet': 3634, 'nephew': 3635, 'dealer': 3636, 'lena': 3637, 'composit': 3638, 'vice': 3639, 'wore': 3640, 'blunt': 3641, 'mutant': 3642, 'repress': 3643, 'similarli': 3644, 'nostalg': 3645, 'util': 3646, 'prequel': 3647, 'safeti': 3648, 'confin': 3649, 'properti': 3650, 'snap': 3651, 'owen': 3652, 'skull': 3653, 'hung': 3654, 'victori': 3655, 'kingdom': 3656, 'sandra': 3657, 'sappi': 3658, 'franco': 3659, 'psychopath': 3660, 'charlott': 3661, 'leo': 3662, 'morri': 3663, 'macarthur': 3664, 'strand': 3665, 'rope': 3666, 'speci': 3667, 'cg': 3668, 'bonu': 3669, 'drain': 3670, 'dust': 3671, 'despair': 3672, 'pattern': 3673, 'nervou': 3674, 'hyde': 3675, 'bow': 3676, 'tail': 3677, 'emperor': 3678, 'heartbreak': 3679, 'tad': 3680, 'compens': 3681, 'campbel': 3682, 'del': 3683, 'whoopi': 3684, 'bergman': 3685, 'snl': 3686, 'miseri': 3687, 'valuabl': 3688, 'repli': 3689, 'rambl': 3690, 'compass': 3691, 'kyle': 3692, 'acquir': 3693, 'drum': 3694, 'bumbl': 3695, '1972': 3696, 'rocki': 3697, 'exit': 3698, 'montana': 3699, 'farrel': 3700, 'latin': 3701, 'recycl': 3702, 'deed': 3703, 'thru': 3704, 'dalton': 3705, 'gimmick': 3706, 'gal': 3707, 'radic': 3708, 'roth': 3709, 'percept': 3710, 'wacki': 3711, 'contempl': 3712, 'bleed': 3713, 'downhil': 3714, 'carradin': 3715, 'oppress': 3716, '35': 3717, 'rotten': 3718, 'da': 3719, 'orson': 3720, 'tonight': 3721, 'rapist': 3722, 'romp': 3723, 'martian': 3724, 'chess': 3725, 'mistress': 3726, 'slug': 3727, 'airport': 3728, 'pour': 3729, 'olli': 3730, 'taught': 3731, 'arc': 3732, 'banal': 3733, 'stilt': 3734, 'tackl': 3735, 'melodi': 3736, 'pervers': 3737, 'mislead': 3738, 'dazzl': 3739, 'arguabl': 3740, 'champion': 3741, 'heal': 3742, 'shelley': 3743, 'preach': 3744, 'pervert': 3745, 'paltrow': 3746, 'unpredict': 3747, 'edgar': 3748, 'belt': 3749, 'attorney': 3750, 'slash': 3751, 'tooth': 3752, 'programm': 3753, '1983': 3754, 'pursuit': 3755, 'plight': 3756, 'graham': 3757, 'sensat': 3758, 'closest': 3759, 'mesmer': 3760, 'maid': 3761, 'virginia': 3762, 'marti': 3763, 'chicken': 3764, 'poem': 3765, 'passeng': 3766, 'vocal': 3767, 'vengeanc': 3768, 'employe': 3769, 'cleverli': 3770, 'uplift': 3771, 'franki': 3772, 'duval': 3773, 'dixon': 3774, 'raymond': 3775, 'rubi': 3776, 'bela': 3777, 'orang': 3778, 'tiresom': 3779, 'gambl': 3780, 'conneri': 3781, 'abraham': 3782, 'profan': 3783, 'calm': 3784, 'volum': 3785, 'paranoia': 3786, 'habit': 3787, 'climact': 3788, 'yawn': 3789, 'outing': 3790, 'mute': 3791, 'pokemon': 3792, 'iran': 3793, 'monologu': 3794, 'extens': 3795, 'gerard': 3796, 'bay': 3797, 'quarter': 3798, '1968': 3799, 'numb': 3800, 'swallow': 3801, 'suffic': 3802, 'whine': 3803, 'tube': 3804, 'convincingli': 3805, 'scottish': 3806, 'lundgren': 3807, 'engross': 3808, 'secretli': 3809, 'giggl': 3810, 'clone': 3811, 'sirk': 3812, 'crystal': 3813, 'amitabh': 3814, 'inject': 3815, 'franci': 3816, 'underst': 3817, 'nichola': 3818, 'chicago': 3819, 'junior': 3820, 'surpass': 3821, 'meander': 3822, 'im': 3823, 'lowest': 3824, 'fed': 3825, 'grotesqu': 3826, 'taxi': 3827, 'earl': 3828, 'abort': 3829, 'linger': 3830, 'expand': 3831, 'profess': 3832, 'backward': 3833, 'richardson': 3834, 'ethan': 3835, 'septemb': 3836, 'poetri': 3837, 'bend': 3838, 'dispos': 3839, 'spock': 3840, 'trend': 3841, 'frankenstein': 3842, 'plod': 3843, 'austen': 3844, 'myth': 3845, 'muddl': 3846, 'simplic': 3847, 'greedi': 3848, 'household': 3849, 'descent': 3850, 'spoke': 3851, 'tourist': 3852, 'econom': 3853, 'nostalgia': 3854, 'stallon': 3855, 'lure': 3856, 'waitress': 3857, 'der': 3858, 'hum': 3859, 'eugen': 3860, 'catchi': 3861, 'compliment': 3862, 'dysfunct': 3863, 'literatur': 3864, 'sue': 3865, 'mundan': 3866, 'rant': 3867, 'instrument': 3868, 'rubber': 3869, 'cannon': 3870, 'insur': 3871, 'furi': 3872, 'irrelev': 3873, 'firstli': 3874, 'lang': 3875, 'recognit': 3876, 'deaf': 3877, 'recognis': 3878, 'molli': 3879, 'mankind': 3880, 'equival': 3881, 'mortal': 3882, 'eaten': 3883, 'occupi': 3884, 'bacal': 3885, 'cent': 3886, 'carel': 3887, 'crucial': 3888, 'dictat': 3889, 'phoni': 3890, 'randi': 3891, 'dement': 3892, 'sissi': 3893, 'june': 3894, 'omen': 3895, 'coast': 3896, 'stale': 3897, 'map': 3898, 'phantom': 3899, 'flee': 3900, 'damon': 3901, 'hello': 3902, 'duck': 3903, 'alongsid': 3904, 'louis': 3905, 'lengthi': 3906, 'dreari': 3907, 'twilight': 3908, 'likewis': 3909, 'newli': 3910, 'rooney': 3911, 'rude': 3912, 'onlin': 3913, 'grayson': 3914, 'drake': 3915, 'bike': 3916, 'cyborg': 3917, 'loyalti': 3918, 'distinguish': 3919, 'reign': 3920, 'freez': 3921, 'ashley': 3922, 'daisi': 3923, 'heel': 3924, 'wisdom': 3925, 'blackmail': 3926, 'bump': 3927, 'labor': 3928, 'buffalo': 3929, 'damm': 3930, 'biko': 3931, '1973': 3932, 'antwon': 3933, 'ridden': 3934, 'incorpor': 3935, 'baddi': 3936, 'chronicl': 3937, 'worn': 3938, 'tunnel': 3939, 'startl': 3940, 'interior': 3941, 'proce': 3942, 'prey': 3943, 'exposur': 3944, 'vein': 3945, 'approv': 3946, 'provoc': 3947, 'sailor': 3948, 'pink': 3949, 'barrymor': 3950, 'nineti': 3951, 'basketbal': 3952, 'attribut': 3953, 'emphas': 3954, 'keith': 3955, 'analysi': 3956, 'unorigin': 3957, 'butler': 3958, 'inher': 3959, 'boxer': 3960, 'fleet': 3961, 'simmon': 3962, 'walsh': 3963, 'hypnot': 3964, 'unrel': 3965, 'nicol': 3966, 'carla': 3967, 'predat': 3968, 'othello': 3969, 'elm': 3970, 'drift': 3971, 'condemn': 3972, 'meg': 3973, 'robbin': 3974, 'indiffer': 3975, 'improvis': 3976, 'undeni': 3977, 'underli': 3978, 'substitut': 3979, 'belushi': 3980, 'millionair': 3981, 'julian': 3982, 'degrad': 3983, 'er': 3984, 'meyer': 3985, 'stalker': 3986, 'barrel': 3987, 'mormon': 3988, 'mighti': 3989, 'bunni': 3990, 'disord': 3991, 'priceless': 3992, 'hay': 3993, 'shove': 3994, '3d': 3995, 'lampoon': 3996, 'alison': 3997, 'nyc': 3998, 'vital': 3999, 'firm': 4000, 'reid': 4001, 'greed': 4002, 'errol': 4003, 'warmth': 4004, 'roof': 4005, 'watson': 4006, 'alarm': 4007, 'agenda': 4008, 'novak': 4009, 'palac': 4010, 'exquisit': 4011, 'unawar': 4012, 'dolph': 4013, 'edgi': 4014, 'enthusiasm': 4015, 'mtv': 4016, 'marion': 4017, 'rukh': 4018, 'sergeant': 4019, 'peck': 4020, 'eastern': 4021, 'thompson': 4022, 'spain': 4023, 'nun': 4024, 'unleash': 4025, '13th': 4026, 'petti': 4027, 'minimum': 4028, 'cassidi': 4029, 'simultan': 4030, 'what': 4031, '1933': 4032, 'ponder': 4033, 'gestur': 4034, 'orlean': 4035, 'peril': 4036, 'campaign': 4037, 'iraq': 4038, 'valentin': 4039, 'beatl': 4040, 'testament': 4041, 'showdown': 4042, 'drip': 4043, 'preserv': 4044, 'angela': 4045, 'distort': 4046, 'randomli': 4047, 'israel': 4048, 'profit': 4049, 'pamela': 4050, 'glanc': 4051, 'championship': 4052, 'coup': 4053, 'session': 4054, 'crown': 4055, 'zizek': 4056, 'regist': 4057, 'rout': 4058, 'travesti': 4059, 'reson': 4060, 'calib': 4061, 'valley': 4062, 'climat': 4063, 'realm': 4064, 'contradict': 4065, 'stake': 4066, 'wig': 4067, 'crawl': 4068, 'miyazaki': 4069, 'cream': 4070, 'scotland': 4071, 'quinn': 4072, 'cooki': 4073, 'mon': 4074, 'buster': 4075, 'perpetu': 4076, 'jan': 4077, 'fido': 4078, 'bro': 4079, 'stroke': 4080, 'shootout': 4081, 'empathi': 4082, 'crow': 4083, 'gentleman': 4084, 'restrain': 4085, 'represent': 4086, '1984': 4087, 'brenda': 4088, 'han': 4089, 'kurosawa': 4090, 'sabrina': 4091, 'exposit': 4092, 'unimagin': 4093, 'din': 4094, 'pole': 4095, '1987': 4096, 'delic': 4097, 'baldwin': 4098, 'distress': 4099, 'perceiv': 4100, 'ross': 4101, 'businessman': 4102, 'mclaglen': 4103, 'unsatisfi': 4104, 'geek': 4105, 'wax': 4106, 'passabl': 4107, 'warrant': 4108, 'traumat': 4109, 'shoddi': 4110, 'compromis': 4111, 'fuller': 4112, 'soderbergh': 4113, 'ustinov': 4114, 'josh': 4115, 'darren': 4116, 'cloud': 4117, 'painter': 4118, 'sucker': 4119, 'femm': 4120, 'shaki': 4121, '1997': 4122, 'demis': 4123, 'monoton': 4124, 'spacey': 4125, 'pretens': 4126, 'absent': 4127, 'sammi': 4128, 'censor': 4129, 'derang': 4130, 'unseen': 4131, 'greg': 4132, 'dana': 4133, 'tacki': 4134, 'stargat': 4135, 'abomin': 4136, 'meryl': 4137, 'crawford': 4138, 'norm': 4139, 'valid': 4140, 'exclus': 4141, 'click': 4142, 'jewel': 4143, 'unravel': 4144, 'expedit': 4145, 'sid': 4146, 'seal': 4147, 'tarantino': 4148, 'judgment': 4149, 'fenc': 4150, 'accuraci': 4151, 'dee': 4152, 'polici': 4153, 'austin': 4154, 'correctli': 4155, 'anchor': 4156, 'wholli': 4157, 'clash': 4158, 'deceas': 4159, 'fog': 4160, 'primit': 4161, 'tech': 4162, 'uncov': 4163, 'furiou': 4164, 'reluct': 4165, 'nathan': 4166, 'deniro': 4167, '1993': 4168, 'antonioni': 4169, 'kumar': 4170, 'verbal': 4171, 'sheet': 4172, 'trait': 4173, 'alec': 4174, 'bake': 4175, 'clerk': 4176, 'shanghai': 4177, 'pocket': 4178, 'mode': 4179, '1971': 4180, 'wretch': 4181, '3000': 4182, 'seldom': 4183, 'vanc': 4184, 'behold': 4185, 'ritual': 4186, 'conduct': 4187, 'logan': 4188, 'unfair': 4189, 'hallucin': 4190, 'roller': 4191, 'fart': 4192, 'murray': 4193, 'patienc': 4194, 'joel': 4195, 'enforc': 4196, 'dreck': 4197, 'slam': 4198, 'nicola': 4199, 'sustain': 4200, 'tax': 4201, 'temper': 4202, 'sand': 4203, '2008': 4204, 'fabric': 4205, 'wang': 4206, 'crippl': 4207, '1995': 4208, 'debt': 4209, 'darn': 4210, 'fought': 4211, 'sunni': 4212, 'malon': 4213, 'exhaust': 4214, 'squad': 4215, 'outlin': 4216, 'scriptwrit': 4217, 'grief': 4218, 'guitar': 4219, 'stark': 4220, 'preston': 4221, 'runner': 4222, 'isabel': 4223, 'shell': 4224, 'phil': 4225, 'sweep': 4226, 'legaci': 4227, 'helpless': 4228, 'tactic': 4229, 'stuart': 4230, 'despis': 4231, 'soup': 4232, 'divid': 4233, 'bias': 4234, 'critiqu': 4235, 'conscious': 4236, 'canyon': 4237, 'clau': 4238, 'technicolor': 4239, 'bridget': 4240, 'preposter': 4241, 'rita': 4242, 'pete': 4243, 'penni': 4244, 'fundament': 4245, 'robber': 4246, 'schedul': 4247, 'alicia': 4248, 'boyl': 4249, 'sugar': 4250, 'cigarett': 4251, 'culmin': 4252, 'inabl': 4253, 'bloom': 4254, 'rehash': 4255, 'passag': 4256, 'drove': 4257, 'flair': 4258, 'sentinel': 4259, 'palanc': 4260, 'vomit': 4261, 'unexpectedli': 4262, 'marc': 4263, 'alley': 4264, 'rear': 4265, 'propos': 4266, 'newman': 4267, 'russia': 4268, 'jacket': 4269, 'implic': 4270, 'delv': 4271, 'gregori': 4272, 'sniper': 4273, 'agenc': 4274, 'lacklust': 4275, 'liberti': 4276, 'downey': 4277, 'consciou': 4278, 'connor': 4279, 'invad': 4280, 'kansa': 4281, 'restrict': 4282, 'jodi': 4283, 'feat': 4284, 'rampag': 4285, 'asylum': 4286, 'awhil': 4287, 'aesthet': 4288, '1936': 4289, 'tendenc': 4290, 'horn': 4291, '22': 4292, 'arrow': 4293, 'improb': 4294, 'karl': 4295, 'sharon': 4296, 'foxx': 4297, 'ladder': 4298, 'chainsaw': 4299, 'vet': 4300, 'behaviour': 4301, 'delet': 4302, 'rod': 4303, 'rehears': 4304, 'pale': 4305, 'mccoy': 4306, 'tripe': 4307, 'bacon': 4308, 'cap': 4309, 'yeti': 4310, 'wrench': 4311, 'lush': 4312, 'kolchak': 4313, 'stream': 4314, 'visitor': 4315, 'weav': 4316, 'scoop': 4317, 'basing': 4318, '1988': 4319, 'filler': 4320, 'hungri': 4321, 'rhythm': 4322, 'paramount': 4323, 'tasteless': 4324, 'shortcom': 4325, 'lurk': 4326, 'financ': 4327, 'spice': 4328, 'amazon': 4329, 'tomorrow': 4330, 'underneath': 4331, '19th': 4332, 'sung': 4333, 'loneli': 4334, 'fright': 4335, 'wagner': 4336, '1920': 4337, '1978': 4338, 'conscienc': 4339, 'minu': 4340, 'paradis': 4341, 'suffici': 4342, 'hulk': 4343, 'wildli': 4344, 'aristocrat': 4345, 'hackney': 4346, 'suspicion': 4347, 'coaster': 4348, 'rumor': 4349, 'newcom': 4350, 'prank': 4351, 'globe': 4352, 'el': 4353, 'elit': 4354, 'thunderbird': 4355, 'straightforward': 4356, 'counterpart': 4357, 'choppi': 4358, 'secondari': 4359, 'impos': 4360, 'abrupt': 4361, 'inmat': 4362, 'beverli': 4363, 'worship': 4364, 'ingeni': 4365, 'dirt': 4366, 'minist': 4367, 'en': 4368, 'lectur': 4369, 'ram': 4370, 'quietli': 4371, '1989': 4372, 'grudg': 4373, 'literari': 4374, 'wwe': 4375, '1939': 4376, 'immers': 4377, 'entranc': 4378, 'penn': 4379, 'atroc': 4380, 'springer': 4381, 'brit': 4382, 'leigh': 4383, 'hopkin': 4384, 'recogniz': 4385, 'bread': 4386, 'standout': 4387, 'curli': 4388, 'tierney': 4389, 'cancer': 4390, 'posey': 4391, 'smell': 4392, 'chamberlain': 4393, 'couch': 4394, '75': 4395, 'iv': 4396, 'heist': 4397, 'teas': 4398, 'paxton': 4399, 'rub': 4400, 'chavez': 4401, 'naughti': 4402, 'transcend': 4403, 'variat': 4404, 'policeman': 4405, 'net': 4406, 'ace': 4407, 'skeptic': 4408, 'moreov': 4409, 'sublim': 4410, 'bernard': 4411, 'convert': 4412, 'cattl': 4413, 'lindsay': 4414, 'enthral': 4415, 'entitl': 4416, 'laurenc': 4417, 'misguid': 4418, 'watcher': 4419, 'heartfelt': 4420, 'morbid': 4421, 'yearn': 4422, 'nolan': 4423, 'clan': 4424, 'injuri': 4425, 'quaid': 4426, '1986': 4427, 'esther': 4428, 'missil': 4429, 'sassi': 4430, 'nemesi': 4431, 'duel': 4432, 'attenborough': 4433, 'geni': 4434, 'ratso': 4435, 'moder': 4436, 'reliabl': 4437, 'kidman': 4438, 'enabl': 4439, 'characteris': 4440, 'hopelessli': 4441, 'graini': 4442, 'buzz': 4443, 'obstacl': 4444, 'setup': 4445, 'bean': 4446, 'steadi': 4447, 'bye': 4448, 'vader': 4449, 'diari': 4450, 'mytholog': 4451, 'poe': 4452, 'egg': 4453, 'unexplain': 4454, 'spiral': 4455, 'youngest': 4456, 'uncut': 4457, 'tyler': 4458, '1979': 4459, 'out': 4460, 'facil': 4461, 'artsi': 4462, 'rosemari': 4463, 'grin': 4464, 'carlito': 4465, 'brood': 4466, 'puppi': 4467, 'kitti': 4468, 'dont': 4469, 'cruelti': 4470, 'hk': 4471, 'bronson': 4472, 'preming': 4473, 'decept': 4474, 'disastr': 4475, 'exterior': 4476, 'heap': 4477, 'brendan': 4478, 'clueless': 4479, 'sweat': 4480, 'underworld': 4481, 'spontan': 4482, 'oblig': 4483, 'despic': 4484, 'martha': 4485, 'christin': 4486, '1969': 4487, 'effici': 4488, 'hammi': 4489, 'weather': 4490, 'narrow': 4491, 'patricia': 4492, 'bewar': 4493, 'fuel': 4494, 'acquaint': 4495, 'athlet': 4496, 'baffl': 4497, 'bounc': 4498, 'kline': 4499, 'niec': 4500, 'gillian': 4501, 'hain': 4502, 'gina': 4503, 'circu': 4504, 'astound': 4505, 'injur': 4506, '73': 4507, 'preachi': 4508, 'housewif': 4509, 'headach': 4510, 'trigger': 4511, 'taboo': 4512, 'sleepwalk': 4513, '19': 4514, 'tick': 4515, 'fontain': 4516, 'enlist': 4517, 'angst': 4518, 'harmless': 4519, 'biker': 4520, 'analyz': 4521, 'candl': 4522, 'hepburn': 4523, 'mayhem': 4524, 'loath': 4525, 'suprem': 4526, 'dilemma': 4527, 'renaiss': 4528, 'sooner': 4529, 'viewpoint': 4530, 'shatter': 4531, 'outlaw': 4532, 'loi': 4533, 'goof': 4534, 'scar': 4535, 'dandi': 4536, 'insipid': 4537, 'mermaid': 4538, 'rome': 4539, 'uh': 4540, 'virtu': 4541, 'lester': 4542, 'dismal': 4543, 'phenomenon': 4544, 'glorifi': 4545, 'overlong': 4546, 'stimul': 4547, 'stair': 4548, 'ebert': 4549, 'claustrophob': 4550, 'boston': 4551, 'scorses': 4552, 'spade': 4553, 'whore': 4554, 'hooker': 4555, 'steer': 4556, 'tripl': 4557, 'amor': 4558, 'dish': 4559, 'immatur': 4560, 'oldest': 4561, 'contempt': 4562, 'intric': 4563, 'macho': 4564, 'hostag': 4565, 'idol': 4566, 'redund': 4567, 'foolish': 4568, 'zoom': 4569, 'fluff': 4570, 'salt': 4571, 'gere': 4572, 'hokey': 4573, 'guin': 4574, 'bent': 4575, 'surgeri': 4576, 'slimi': 4577, 'sox': 4578, 'filth': 4579, 'camcord': 4580, 'ariel': 4581, 'cassavet': 4582, 'corbett': 4583, 'preced': 4584, 'keen': 4585, 'messi': 4586, 'spinal': 4587, 'perman': 4588, 'zane': 4589, 'harold': 4590, 'mount': 4591, 'muscl': 4592, 'proport': 4593, 'gasp': 4594, 'spree': 4595, 'mutual': 4596, 'shield': 4597, 'rhyme': 4598, 'faint': 4599, '1981': 4600, 'remad': 4601, 'cohen': 4602, 'conquer': 4603, 'widescreen': 4604, 'radiat': 4605, 'strongest': 4606, 'antagonist': 4607, '1976': 4608, 'schlock': 4609, 'flag': 4610, 'margin': 4611, 'down': 4612, 'shred': 4613, 'frantic': 4614, 'joker': 4615, 'nolt': 4616, 'fascist': 4617, 'dwarf': 4618, 'transplant': 4619, 'assert': 4620, 'naschi': 4621, 'trivia': 4622, 'astronaut': 4623, 'cow': 4624, 'flirt': 4625, 'flashi': 4626, 'obligatori': 4627, 'cush': 4628, 'alvin': 4629, 'beard': 4630, 'corman': 4631, 'gabl': 4632, 'bitten': 4633, 'divin': 4634, 'someday': 4635, 'off': 4636, 'discern': 4637, 'instruct': 4638, 'ritchi': 4639, '95': 4640, 'archiv': 4641, 'scandal': 4642, 'triangl': 4643, 'wield': 4644, 'boob': 4645, '1945': 4646, 'inflict': 4647, 'www': 4648, 'deer': 4649, 'vaniti': 4650, 'interestingli': 4651, 'fishburn': 4652, 'hara': 4653, 'resum': 4654, 'strive': 4655, 'info': 4656, 'mobil': 4657, 'flock': 4658, 'departur': 4659, 'danish': 4660, 'persuad': 4661, 'bachelor': 4662, 'claud': 4663, 'neurot': 4664, 'aborigin': 4665, 'raj': 4666, 'carey': 4667, '28': 4668, 'repris': 4669, 'sensual': 4670, 'brush': 4671, 'barn': 4672, 'mol': 4673, 'hilar': 4674, 'dame': 4675, 'pixar': 4676, 'cher': 4677, 'loretta': 4678, 'submit': 4679, 'pacif': 4680, 'helm': 4681, 'rot': 4682, 'bate': 4683, 'luka': 4684, 'casino': 4685, 'mobster': 4686, 'miracul': 4687, 'jade': 4688, 'cb': 4689, 'senior': 4690, 'vibrant': 4691, 'clad': 4692, 'kathryn': 4693, 'cycl': 4694, 'wendigo': 4695, 'cliffhang': 4696, 'harrison': 4697, 'dylan': 4698, 'artwork': 4699, 'undermin': 4700, 'axe': 4701, 'parson': 4702, 'fragil': 4703, 'proclaim': 4704, 'frontier': 4705, 'earnest': 4706, 'hug': 4707, 'ish': 4708, 'banter': 4709, 'biblic': 4710, 'dim': 4711, 'recit': 4712, 'prophet': 4713, 'pickford': 4714, 'hapless': 4715, 'neill': 4716, 'europa': 4717, 'melissa': 4718, 'colin': 4719, 'anton': 4720, 'heartwarm': 4721, 'traffic': 4722, 'carlo': 4723, 'timberlak': 4724, 'aris': 4725, 'winchest': 4726, 'antholog': 4727, 'misfortun': 4728, 'northern': 4729, 'redneck': 4730, 'alexandr': 4731, 'mathieu': 4732, 'flavor': 4733, 'choke': 4734, 'vile': 4735, 'rooki': 4736, 'mason': 4737, 'seedi': 4738, 'akin': 4739, 'lucil': 4740, 'holocaust': 4741, 'articl': 4742, 'venom': 4743, 'vanessa': 4744, 'bondag': 4745, 'electron': 4746, 'token': 4747, 'sicken': 4748, 'legitim': 4749, 'razor': 4750, 'eli': 4751, 'illus': 4752, 'toronto': 4753, 'shepherd': 4754, 'estrang': 4755, 'trier': 4756, 'lui': 4757, 'bikini': 4758, 'jordan': 4759, 'jo': 4760, 'breakfast': 4761, 'blatantli': 4762, 'wardrob': 4763, 'uma': 4764, 'static': 4765, 'marlon': 4766, 'foil': 4767, 'nope': 4768, 'cerebr': 4769, 'pc': 4770, 'http': 4771, 'feast': 4772, 'isra': 4773, 'orphan': 4774, 'milo': 4775, 'abund': 4776, 'psych': 4777, 'audrey': 4778, 'leather': 4779, 'huston': 4780, 'ideolog': 4781, 'highway': 4782, 'magician': 4783, 'ceremoni': 4784, 'swept': 4785, 'retriev': 4786, 'frog': 4787, 'fifth': 4788, 'wrestler': 4789, 'dudley': 4790, 'oppon': 4791, 'nightclub': 4792, 'shorter': 4793, 'howl': 4794, 'outdat': 4795, 'peer': 4796, 'glare': 4797, 'smack': 4798, 'affleck': 4799, 'deem': 4800, 'linear': 4801, 'feminin': 4802, 'disregard': 4803, 'charlton': 4804, 'knightley': 4805, 'gilbert': 4806, 'boyer': 4807, 'turd': 4808, 'cartoonish': 4809, 'comprehend': 4810, 'clinic': 4811, 'tack': 4812, 'styliz': 4813, 'gunga': 4814, 'braveheart': 4815, 'uniformli': 4816, '1994': 4817, 'lighter': 4818, 'whack': 4819, 'energet': 4820, 'breakdown': 4821, 'plate': 4822, 'newer': 4823, 'cemeteri': 4824, 'monument': 4825, 'conrad': 4826, 'boo': 4827, 'einstein': 4828, 'compris': 4829, 'snatch': 4830, 'moe': 4831, 'cuban': 4832, 'evolut': 4833, 'client': 4834, 'spine': 4835, 'greet': 4836, 'lavish': 4837, 'spawn': 4838, '1991': 4839, 'corn': 4840, 'btw': 4841, 'chip': 4842, 'goldsworthi': 4843, 'durat': 4844, 'collector': 4845, 'senat': 4846, 'summar': 4847, 'sleaz': 4848, '4th': 4849, 'bogu': 4850, 'lifeless': 4851, 'potter': 4852, 'toe': 4853, 'phenomen': 4854, 'bastard': 4855, 'deliver': 4856, 'salman': 4857, 'tara': 4858, 'mitch': 4859, 'bulk': 4860, 'trauma': 4861, 'neatli': 4862, 'fluid': 4863, 'wtf': 4864, 'ol': 4865, 'pronounc': 4866, 'undead': 4867, 'judd': 4868, 'firmli': 4869, 'jedi': 4870, 'signal': 4871, 'ie': 4872, 'randolph': 4873, 'appl': 4874, '1977': 4875, 'embark': 4876, 'nina': 4877, 'outright': 4878, 'luxuri': 4879, 'constitut': 4880, 'sorrow': 4881, 'capot': 4882, 'undertak': 4883, 'lex': 4884, 'armstrong': 4885, 'mcqueen': 4886, 'occup': 4887, 'inaccuraci': 4888, 'jam': 4889, 'healthi': 4890, 'alleg': 4891, 'replay': 4892, 'historian': 4893, 'cecil': 4894, 'clara': 4895, 'gilliam': 4896, 'belli': 4897, 'kent': 4898, '1974': 4899, 'eleven': 4900, 'spectacl': 4901, 'bori': 4902, 'kazan': 4903, 'liu': 4904, 'evelyn': 4905, 'jare': 4906, 'jule': 4907, 'creek': 4908, 'tokyo': 4909, 'spray': 4910, '1985': 4911, 'forgiven': 4912, 'vain': 4913, 'porter': 4914, 'unattract': 4915, 'subtli': 4916, 'sacrif': 4917, 'pioneer': 4918, 'conan': 4919, 'antonio': 4920, 'goldblum': 4921, 'relentless': 4922, 'vignett': 4923, 'congratul': 4924, 'fruit': 4925, 'unsuspect': 4926, 'paula': 4927, 'curtain': 4928, 'ash': 4929, 'bait': 4930, 'aussi': 4931, 'cape': 4932, 'truman': 4933, 'meal': 4934, 'kiddi': 4935, 'roar': 4936, 'inaccur': 4937, 'id': 4938, 'poker': 4939, 'groan': 4940, 'inclus': 4941, 'comprehens': 4942, 'pepper': 4943, 'palm': 4944, 'mum': 4945, 'basket': 4946, 'galaxi': 4947, 'propheci': 4948, 'sidewalk': 4949, 'blur': 4950, 'knee': 4951, 'walt': 4952, 'lauren': 4953, 'comb': 4954, 'lanc': 4955, 'miniseri': 4956, 'abound': 4957, 'decapit': 4958, 'genet': 4959, 'carmen': 4960, 'miami': 4961, 'bsg': 4962, 'rosario': 4963, 'macabr': 4964, 'mice': 4965, 'scariest': 4966, 'sparkl': 4967, 'verg': 4968, 'drone': 4969, 'cypher': 4970, 'orchestr': 4971, 'epitom': 4972, 'jill': 4973, 'substanti': 4974, 'reincarn': 4975, 'weaker': 4976, 'weari': 4977, 'incorrect': 4978, 'dubiou': 4979, 'motorcycl': 4980, 'profil': 4981, 'masterson': 4982, 'vastli': 4983, 'growth': 4984, 'spill': 4985, 'modest': 4986, 'evan': 4987, 'asset': 4988, 'hostil': 4989, 'sophi': 4990, 'assort': 4991, 'playboy': 4992, 'optimist': 4993, 'frontal': 4994, 'detach': 4995, 'victorian': 4996, 'rapidli': 4997, 'bravo': 4998, 'handicap': 4999}\n"
     ]
    }
   ],
   "source": [
    "# Print vocabulary (bag of words) - word dictionary\n",
    "print(word_dict)"
   ]
  },
  {
   "cell_type": "code",
   "execution_count": 20,
   "metadata": {},
   "outputs": [
    {
     "data": {
      "text/plain": [
       "['go',\n",
       " 'look',\n",
       " 'child',\n",
       " 'make',\n",
       " 'sure',\n",
       " 'live',\n",
       " 'anywher',\n",
       " 'near',\n",
       " 'graveyard',\n",
       " 'especi',\n",
       " 'said',\n",
       " 'kid',\n",
       " 'habit',\n",
       " 'draw',\n",
       " 'gori',\n",
       " 'pictur',\n",
       " 'disappear',\n",
       " 'night',\n",
       " 'among',\n",
       " 'tombston',\n",
       " 'see',\n",
       " 'friend',\n",
       " 'long',\n",
       " 'hair',\n",
       " 'heroin',\n",
       " 'oblivi',\n",
       " 'sign',\n",
       " 'shack',\n",
       " 'famili',\n",
       " 'norton',\n",
       " 'includ',\n",
       " 'strict',\n",
       " 'father',\n",
       " 'dullard',\n",
       " 'older',\n",
       " 'brother',\n",
       " 'becom',\n",
       " 'love',\n",
       " 'interest',\n",
       " 'bud',\n",
       " 'babysitt',\n",
       " 'even',\n",
       " 'spooki',\n",
       " 'zombi',\n",
       " 'gang',\n",
       " 'outsid',\n",
       " 'cast',\n",
       " 'tendenc',\n",
       " 'talk',\n",
       " 'even',\n",
       " 'lip',\n",
       " 'move',\n",
       " 'word',\n",
       " 'match',\n",
       " 'movement',\n",
       " 'mouth',\n",
       " 'enough',\n",
       " 'domest',\n",
       " 'anim',\n",
       " 'sacrif',\n",
       " 'old',\n",
       " 'ladi',\n",
       " 'eyebal',\n",
       " 'torn',\n",
       " 'orchestra',\n",
       " 'shut',\n",
       " 'scene',\n",
       " 'even',\n",
       " 'quiet',\n",
       " 'one',\n",
       " 'oh',\n",
       " 'editor',\n",
       " 'day',\n",
       " 'go',\n",
       " 'way',\n",
       " 'film',\n",
       " 'drone',\n",
       " 'fact',\n",
       " 'would',\n",
       " 'better',\n",
       " 'everybodi',\n",
       " 'involv',\n",
       " 'taken',\n",
       " 'breather',\n",
       " 'smelt',\n",
       " 'sign',\n",
       " 'gone',\n",
       " 'awol',\n",
       " 'ye',\n",
       " 'know',\n",
       " 'hard',\n",
       " 'get',\n",
       " 'movi',\n",
       " 'day',\n",
       " 'sort',\n",
       " 'starter',\n",
       " 'point',\n",
       " 'one',\n",
       " 'cv',\n",
       " 'want',\n",
       " 'would',\n",
       " 'like',\n",
       " 'traine',\n",
       " 'farm',\n",
       " 'labour',\n",
       " 'convict',\n",
       " 'chicken',\n",
       " 'molest',\n",
       " 'featur',\n",
       " 'one',\n",
       " 'worst',\n",
       " 'lead',\n",
       " 'perform',\n",
       " 'ever',\n",
       " 'shrill',\n",
       " 'laurel',\n",
       " 'barnett',\n",
       " 'anoth',\n",
       " 'almost',\n",
       " 'equal',\n",
       " 'bad',\n",
       " 'charisma',\n",
       " 'free',\n",
       " 'child',\n",
       " 'actress',\n",
       " 'rosali',\n",
       " 'cole',\n",
       " 'next',\n",
       " 'dakota',\n",
       " 'fan',\n",
       " 'film',\n",
       " 'meander',\n",
       " 'noth',\n",
       " 'pad',\n",
       " 'get',\n",
       " 'pass',\n",
       " 'climax',\n",
       " 'involv',\n",
       " 'five',\n",
       " 'six',\n",
       " 'member',\n",
       " 'undead',\n",
       " 'barricad',\n",
       " 'utterli',\n",
       " 'useless',\n",
       " 'heroin',\n",
       " 'shed',\n",
       " 'bit',\n",
       " 'rough',\n",
       " 'fend',\n",
       " 'ghoul',\n",
       " 'plank',\n",
       " 'wood',\n",
       " 'one',\n",
       " 'shell',\n",
       " 'shotgun',\n",
       " 'whatev',\n",
       " 'lay',\n",
       " 'hand',\n",
       " 'back',\n",
       " 'minut',\n",
       " 'earlier',\n",
       " 'car',\n",
       " 'accident',\n",
       " 'discov',\n",
       " 'creatur',\n",
       " 'found',\n",
       " 'nois',\n",
       " 'horn',\n",
       " 'repel',\n",
       " 'shuffl',\n",
       " 'sound',\n",
       " 'stay',\n",
       " 'safe',\n",
       " 'cours',\n",
       " 'run',\n",
       " 'abandon',\n",
       " 'build',\n",
       " 'middl',\n",
       " 'nowher',\n",
       " 'bloke',\n",
       " 'prove',\n",
       " 'hardnut',\n",
       " 'girl',\n",
       " 'act',\n",
       " 'like',\n",
       " 'nervou',\n",
       " 'breakdown',\n",
       " 'final',\n",
       " 'film',\n",
       " 'close',\n",
       " 'end',\n",
       " 'goe',\n",
       " 'grind',\n",
       " 'halt',\n",
       " 'main',\n",
       " 'charact',\n",
       " 'wander',\n",
       " 'back',\n",
       " 'vehicl',\n",
       " 'cover',\n",
       " 'fake',\n",
       " 'blood',\n",
       " 'noth',\n",
       " 'horribl',\n",
       " 'happen',\n",
       " 'dear',\n",
       " 'viewer',\n",
       " 'someth',\n",
       " 'horribl',\n",
       " 'happen',\n",
       " 'sat',\n",
       " 'one',\n",
       " 'lamebrain',\n",
       " 'bore',\n",
       " 'horror',\n",
       " 'film',\n",
       " 'ever',\n",
       " 'like',\n",
       " 'see',\n",
       " 'lost',\n",
       " '82',\n",
       " 'minut',\n",
       " 'life',\n",
       " 'never',\n",
       " 'get',\n",
       " 'back',\n",
       " 'think',\n",
       " 'year',\n",
       " 'deathb',\n",
       " 'trade',\n",
       " 'hour',\n",
       " '22',\n",
       " 'minut',\n",
       " 'spend',\n",
       " 'bit',\n",
       " 'extra',\n",
       " 'time',\n",
       " 'famili',\n",
       " 'sadli',\n",
       " 'alreadi',\n",
       " 'late',\n",
       " 'make',\n",
       " 'mistak',\n",
       " '2',\n",
       " '10']"
      ]
     },
     "execution_count": 20,
     "metadata": {},
     "output_type": "execute_result"
    }
   ],
   "source": [
    "# Sample Train data before integer conversion using word dictionary ( bag of words)\n",
    "train_X[100]"
   ]
  },
  {
   "cell_type": "code",
   "execution_count": 21,
   "metadata": {},
   "outputs": [
    {
     "data": {
      "text/plain": [
       "['movi',\n",
       " 'one',\n",
       " 'best',\n",
       " 'ever',\n",
       " 'seen',\n",
       " 'day',\n",
       " 'remind',\n",
       " 'movi',\n",
       " 'someth',\n",
       " 'tv',\n",
       " 'came',\n",
       " 'back',\n",
       " 'like',\n",
       " 'dam',\n",
       " 'flood',\n",
       " 'never',\n",
       " 'touch',\n",
       " 'movi',\n",
       " 'one',\n",
       " 'movi',\n",
       " 'actual',\n",
       " 'could',\n",
       " 'quit',\n",
       " 'cri',\n",
       " '2',\n",
       " 'hour',\n",
       " 'movi',\n",
       " 'ever',\n",
       " 'move',\n",
       " 'way',\n",
       " '15',\n",
       " 'time',\n",
       " 'movi',\n",
       " 'seen',\n",
       " 'sinc',\n",
       " 'hope',\n",
       " 'find',\n",
       " 'copi',\n",
       " 'buy',\n",
       " 'watch',\n",
       " 'whenev',\n",
       " 'want',\n",
       " 'someon',\n",
       " 'suggest',\n",
       " 'see',\n",
       " 'movi',\n",
       " 'go',\n",
       " 'disappoint',\n",
       " 'peggi',\n",
       " 'fri']"
      ]
     },
     "execution_count": 21,
     "metadata": {},
     "output_type": "execute_result"
    }
   ],
   "source": [
    "# Sample test data before integer conversion using word dictionary ( bag of words)\n",
    "test_X[100]"
   ]
  },
  {
   "cell_type": "code",
   "execution_count": 22,
   "metadata": {},
   "outputs": [],
   "source": [
    "train_X, train_X_len = convert_and_pad_data(word_dict, train_X)\n",
    "test_X, test_X_len = convert_and_pad_data(word_dict, test_X)"
   ]
  },
  {
   "cell_type": "markdown",
   "metadata": {},
   "source": [
    "As a quick check to make sure that things are working as intended, check to see what one of the reviews in the training set looks like after having been processeed. Does this look reasonable? What is the length of a review in the training set?"
   ]
  },
  {
   "cell_type": "code",
   "execution_count": 23,
   "metadata": {},
   "outputs": [
    {
     "data": {
      "text/plain": [
       "array([  25,   19,  421,    8,  142,   75, 1602,  668,    1,  187,  233,\n",
       "        138, 3787, 1122, 1967,  269, 1421,  212,  714,    1,   11,  132,\n",
       "        114,  923, 1425,    1, 1061,    1,  118,    1,  261,    1,  230,\n",
       "          1,  856,  334,  128,   29,   69, 2926,    1,   14, 3009,  417,\n",
       "       1128,  859,   73, 4290,  241,   14, 2311,  195,  307,  691, 1533,\n",
       "       1160,  119, 3406,  192, 4917,   72,  480,    1, 2666,    1, 2261,\n",
       "         18,   14, 1663,    4,  393, 2797,   91,   25,   31,    3, 4969,\n",
       "        100,   15,   58, 1261,  268,  569,    1,    1, 1061,  743,    1,\n",
       "        363,   37,  178,   10,    2,   91,  330,    1,   86,    4,    1,\n",
       "         49,   15,    5,    1, 2996,    1, 1976, 3764,    1,  285,    4,\n",
       "        174,  177,   60,   56,    1, 3118,    1,   79,  139,  866,   24,\n",
       "       2886,  783,  421,  352,    1, 2929,  323,    1,  123,    3, 3822,\n",
       "         82, 2868,   10,  577, 1178,  268,  596, 1324,  645, 4867,    1,\n",
       "       1164, 2958, 1425, 3590,  124, 2196,    1,    1,    1,  830,    4,\n",
       "       4224,    1,  767, 2416,  228,   64,  101,  845,  379, 1899,  665,\n",
       "        982,  184, 2088, 4291,    1,    1,  226,  440, 1742,  191,  175,\n",
       "       1677,  612,  576, 1182,    1,  597,    1,   89,   32,    5, 3674,\n",
       "       4821,  137,    3,  316,   22,  194,    1,    1,  216,    9, 1902,\n",
       "         64, 1636,  608, 1018,  446,   82,  396,  109, 2748,  256,   66,\n",
       "        396,  109, 1665,    4,    1,  186,  102,    3,   56,    5,   11,\n",
       "        359,    1,  101,   50,   51,   10,   64,   30,   44,    1, 2354,\n",
       "        239, 4292,  101,  677,  124,  995,    6,  118,  947,  403,  424,\n",
       "          8,  874,  160,   83,    0,    0,    0,    0,    0,    0,    0,\n",
       "          0,    0,    0,    0,    0,    0,    0,    0,    0,    0,    0,\n",
       "          0,    0,    0,    0,    0,    0,    0,    0,    0,    0,    0,\n",
       "          0,    0,    0,    0,    0,    0,    0,    0,    0,    0,    0,\n",
       "          0,    0,    0,    0,    0,    0,    0,    0,    0,    0,    0,\n",
       "          0,    0,    0,    0,    0,    0,    0,    0,    0,    0,    0,\n",
       "          0,    0,    0,    0,    0,    0,    0,    0,    0,    0,    0,\n",
       "          0,    0,    0,    0,    0,    0,    0,    0,    0,    0,    0,\n",
       "          0,    0,    0,    0,    0,    0,    0,    0,    0,    0,    0,\n",
       "          0,    0,    0,    0,    0,    0,    0,    0,    0,    0,    0,\n",
       "          0,    0,    0,    0,    0,    0,    0,    0,    0,    0,    0,\n",
       "          0,    0,    0,    0,    0,    0,    0,    0,    0,    0,    0,\n",
       "          0,    0,    0,    0,    0,    0,    0,    0,    0,    0,    0,\n",
       "          0,    0,    0,    0,    0,    0,    0,    0,    0,    0,    0,\n",
       "          0,    0,    0,    0,    0,    0,    0,    0,    0,    0,    0,\n",
       "          0,    0,    0,    0,    0,    0,    0,    0,    0,    0,    0,\n",
       "          0,    0,    0,    0,    0,    0,    0,    0,    0,    0,    0,\n",
       "          0,    0,    0,    0,    0,    0,    0,    0,    0,    0,    0,\n",
       "          0,    0,    0,    0,    0,    0,    0,    0,    0,    0,    0,\n",
       "          0,    0,    0,    0,    0,    0,    0,    0,    0,    0,    0,\n",
       "          0,    0,    0,    0,    0,    0,    0,    0,    0,    0,    0,\n",
       "          0,    0,    0,    0,    0,    0,    0,    0,    0,    0,    0,\n",
       "          0,    0,    0,    0,    0,    0,    0,    0,    0,    0,    0,\n",
       "          0,    0,    0,    0,    0])"
      ]
     },
     "execution_count": 23,
     "metadata": {},
     "output_type": "execute_result"
    }
   ],
   "source": [
    "# Use this cell to examine one of the processed reviews to make sure everything is working as intended.\n",
    "train_X[100]"
   ]
  },
  {
   "cell_type": "code",
   "execution_count": 24,
   "metadata": {},
   "outputs": [
    {
     "data": {
      "text/plain": [
       "array([   2,    4,   53,   56,   47,   91,  620,    2,   66,  168,  333,\n",
       "         64,    5,    1,    1,   51,  431,    2,    4,    2,   68,   36,\n",
       "         96,  730,  160,  239,    2,   56,  195,   31, 1025,    6,    2,\n",
       "         47,  158,  189,   61,  759,  553,   12, 1765,   49,  201,  725,\n",
       "         11,    2,   25,  287,    1, 3583,    0,    0,    0,    0,    0,\n",
       "          0,    0,    0,    0,    0,    0,    0,    0,    0,    0,    0,\n",
       "          0,    0,    0,    0,    0,    0,    0,    0,    0,    0,    0,\n",
       "          0,    0,    0,    0,    0,    0,    0,    0,    0,    0,    0,\n",
       "          0,    0,    0,    0,    0,    0,    0,    0,    0,    0,    0,\n",
       "          0,    0,    0,    0,    0,    0,    0,    0,    0,    0,    0,\n",
       "          0,    0,    0,    0,    0,    0,    0,    0,    0,    0,    0,\n",
       "          0,    0,    0,    0,    0,    0,    0,    0,    0,    0,    0,\n",
       "          0,    0,    0,    0,    0,    0,    0,    0,    0,    0,    0,\n",
       "          0,    0,    0,    0,    0,    0,    0,    0,    0,    0,    0,\n",
       "          0,    0,    0,    0,    0,    0,    0,    0,    0,    0,    0,\n",
       "          0,    0,    0,    0,    0,    0,    0,    0,    0,    0,    0,\n",
       "          0,    0,    0,    0,    0,    0,    0,    0,    0,    0,    0,\n",
       "          0,    0,    0,    0,    0,    0,    0,    0,    0,    0,    0,\n",
       "          0,    0,    0,    0,    0,    0,    0,    0,    0,    0,    0,\n",
       "          0,    0,    0,    0,    0,    0,    0,    0,    0,    0,    0,\n",
       "          0,    0,    0,    0,    0,    0,    0,    0,    0,    0,    0,\n",
       "          0,    0,    0,    0,    0,    0,    0,    0,    0,    0,    0,\n",
       "          0,    0,    0,    0,    0,    0,    0,    0,    0,    0,    0,\n",
       "          0,    0,    0,    0,    0,    0,    0,    0,    0,    0,    0,\n",
       "          0,    0,    0,    0,    0,    0,    0,    0,    0,    0,    0,\n",
       "          0,    0,    0,    0,    0,    0,    0,    0,    0,    0,    0,\n",
       "          0,    0,    0,    0,    0,    0,    0,    0,    0,    0,    0,\n",
       "          0,    0,    0,    0,    0,    0,    0,    0,    0,    0,    0,\n",
       "          0,    0,    0,    0,    0,    0,    0,    0,    0,    0,    0,\n",
       "          0,    0,    0,    0,    0,    0,    0,    0,    0,    0,    0,\n",
       "          0,    0,    0,    0,    0,    0,    0,    0,    0,    0,    0,\n",
       "          0,    0,    0,    0,    0,    0,    0,    0,    0,    0,    0,\n",
       "          0,    0,    0,    0,    0,    0,    0,    0,    0,    0,    0,\n",
       "          0,    0,    0,    0,    0,    0,    0,    0,    0,    0,    0,\n",
       "          0,    0,    0,    0,    0,    0,    0,    0,    0,    0,    0,\n",
       "          0,    0,    0,    0,    0,    0,    0,    0,    0,    0,    0,\n",
       "          0,    0,    0,    0,    0,    0,    0,    0,    0,    0,    0,\n",
       "          0,    0,    0,    0,    0,    0,    0,    0,    0,    0,    0,\n",
       "          0,    0,    0,    0,    0,    0,    0,    0,    0,    0,    0,\n",
       "          0,    0,    0,    0,    0,    0,    0,    0,    0,    0,    0,\n",
       "          0,    0,    0,    0,    0,    0,    0,    0,    0,    0,    0,\n",
       "          0,    0,    0,    0,    0,    0,    0,    0,    0,    0,    0,\n",
       "          0,    0,    0,    0,    0,    0,    0,    0,    0,    0,    0,\n",
       "          0,    0,    0,    0,    0,    0,    0,    0,    0,    0,    0,\n",
       "          0,    0,    0,    0,    0,    0,    0,    0,    0,    0,    0,\n",
       "          0,    0,    0,    0,    0])"
      ]
     },
     "execution_count": 24,
     "metadata": {},
     "output_type": "execute_result"
    }
   ],
   "source": [
    "test_X[100]"
   ]
  },
  {
   "cell_type": "code",
   "execution_count": 25,
   "metadata": {},
   "outputs": [
    {
     "data": {
      "text/plain": [
       "500"
      ]
     },
     "execution_count": 25,
     "metadata": {},
     "output_type": "execute_result"
    }
   ],
   "source": [
    "len(train_X[100])"
   ]
  },
  {
   "cell_type": "code",
   "execution_count": 26,
   "metadata": {},
   "outputs": [
    {
     "data": {
      "text/plain": [
       "500"
      ]
     },
     "execution_count": 26,
     "metadata": {},
     "output_type": "execute_result"
    }
   ],
   "source": [
    "len(test_X[100])"
   ]
  },
  {
   "cell_type": "markdown",
   "metadata": {},
   "source": [
    "**Question:** In the cells above we use the `preprocess_data` and `convert_and_pad_data` methods to process both the training and testing set. Why or why not might this be a problem?"
   ]
  },
  {
   "cell_type": "markdown",
   "metadata": {},
   "source": [
    "***************\n",
    "**Answer:** : \n",
    "*****************\n",
    "RNN model or XGBoost or any other machine learning model expects data to be feed in the numerical data format. Categorical variables needs to be converted into numerical equivalent.  Therefore, it is required to apply preprocess_data and convert_and_pad_data steps on both training and test dataset.  \n",
    "\n",
    "Preprocess steps converts review paragraph into list of words.  Pre-process step also uses NLTK and beautiful suoup libraries to handle following, \n",
    "a. Remove htmls\n",
    "b. lowercase\n",
    "c. tokenize words\n",
    "d. apply stemming\n",
    "e. create a list of words\n",
    "\n",
    "After Preprocess step is complete , we need to convert all words into integer representation using word dictionary (bag of words approach).  This is done with the help of convert_and_pad_data method.\n",
    "\n",
    "Other thing , we need to ensure is that the data for RNN model is in fixed format.  Therfore, we applied padding for both test and training dataset.  Total length for each record is 500.\n"
   ]
  },
  {
   "cell_type": "markdown",
   "metadata": {},
   "source": [
    "## Step 3: Upload the data to S3\n",
    "\n",
    "As in the XGBoost notebook, we will need to upload the training dataset to S3 in order for our training code to access it. For now we will save it locally and we will upload to S3 later on.\n",
    "\n",
    "### Save the processed training dataset locally\n",
    "\n",
    "It is important to note the format of the data that we are saving as we will need to know it when we write the training code. In our case, each row of the dataset has the form `label`, `length`, `review[500]` where `review[500]` is a sequence of `500` integers representing the words in the review."
   ]
  },
  {
   "cell_type": "code",
   "execution_count": 27,
   "metadata": {},
   "outputs": [
    {
     "data": {
      "text/plain": [
       "array([ 65,  78, 106, ..., 323, 107, 293])"
      ]
     },
     "execution_count": 27,
     "metadata": {},
     "output_type": "execute_result"
    }
   ],
   "source": [
    "train_X_len"
   ]
  },
  {
   "cell_type": "code",
   "execution_count": 28,
   "metadata": {},
   "outputs": [],
   "source": [
    "import pandas as pd\n",
    "    \n",
    "pd.concat([pd.DataFrame(train_y), pd.DataFrame(train_X_len), pd.DataFrame(train_X)], axis=1) \\\n",
    "        .to_csv(os.path.join(data_dir, 'train.csv'), header=False, index=False)"
   ]
  },
  {
   "cell_type": "markdown",
   "metadata": {},
   "source": [
    "### Uploading the training data\n",
    "\n",
    "\n",
    "Next, we need to upload the training data to the SageMaker default S3 bucket so that we can provide access to it while training our model."
   ]
  },
  {
   "cell_type": "code",
   "execution_count": 29,
   "metadata": {},
   "outputs": [],
   "source": [
    "import sagemaker\n",
    "\n",
    "sagemaker_session = sagemaker.Session()\n",
    "\n",
    "bucket = sagemaker_session.default_bucket()\n",
    "prefix = 'sagemaker/sentiment_rnn'\n",
    "\n",
    "role = sagemaker.get_execution_role()"
   ]
  },
  {
   "cell_type": "code",
   "execution_count": 30,
   "metadata": {},
   "outputs": [],
   "source": [
    "input_data = sagemaker_session.upload_data(path=data_dir, bucket=bucket, key_prefix=prefix)"
   ]
  },
  {
   "cell_type": "markdown",
   "metadata": {},
   "source": [
    "**NOTE:** The cell above uploads the entire contents of our data directory. This includes the `word_dict.pkl` file. This is fortunate as we will need this later on when we create an endpoint that accepts an arbitrary review. For now, we will just take note of the fact that it resides in the data directory (and so also in the S3 training bucket) and that we will need to make sure it gets saved in the model directory."
   ]
  },
  {
   "cell_type": "markdown",
   "metadata": {},
   "source": [
    "## Step 4: Build and Train the PyTorch Model\n",
    "\n",
    "In the XGBoost notebook we discussed what a model is in the SageMaker framework. In particular, a model comprises three objects\n",
    "\n",
    " - Model Artifacts,\n",
    " - Training Code, and\n",
    " - Inference Code,\n",
    " \n",
    "each of which interact with one another. In the XGBoost example we used training and inference code that was provided by Amazon. Here we will still be using containers provided by Amazon with the added benefit of being able to include our own custom code.\n",
    "\n",
    "We will start by implementing our own neural network in PyTorch along with a training script. For the purposes of this project we have provided the necessary model object in the `model.py` file, inside of the `train` folder. You can see the provided implementation by running the cell below."
   ]
  },
  {
   "cell_type": "code",
   "execution_count": 31,
   "metadata": {},
   "outputs": [
    {
     "name": "stdout",
     "output_type": "stream",
     "text": [
      "\u001b[34mimport\u001b[39;49;00m \u001b[04m\u001b[36mtorch\u001b[39;49;00m\u001b[04m\u001b[36m.\u001b[39;49;00m\u001b[04m\u001b[36mnn\u001b[39;49;00m \u001b[34mas\u001b[39;49;00m \u001b[04m\u001b[36mnn\u001b[39;49;00m\r\n",
      "\r\n",
      "\u001b[34mclass\u001b[39;49;00m \u001b[04m\u001b[32mLSTMClassifier\u001b[39;49;00m(nn.Module):\r\n",
      "    \u001b[33m\"\"\"\u001b[39;49;00m\r\n",
      "\u001b[33m    This is the simple RNN model we will be using to perform Sentiment Analysis.\u001b[39;49;00m\r\n",
      "\u001b[33m    \"\"\"\u001b[39;49;00m\r\n",
      "\r\n",
      "    \u001b[34mdef\u001b[39;49;00m \u001b[32m__init__\u001b[39;49;00m(\u001b[36mself\u001b[39;49;00m, embedding_dim, hidden_dim, vocab_size):\r\n",
      "        \u001b[33m\"\"\"\u001b[39;49;00m\r\n",
      "\u001b[33m        Initialize the model by settingg up the various layers.\u001b[39;49;00m\r\n",
      "\u001b[33m        \"\"\"\u001b[39;49;00m\r\n",
      "        \u001b[36msuper\u001b[39;49;00m(LSTMClassifier, \u001b[36mself\u001b[39;49;00m).\u001b[32m__init__\u001b[39;49;00m()\r\n",
      "\r\n",
      "        \u001b[36mself\u001b[39;49;00m.embedding = nn.Embedding(vocab_size, embedding_dim, padding_idx=\u001b[34m0\u001b[39;49;00m)\r\n",
      "        \u001b[36mself\u001b[39;49;00m.lstm = nn.LSTM(embedding_dim, hidden_dim)\r\n",
      "        \u001b[36mself\u001b[39;49;00m.dense = nn.Linear(in_features=hidden_dim, out_features=\u001b[34m1\u001b[39;49;00m)\r\n",
      "        \u001b[36mself\u001b[39;49;00m.sig = nn.Sigmoid()\r\n",
      "        \r\n",
      "        \u001b[36mself\u001b[39;49;00m.word_dict = \u001b[34mNone\u001b[39;49;00m\r\n",
      "\r\n",
      "    \u001b[34mdef\u001b[39;49;00m \u001b[32mforward\u001b[39;49;00m(\u001b[36mself\u001b[39;49;00m, x):\r\n",
      "        \u001b[33m\"\"\"\u001b[39;49;00m\r\n",
      "\u001b[33m        Perform a forward pass of our model on some input.\u001b[39;49;00m\r\n",
      "\u001b[33m        \"\"\"\u001b[39;49;00m\r\n",
      "        x = x.t()\r\n",
      "        lengths = x[\u001b[34m0\u001b[39;49;00m,:]\r\n",
      "        reviews = x[\u001b[34m1\u001b[39;49;00m:,:]\r\n",
      "        embeds = \u001b[36mself\u001b[39;49;00m.embedding(reviews)\r\n",
      "        lstm_out, _ = \u001b[36mself\u001b[39;49;00m.lstm(embeds)\r\n",
      "        out = \u001b[36mself\u001b[39;49;00m.dense(lstm_out)\r\n",
      "        out = out[lengths - \u001b[34m1\u001b[39;49;00m, \u001b[36mrange\u001b[39;49;00m(\u001b[36mlen\u001b[39;49;00m(lengths))]\r\n",
      "        \u001b[34mreturn\u001b[39;49;00m \u001b[36mself\u001b[39;49;00m.sig(out.squeeze())\r\n"
     ]
    }
   ],
   "source": [
    "!pygmentize train/model.py"
   ]
  },
  {
   "cell_type": "markdown",
   "metadata": {},
   "source": [
    "The important takeaway from the implementation provided is that there are three parameters that we may wish to tweak to improve the performance of our model. These are the embedding dimension, the hidden dimension and the size of the vocabulary. We will likely want to make these parameters configurable in the training script so that if we wish to modify them we do not need to modify the script itself. We will see how to do this later on. To start we will write some of the training code in the notebook so that we can more easily diagnose any issues that arise.\n",
    "\n",
    "First we will load a small portion of the training data set to use as a sample. It would be very time consuming to try and train the model completely in the notebook as we do not have access to a gpu and the compute instance that we are using is not particularly powerful. However, we can work on a small bit of the data to get a feel for how our training script is behaving."
   ]
  },
  {
   "cell_type": "code",
   "execution_count": 32,
   "metadata": {},
   "outputs": [],
   "source": [
    "import torch\n",
    "import torch.utils.data\n",
    "\n",
    "# Read in only the first 250 rows\n",
    "train_sample = pd.read_csv(os.path.join(data_dir, 'train.csv'), header=None, names=None, nrows=250)\n",
    "\n",
    "# Turn the input pandas dataframe into tensors\n",
    "train_sample_y = torch.from_numpy(train_sample[[0]].values).float().squeeze()\n",
    "train_sample_X = torch.from_numpy(train_sample.drop([0], axis=1).values).long()\n",
    "\n",
    "# Build the dataset\n",
    "train_sample_ds = torch.utils.data.TensorDataset(train_sample_X, train_sample_y)\n",
    "# Build the dataloader\n",
    "train_sample_dl = torch.utils.data.DataLoader(train_sample_ds, batch_size=50)"
   ]
  },
  {
   "cell_type": "markdown",
   "metadata": {},
   "source": [
    "### (TODO) Writing the training method\n",
    "\n",
    "Next we need to write the training code itself. This should be very similar to training methods that you have written before to train PyTorch models. We will leave any difficult aspects such as model saving / loading and parameter loading until a little later."
   ]
  },
  {
   "cell_type": "code",
   "execution_count": 33,
   "metadata": {},
   "outputs": [],
   "source": [
    "def train(model, train_loader, epochs, optimizer, loss_fn, device):\n",
    "    for epoch in range(1, epochs + 1):\n",
    "        model.train()\n",
    "        total_loss = 0\n",
    "        for batch in train_loader:         \n",
    "            batch_X, batch_y = batch\n",
    "            \n",
    "            batch_X = batch_X.to(device)\n",
    "            batch_y = batch_y.to(device)\n",
    "            \n",
    "            # TODO: Complete this train method to train the model provided.\n",
    "            model.zero_grad()\n",
    "            output = model.forward(batch_X)\n",
    "            loss = loss_fn(output.squeeze(), batch_y)\n",
    "            loss.backward()\n",
    "            optimizer.step()\n",
    "            \n",
    "            total_loss += loss.data.item()\n",
    "        print(\"Epoch: {}, BCELoss: {}\".format(epoch, total_loss / len(train_loader)))"
   ]
  },
  {
   "cell_type": "markdown",
   "metadata": {},
   "source": [
    "Supposing we have the training method above, we will test that it is working by writing a bit of code in the notebook that executes our training method on the small sample training set that we loaded earlier. The reason for doing this in the notebook is so that we have an opportunity to fix any errors that arise early when they are easier to diagnose."
   ]
  },
  {
   "cell_type": "code",
   "execution_count": 34,
   "metadata": {},
   "outputs": [
    {
     "name": "stdout",
     "output_type": "stream",
     "text": [
      "Epoch: 1, BCELoss: 0.6949589252471924\n",
      "Epoch: 2, BCELoss: 0.6864437222480774\n",
      "Epoch: 3, BCELoss: 0.6791678905487061\n",
      "Epoch: 4, BCELoss: 0.6710579991340637\n",
      "Epoch: 5, BCELoss: 0.6609204292297364\n"
     ]
    }
   ],
   "source": [
    "import torch.optim as optim\n",
    "from train.model import LSTMClassifier\n",
    "\n",
    "device = torch.device(\"cuda\" if torch.cuda.is_available() else \"cpu\")\n",
    "model = LSTMClassifier(32, 100, 5000).to(device)\n",
    "optimizer = optim.Adam(model.parameters())\n",
    "loss_fn = torch.nn.BCELoss()\n",
    "\n",
    "train(model, train_sample_dl, 5, optimizer, loss_fn, device)"
   ]
  },
  {
   "cell_type": "markdown",
   "metadata": {},
   "source": [
    "In order to construct a PyTorch model using SageMaker we must provide SageMaker with a training script. We may optionally include a directory which will be copied to the container and from which our training code will be run. When the training container is executed it will check the uploaded directory (if there is one) for a `requirements.txt` file and install any required Python libraries, after which the training script will be run."
   ]
  },
  {
   "cell_type": "markdown",
   "metadata": {},
   "source": [
    "### (TODO) Training the model\n",
    "\n",
    "When a PyTorch model is constructed in SageMaker, an entry point must be specified. This is the Python file which will be executed when the model is trained. Inside of the `train` directory is a file called `train.py` which has been provided and which contains most of the necessary code to train our model. The only thing that is missing is the implementation of the `train()` method which you wrote earlier in this notebook.\n",
    "\n",
    "**TODO**: Copy the `train()` method written above and paste it into the `train/train.py` file where required.\n",
    "\n",
    "The way that SageMaker passes hyperparameters to the training script is by way of arguments. These arguments can then be parsed and used in the training script. To see how this is done take a look at the provided `train/train.py` file."
   ]
  },
  {
   "cell_type": "code",
   "execution_count": 61,
   "metadata": {},
   "outputs": [],
   "source": [
    "from sagemaker.pytorch import PyTorch\n",
    "\n",
    "estimator = PyTorch(entry_point=\"train.py\",\n",
    "                    source_dir=\"train\",\n",
    "                    role=role,\n",
    "                    framework_version='0.4.0',\n",
    "                    train_instance_count=1,\n",
    "                    train_instance_type='ml.m4.xlarge',\n",
    "                    hyperparameters={\n",
    "                        'epochs': 15,\n",
    "                        'hidden_dim': 200,\n",
    "                    })"
   ]
  },
  {
   "cell_type": "code",
   "execution_count": null,
   "metadata": {},
   "outputs": [
    {
     "name": "stderr",
     "output_type": "stream",
     "text": [
      "'create_image_uri' will be deprecated in favor of 'ImageURIProvider' class in SageMaker Python SDK v2.\n",
      "'s3_input' class will be renamed to 'TrainingInput' in SageMaker Python SDK v2.\n",
      "'create_image_uri' will be deprecated in favor of 'ImageURIProvider' class in SageMaker Python SDK v2.\n"
     ]
    },
    {
     "name": "stdout",
     "output_type": "stream",
     "text": [
      "2021-02-03 04:02:53 Starting - Starting the training job...\n",
      "2021-02-03 04:02:55 Starting - Launching requested ML instances.........\n",
      "2021-02-03 04:04:24 Starting - Preparing the instances for training......\n",
      "2021-02-03 04:05:51 Downloading - Downloading input data\n",
      "2021-02-03 04:05:51 Training - Downloading the training image...\n",
      "2021-02-03 04:06:11 Training - Training image download completed. Training in progress.\u001b[34mbash: cannot set terminal process group (-1): Inappropriate ioctl for device\u001b[0m\n",
      "\u001b[34mbash: no job control in this shell\u001b[0m\n",
      "\u001b[34m2021-02-03 04:06:12,805 sagemaker-containers INFO     Imported framework sagemaker_pytorch_container.training\u001b[0m\n",
      "\u001b[34m2021-02-03 04:06:12,808 sagemaker-containers INFO     No GPUs detected (normal if no gpus installed)\u001b[0m\n",
      "\u001b[34m2021-02-03 04:06:12,821 sagemaker_pytorch_container.training INFO     Block until all host DNS lookups succeed.\u001b[0m\n",
      "\u001b[34m2021-02-03 04:06:12,825 sagemaker_pytorch_container.training INFO     Invoking user training script.\u001b[0m\n",
      "\u001b[34m2021-02-03 04:06:26,962 sagemaker-containers INFO     Module train does not provide a setup.py. \u001b[0m\n",
      "\u001b[34mGenerating setup.py\u001b[0m\n",
      "\u001b[34m2021-02-03 04:06:26,962 sagemaker-containers INFO     Generating setup.cfg\u001b[0m\n",
      "\u001b[34m2021-02-03 04:06:26,962 sagemaker-containers INFO     Generating MANIFEST.in\u001b[0m\n",
      "\u001b[34m2021-02-03 04:06:26,962 sagemaker-containers INFO     Installing module with the following command:\u001b[0m\n",
      "\u001b[34m/usr/bin/python -m pip install -U . -r requirements.txt\u001b[0m\n",
      "\u001b[34mProcessing /opt/ml/code\u001b[0m\n",
      "\u001b[34mCollecting pandas (from -r requirements.txt (line 1))\n",
      "  Downloading https://files.pythonhosted.org/packages/74/24/0cdbf8907e1e3bc5a8da03345c23cbed7044330bb8f73bb12e711a640a00/pandas-0.24.2-cp35-cp35m-manylinux1_x86_64.whl (10.0MB)\u001b[0m\n",
      "\u001b[34mCollecting numpy (from -r requirements.txt (line 2))\u001b[0m\n",
      "\u001b[34m  Downloading https://files.pythonhosted.org/packages/b5/36/88723426b4ff576809fec7d73594fe17a35c27f8d01f93637637a29ae25b/numpy-1.18.5-cp35-cp35m-manylinux1_x86_64.whl (19.9MB)\u001b[0m\n",
      "\u001b[34mCollecting nltk (from -r requirements.txt (line 3))\n",
      "  Downloading https://files.pythonhosted.org/packages/92/75/ce35194d8e3022203cca0d2f896dbb88689f9b3fce8e9f9cff942913519d/nltk-3.5.zip (1.4MB)\u001b[0m\n",
      "\u001b[34mCollecting beautifulsoup4 (from -r requirements.txt (line 4))\n",
      "  Downloading https://files.pythonhosted.org/packages/d1/41/e6495bd7d3781cee623ce23ea6ac73282a373088fcd0ddc809a047b18eae/beautifulsoup4-4.9.3-py3-none-any.whl (115kB)\u001b[0m\n",
      "\u001b[34mCollecting html5lib (from -r requirements.txt (line 5))\n",
      "  Downloading https://files.pythonhosted.org/packages/6c/dd/a834df6482147d48e225a49515aabc28974ad5a4ca3215c18a882565b028/html5lib-1.1-py2.py3-none-any.whl (112kB)\u001b[0m\n",
      "\u001b[34mRequirement already satisfied, skipping upgrade: python-dateutil>=2.5.0 in /usr/local/lib/python3.5/dist-packages (from pandas->-r requirements.txt (line 1)) (2.7.5)\u001b[0m\n",
      "\u001b[34mCollecting pytz>=2011k (from pandas->-r requirements.txt (line 1))\n",
      "  Downloading https://files.pythonhosted.org/packages/70/94/784178ca5dd892a98f113cdd923372024dc04b8d40abe77ca76b5fb90ca6/pytz-2021.1-py2.py3-none-any.whl (510kB)\u001b[0m\n",
      "\u001b[34mRequirement already satisfied, skipping upgrade: click in /usr/local/lib/python3.5/dist-packages (from nltk->-r requirements.txt (line 3)) (7.0)\u001b[0m\n",
      "\u001b[34mCollecting joblib (from nltk->-r requirements.txt (line 3))\n",
      "  Downloading https://files.pythonhosted.org/packages/28/5c/cf6a2b65a321c4a209efcdf64c2689efae2cb62661f8f6f4bb28547cf1bf/joblib-0.14.1-py2.py3-none-any.whl (294kB)\u001b[0m\n",
      "\u001b[34mCollecting regex (from nltk->-r requirements.txt (line 3))\u001b[0m\n",
      "\u001b[34m  Downloading https://files.pythonhosted.org/packages/2e/e4/3447fed9ab29944333f48730ecff4dca92f0868c5b188d6ab2b2078e32c2/regex-2020.11.13.tar.gz (694kB)\u001b[0m\n",
      "\u001b[34mCollecting tqdm (from nltk->-r requirements.txt (line 3))\u001b[0m\n",
      "\u001b[34m  Downloading https://files.pythonhosted.org/packages/80/02/8f8880a4fd6625461833abcf679d4c12a44c76f9925f92bf212bb6cefaad/tqdm-4.56.0-py2.py3-none-any.whl (72kB)\u001b[0m\n",
      "\u001b[34mCollecting soupsieve>1.2; python_version >= \"3.0\" (from beautifulsoup4->-r requirements.txt (line 4))\n",
      "  Downloading https://files.pythonhosted.org/packages/02/fb/1c65691a9aeb7bd6ac2aa505b84cb8b49ac29c976411c6ab3659425e045f/soupsieve-2.1-py3-none-any.whl\u001b[0m\n",
      "\u001b[34mRequirement already satisfied, skipping upgrade: six>=1.9 in /usr/local/lib/python3.5/dist-packages (from html5lib->-r requirements.txt (line 5)) (1.11.0)\u001b[0m\n",
      "\u001b[34mCollecting webencodings (from html5lib->-r requirements.txt (line 5))\n",
      "  Downloading https://files.pythonhosted.org/packages/f4/24/2a3e3df732393fed8b3ebf2ec078f05546de641fe1b667ee316ec1dcf3b7/webencodings-0.5.1-py2.py3-none-any.whl\u001b[0m\n",
      "\u001b[34mBuilding wheels for collected packages: nltk, train, regex\n",
      "  Running setup.py bdist_wheel for nltk: started\u001b[0m\n",
      "\u001b[34m  Running setup.py bdist_wheel for nltk: finished with status 'done'\n",
      "  Stored in directory: /root/.cache/pip/wheels/ae/8c/3f/b1fe0ba04555b08b57ab52ab7f86023639a526d8bc8d384306\n",
      "  Running setup.py bdist_wheel for train: started\n",
      "  Running setup.py bdist_wheel for train: finished with status 'done'\n",
      "  Stored in directory: /tmp/pip-ephem-wheel-cache-lc3vdh6t/wheels/35/24/16/37574d11bf9bde50616c67372a334f94fa8356bc7164af8ca3\n",
      "  Running setup.py bdist_wheel for regex: started\u001b[0m\n",
      "\u001b[34m  Running setup.py bdist_wheel for regex: finished with status 'done'\n",
      "  Stored in directory: /root/.cache/pip/wheels/27/f6/66/a4243e485a0ebc73dc59033ae26c48e82526f77dbfe158ac59\u001b[0m\n",
      "\u001b[34mSuccessfully built nltk train regex\u001b[0m\n",
      "\u001b[34mInstalling collected packages: pytz, numpy, pandas, joblib, regex, tqdm, nltk, soupsieve, beautifulsoup4, webencodings, html5lib, train\n",
      "  Found existing installation: numpy 1.15.4\n",
      "    Uninstalling numpy-1.15.4:\u001b[0m\n",
      "\u001b[34m      Successfully uninstalled numpy-1.15.4\u001b[0m\n",
      "\u001b[34mSuccessfully installed beautifulsoup4-4.9.3 html5lib-1.1 joblib-0.14.1 nltk-3.5 numpy-1.18.5 pandas-0.24.2 pytz-2021.1 regex-2020.11.13 soupsieve-2.1 tqdm-4.56.0 train-1.0.0 webencodings-0.5.1\u001b[0m\n",
      "\u001b[34mYou are using pip version 18.1, however version 20.3.4 is available.\u001b[0m\n",
      "\u001b[34mYou should consider upgrading via the 'pip install --upgrade pip' command.\u001b[0m\n",
      "\u001b[34m2021-02-03 04:06:50,356 sagemaker-containers INFO     No GPUs detected (normal if no gpus installed)\u001b[0m\n",
      "\u001b[34m2021-02-03 04:06:50,371 sagemaker-containers INFO     Invoking user script\n",
      "\u001b[0m\n",
      "\u001b[34mTraining Env:\n",
      "\u001b[0m\n",
      "\u001b[34m{\n",
      "    \"module_dir\": \"s3://sagemaker-us-east-1-103457653454/sagemaker-pytorch-2021-02-03-04-02-52-967/source/sourcedir.tar.gz\",\n",
      "    \"input_data_config\": {\n",
      "        \"training\": {\n",
      "            \"S3DistributionType\": \"FullyReplicated\",\n",
      "            \"TrainingInputMode\": \"File\",\n",
      "            \"RecordWrapperType\": \"None\"\n",
      "        }\n",
      "    },\n",
      "    \"module_name\": \"train\",\n",
      "    \"job_name\": \"sagemaker-pytorch-2021-02-03-04-02-52-967\",\n",
      "    \"num_gpus\": 0,\n",
      "    \"input_dir\": \"/opt/ml/input\",\n",
      "    \"network_interface_name\": \"eth0\",\n",
      "    \"log_level\": 20,\n",
      "    \"additional_framework_parameters\": {},\n",
      "    \"output_intermediate_dir\": \"/opt/ml/output/intermediate\",\n",
      "    \"hyperparameters\": {\n",
      "        \"hidden_dim\": 200,\n",
      "        \"epochs\": 15\n",
      "    },\n",
      "    \"current_host\": \"algo-1\",\n",
      "    \"output_data_dir\": \"/opt/ml/output/data\",\n",
      "    \"hosts\": [\n",
      "        \"algo-1\"\n",
      "    ],\n",
      "    \"model_dir\": \"/opt/ml/model\",\n",
      "    \"num_cpus\": 4,\n",
      "    \"framework_module\": \"sagemaker_pytorch_container.training:main\",\n",
      "    \"channel_input_dirs\": {\n",
      "        \"training\": \"/opt/ml/input/data/training\"\n",
      "    },\n",
      "    \"resource_config\": {\n",
      "        \"hosts\": [\n",
      "            \"algo-1\"\n",
      "        ],\n",
      "        \"current_host\": \"algo-1\",\n",
      "        \"network_interface_name\": \"eth0\"\n",
      "    },\n",
      "    \"input_config_dir\": \"/opt/ml/input/config\",\n",
      "    \"user_entry_point\": \"train.py\",\n",
      "    \"output_dir\": \"/opt/ml/output\"\u001b[0m\n",
      "\u001b[34m}\n",
      "\u001b[0m\n",
      "\u001b[34mEnvironment variables:\n",
      "\u001b[0m\n",
      "\u001b[34mSM_CURRENT_HOST=algo-1\u001b[0m\n",
      "\u001b[34mSM_MODULE_NAME=train\u001b[0m\n",
      "\u001b[34mSM_TRAINING_ENV={\"additional_framework_parameters\":{},\"channel_input_dirs\":{\"training\":\"/opt/ml/input/data/training\"},\"current_host\":\"algo-1\",\"framework_module\":\"sagemaker_pytorch_container.training:main\",\"hosts\":[\"algo-1\"],\"hyperparameters\":{\"epochs\":15,\"hidden_dim\":200},\"input_config_dir\":\"/opt/ml/input/config\",\"input_data_config\":{\"training\":{\"RecordWrapperType\":\"None\",\"S3DistributionType\":\"FullyReplicated\",\"TrainingInputMode\":\"File\"}},\"input_dir\":\"/opt/ml/input\",\"job_name\":\"sagemaker-pytorch-2021-02-03-04-02-52-967\",\"log_level\":20,\"model_dir\":\"/opt/ml/model\",\"module_dir\":\"s3://sagemaker-us-east-1-103457653454/sagemaker-pytorch-2021-02-03-04-02-52-967/source/sourcedir.tar.gz\",\"module_name\":\"train\",\"network_interface_name\":\"eth0\",\"num_cpus\":4,\"num_gpus\":0,\"output_data_dir\":\"/opt/ml/output/data\",\"output_dir\":\"/opt/ml/output\",\"output_intermediate_dir\":\"/opt/ml/output/intermediate\",\"resource_config\":{\"current_host\":\"algo-1\",\"hosts\":[\"algo-1\"],\"network_interface_name\":\"eth0\"},\"user_entry_point\":\"train.py\"}\u001b[0m\n",
      "\u001b[34mSM_USER_ENTRY_POINT=train.py\u001b[0m\n",
      "\u001b[34mSM_USER_ARGS=[\"--epochs\",\"15\",\"--hidden_dim\",\"200\"]\u001b[0m\n",
      "\u001b[34mSM_HP_EPOCHS=15\u001b[0m\n",
      "\u001b[34mSM_RESOURCE_CONFIG={\"current_host\":\"algo-1\",\"hosts\":[\"algo-1\"],\"network_interface_name\":\"eth0\"}\u001b[0m\n",
      "\u001b[34mSM_HP_HIDDEN_DIM=200\u001b[0m\n",
      "\u001b[34mSM_INPUT_DATA_CONFIG={\"training\":{\"RecordWrapperType\":\"None\",\"S3DistributionType\":\"FullyReplicated\",\"TrainingInputMode\":\"File\"}}\u001b[0m\n",
      "\u001b[34mSM_MODULE_DIR=s3://sagemaker-us-east-1-103457653454/sagemaker-pytorch-2021-02-03-04-02-52-967/source/sourcedir.tar.gz\u001b[0m\n",
      "\u001b[34mSM_MODEL_DIR=/opt/ml/model\u001b[0m\n",
      "\u001b[34mSM_FRAMEWORK_MODULE=sagemaker_pytorch_container.training:main\u001b[0m\n",
      "\u001b[34mSM_INPUT_DIR=/opt/ml/input\u001b[0m\n",
      "\u001b[34mSM_HOSTS=[\"algo-1\"]\u001b[0m\n",
      "\u001b[34mSM_NUM_CPUS=4\u001b[0m\n",
      "\u001b[34mSM_NETWORK_INTERFACE_NAME=eth0\u001b[0m\n",
      "\u001b[34mSM_INPUT_CONFIG_DIR=/opt/ml/input/config\u001b[0m\n",
      "\u001b[34mSM_OUTPUT_DIR=/opt/ml/output\u001b[0m\n",
      "\u001b[34mSM_HPS={\"epochs\":15,\"hidden_dim\":200}\u001b[0m\n",
      "\u001b[34mSM_OUTPUT_INTERMEDIATE_DIR=/opt/ml/output/intermediate\u001b[0m\n",
      "\u001b[34mSM_LOG_LEVEL=20\u001b[0m\n",
      "\u001b[34mSM_NUM_GPUS=0\u001b[0m\n",
      "\u001b[34mSM_CHANNELS=[\"training\"]\u001b[0m\n",
      "\u001b[34mSM_FRAMEWORK_PARAMS={}\u001b[0m\n",
      "\u001b[34mSM_CHANNEL_TRAINING=/opt/ml/input/data/training\u001b[0m\n",
      "\u001b[34mSM_OUTPUT_DATA_DIR=/opt/ml/output/data\u001b[0m\n",
      "\u001b[34mPYTHONPATH=/usr/local/bin:/usr/lib/python35.zip:/usr/lib/python3.5:/usr/lib/python3.5/plat-x86_64-linux-gnu:/usr/lib/python3.5/lib-dynload:/usr/local/lib/python3.5/dist-packages:/usr/lib/python3/dist-packages\n",
      "\u001b[0m\n",
      "\u001b[34mInvoking script with the following command:\n",
      "\u001b[0m\n",
      "\u001b[34m/usr/bin/python -m train --epochs 15 --hidden_dim 200\n",
      "\n",
      "\u001b[0m\n",
      "\u001b[34mUsing device cpu.\u001b[0m\n",
      "\u001b[34mGet train data loader.\u001b[0m\n",
      "\u001b[34mModel loaded with embedding_dim 32, hidden_dim 200, vocab_size 5000.\u001b[0m\n",
      "\u001b[34mEpoch: 1, BCELoss: 0.672172339595094\u001b[0m\n",
      "\u001b[34mEpoch: 2, BCELoss: 0.6121322111207612\u001b[0m\n",
      "\u001b[34mEpoch: 3, BCELoss: 0.5256591317604999\u001b[0m\n",
      "\u001b[34mEpoch: 4, BCELoss: 0.4537265027055935\u001b[0m\n",
      "\u001b[34mEpoch: 5, BCELoss: 0.3932888057767128\u001b[0m\n",
      "\u001b[34mEpoch: 6, BCELoss: 0.3603518957994422\u001b[0m\n",
      "\u001b[34mEpoch: 7, BCELoss: 0.3830180441846653\u001b[0m\n",
      "\u001b[34mEpoch: 8, BCELoss: 0.35952758120030776\u001b[0m\n",
      "\u001b[34mEpoch: 9, BCELoss: 0.3105473491002102\u001b[0m\n",
      "\u001b[34mEpoch: 10, BCELoss: 0.2824071791707253\u001b[0m\n",
      "\u001b[34mEpoch: 11, BCELoss: 0.27267250692357825\u001b[0m\n",
      "\u001b[34mEpoch: 12, BCELoss: 0.26084465639931814\u001b[0m\n",
      "\u001b[34mEpoch: 13, BCELoss: 0.2610232328273812\u001b[0m\n",
      "\u001b[34mEpoch: 14, BCELoss: 0.24993355663455263\u001b[0m\n",
      "\u001b[34mEpoch: 15, BCELoss: 0.24153624231718024\u001b[0m\n",
      "\u001b[34m2021-02-03 06:48:31,492 sagemaker-containers INFO     Reporting training SUCCESS\u001b[0m\n",
      "\n",
      "2021-02-03 06:48:52 Uploading - Uploading generated training model\n",
      "2021-02-03 06:49:00 Completed - Training job completed\n",
      "Training seconds: 9809\n",
      "Billable seconds: 9809\n"
     ]
    }
   ],
   "source": [
    "estimator.fit({'training': input_data})"
   ]
  },
  {
   "cell_type": "markdown",
   "metadata": {},
   "source": [
    "## Step 5: Testing the model\n",
    "\n",
    "As mentioned at the top of this notebook, we will be testing this model by first deploying it and then sending the testing data to the deployed endpoint. We will do this so that we can make sure that the deployed model is working correctly.\n",
    "\n",
    "## Step 6: Deploy the model for testing\n",
    "\n",
    "Now that we have trained our model, we would like to test it to see how it performs. Currently our model takes input of the form `review_length, review[500]` where `review[500]` is a sequence of `500` integers which describe the words present in the review, encoded using `word_dict`. Fortunately for us, SageMaker provides built-in inference code for models with simple inputs such as this.\n",
    "\n",
    "There is one thing that we need to provide, however, and that is a function which loads the saved model. This function must be called `model_fn()` and takes as its only parameter a path to the directory where the model artifacts are stored. This function must also be present in the python file which we specified as the entry point. In our case the model loading function has been provided and so no changes need to be made.\n",
    "\n",
    "**NOTE**: When the built-in inference code is run it must import the `model_fn()` method from the `train.py` file. This is why the training code is wrapped in a main guard ( ie, `if __name__ == '__main__':` )\n",
    "\n",
    "Since we don't need to change anything in the code that was uploaded during training, we can simply deploy the current model as-is.\n",
    "\n",
    "**NOTE:** When deploying a model you are asking SageMaker to launch an compute instance that will wait for data to be sent to it. As a result, this compute instance will continue to run until *you* shut it down. This is important to know since the cost of a deployed endpoint depends on how long it has been running for.\n",
    "\n",
    "In other words **If you are no longer using a deployed endpoint, shut it down!**\n",
    "\n",
    "**TODO:** Deploy the trained model."
   ]
  },
  {
   "cell_type": "code",
   "execution_count": 63,
   "metadata": {},
   "outputs": [
    {
     "name": "stderr",
     "output_type": "stream",
     "text": [
      "Parameter image will be renamed to image_uri in SageMaker Python SDK v2.\n",
      "'create_image_uri' will be deprecated in favor of 'ImageURIProvider' class in SageMaker Python SDK v2.\n"
     ]
    },
    {
     "name": "stdout",
     "output_type": "stream",
     "text": [
      "-----------------!"
     ]
    }
   ],
   "source": [
    "# TODO: Deploy the trained model\n",
    "predictor = estimator.deploy(initial_instance_count = 1, instance_type = 'ml.m4.xlarge')"
   ]
  },
  {
   "cell_type": "markdown",
   "metadata": {},
   "source": [
    "## Step 7 - Use the model for testing\n",
    "\n",
    "Once deployed, we can read in the test data and send it off to our deployed model to get some results. Once we collect all of the results we can determine how accurate our model is."
   ]
  },
  {
   "cell_type": "code",
   "execution_count": 64,
   "metadata": {},
   "outputs": [],
   "source": [
    "test_X = pd.concat([pd.DataFrame(test_X_len), pd.DataFrame(test_X)], axis=1)"
   ]
  },
  {
   "cell_type": "code",
   "execution_count": 65,
   "metadata": {},
   "outputs": [],
   "source": [
    "# We split the data into chunks and send each chunk seperately, accumulating the results.\n",
    "\n",
    "def predict(data, rows=512):\n",
    "    split_array = np.array_split(data, int(data.shape[0] / float(rows) + 1))\n",
    "    predictions = np.array([])\n",
    "    for array in split_array:\n",
    "        predictions = np.append(predictions, predictor.predict(array))\n",
    "    \n",
    "    return predictions"
   ]
  },
  {
   "cell_type": "code",
   "execution_count": 66,
   "metadata": {},
   "outputs": [],
   "source": [
    "predictions = predict(test_X.values)\n",
    "predictions = [round(num) for num in predictions]"
   ]
  },
  {
   "cell_type": "code",
   "execution_count": 67,
   "metadata": {},
   "outputs": [
    {
     "data": {
      "text/plain": [
       "0.82696"
      ]
     },
     "execution_count": 67,
     "metadata": {},
     "output_type": "execute_result"
    }
   ],
   "source": [
    "from sklearn.metrics import accuracy_score\n",
    "accuracy_score(test_y, predictions)"
   ]
  },
  {
   "cell_type": "markdown",
   "metadata": {},
   "source": [
    "**Question:** How does this model compare to the XGBoost model you created earlier? Why might these two models perform differently on this dataset? Which do *you* think is better for sentiment analysis?"
   ]
  },
  {
   "cell_type": "markdown",
   "metadata": {},
   "source": [
    "********\n",
    "Answer: \n",
    "*********\n",
    "1. XGBoost model performed better than RNN model. \n",
    "\n",
    "2. XGBoost and RNN performed differently due to fact that models were trained differently. There is difference in hyper parameter selection and model training approach. XGBoost is a Gradient Boosted Trees algorithm where RNN is deep learning model.\n",
    "\n",
    "3. RNN model can improved further by using different hyperparameters ( example : Epoch, Number of Hidden layers etc)\n",
    "\n",
    "4. Based on current training and test, XGBoost is better choice for sentimental analysis. In somecases, RNN may outperform XGBoost. So, we need to review this based on use-case.\n",
    "\n",
    "5. XGBoost is an open source library providing a high-performance implementation of gradient boosted decision trees.  It uses boosting ensemble techinque in which models are not trained in insoloation but models are trained in succession.  Each new model is trained to correct errors made by previous one. Models are added sequentially until no further improvement can be made. The advantage of this iterative approach is that the new models being added are focused on correcting the mistakes which were caused by other models. In a standard ensemble method where models are trained in isolation, all of the models might simply end up making the same mistakes!. Gradient Boosting specifically is an approach where new models are trained to predict the residuals (i.e errors) of prior models.\n",
    "\n",
    "6. Recurrent neural networks are a special type of neural network where the outputs from previous time steps are fed as input to the current time step. RNN is recurrent in nature. It makes decision based on current input and the output that it has learned from the previous input. In this project , we have used Long Short Term Memory Networks (LSTM).  \n",
    "\n"
   ]
  },
  {
   "cell_type": "markdown",
   "metadata": {},
   "source": [
    "### (TODO) More testing\n",
    "\n",
    "We now have a trained model which has been deployed and which we can send processed reviews to and which returns the predicted sentiment. However, ultimately we would like to be able to send our model an unprocessed review. That is, we would like to send the review itself as a string. For example, suppose we wish to send the following review to our model."
   ]
  },
  {
   "cell_type": "code",
   "execution_count": 68,
   "metadata": {},
   "outputs": [],
   "source": [
    "test_review = 'The simplest pleasures in life are the best, and this film is one of them. Combining a rather basic storyline of love and adventure this movie transcends the usual weekend fair with wit and unmitigated charm.'"
   ]
  },
  {
   "cell_type": "markdown",
   "metadata": {},
   "source": [
    "The question we now need to answer is, how do we send this review to our model?\n",
    "\n",
    "Recall in the first section of this notebook we did a bunch of data processing to the IMDb dataset. In particular, we did two specific things to the provided reviews.\n",
    " - Removed any html tags and stemmed the input\n",
    " - Encoded the review as a sequence of integers using `word_dict`\n",
    " \n",
    "In order process the review we will need to repeat these two steps.\n",
    "\n",
    "**TODO**: Using the `review_to_words` and `convert_and_pad` methods from section one, convert `test_review` into a numpy array `test_data` suitable to send to our model. Remember that our model expects input of the form `review_length, review[500]`."
   ]
  },
  {
   "cell_type": "code",
   "execution_count": 69,
   "metadata": {},
   "outputs": [],
   "source": [
    "# TODO: Convert test_review into a form usable by the model and save the results in test_data\n",
    "# test_data = None\n",
    "test_data, leng  = convert_and_pad(word_dict, review_to_words(test_review))\n",
    "len_test_data = np.array([np.array([leng] + test_data)])"
   ]
  },
  {
   "cell_type": "code",
   "execution_count": 70,
   "metadata": {},
   "outputs": [
    {
     "data": {
      "text/plain": [
       "[1,\n",
       " 1373,\n",
       " 50,\n",
       " 53,\n",
       " 3,\n",
       " 4,\n",
       " 878,\n",
       " 173,\n",
       " 392,\n",
       " 682,\n",
       " 29,\n",
       " 724,\n",
       " 2,\n",
       " 4403,\n",
       " 275,\n",
       " 2077,\n",
       " 1060,\n",
       " 760,\n",
       " 1,\n",
       " 581,\n",
       " 0,\n",
       " 0,\n",
       " 0,\n",
       " 0,\n",
       " 0,\n",
       " 0,\n",
       " 0,\n",
       " 0,\n",
       " 0,\n",
       " 0,\n",
       " 0,\n",
       " 0,\n",
       " 0,\n",
       " 0,\n",
       " 0,\n",
       " 0,\n",
       " 0,\n",
       " 0,\n",
       " 0,\n",
       " 0,\n",
       " 0,\n",
       " 0,\n",
       " 0,\n",
       " 0,\n",
       " 0,\n",
       " 0,\n",
       " 0,\n",
       " 0,\n",
       " 0,\n",
       " 0,\n",
       " 0,\n",
       " 0,\n",
       " 0,\n",
       " 0,\n",
       " 0,\n",
       " 0,\n",
       " 0,\n",
       " 0,\n",
       " 0,\n",
       " 0,\n",
       " 0,\n",
       " 0,\n",
       " 0,\n",
       " 0,\n",
       " 0,\n",
       " 0,\n",
       " 0,\n",
       " 0,\n",
       " 0,\n",
       " 0,\n",
       " 0,\n",
       " 0,\n",
       " 0,\n",
       " 0,\n",
       " 0,\n",
       " 0,\n",
       " 0,\n",
       " 0,\n",
       " 0,\n",
       " 0,\n",
       " 0,\n",
       " 0,\n",
       " 0,\n",
       " 0,\n",
       " 0,\n",
       " 0,\n",
       " 0,\n",
       " 0,\n",
       " 0,\n",
       " 0,\n",
       " 0,\n",
       " 0,\n",
       " 0,\n",
       " 0,\n",
       " 0,\n",
       " 0,\n",
       " 0,\n",
       " 0,\n",
       " 0,\n",
       " 0,\n",
       " 0,\n",
       " 0,\n",
       " 0,\n",
       " 0,\n",
       " 0,\n",
       " 0,\n",
       " 0,\n",
       " 0,\n",
       " 0,\n",
       " 0,\n",
       " 0,\n",
       " 0,\n",
       " 0,\n",
       " 0,\n",
       " 0,\n",
       " 0,\n",
       " 0,\n",
       " 0,\n",
       " 0,\n",
       " 0,\n",
       " 0,\n",
       " 0,\n",
       " 0,\n",
       " 0,\n",
       " 0,\n",
       " 0,\n",
       " 0,\n",
       " 0,\n",
       " 0,\n",
       " 0,\n",
       " 0,\n",
       " 0,\n",
       " 0,\n",
       " 0,\n",
       " 0,\n",
       " 0,\n",
       " 0,\n",
       " 0,\n",
       " 0,\n",
       " 0,\n",
       " 0,\n",
       " 0,\n",
       " 0,\n",
       " 0,\n",
       " 0,\n",
       " 0,\n",
       " 0,\n",
       " 0,\n",
       " 0,\n",
       " 0,\n",
       " 0,\n",
       " 0,\n",
       " 0,\n",
       " 0,\n",
       " 0,\n",
       " 0,\n",
       " 0,\n",
       " 0,\n",
       " 0,\n",
       " 0,\n",
       " 0,\n",
       " 0,\n",
       " 0,\n",
       " 0,\n",
       " 0,\n",
       " 0,\n",
       " 0,\n",
       " 0,\n",
       " 0,\n",
       " 0,\n",
       " 0,\n",
       " 0,\n",
       " 0,\n",
       " 0,\n",
       " 0,\n",
       " 0,\n",
       " 0,\n",
       " 0,\n",
       " 0,\n",
       " 0,\n",
       " 0,\n",
       " 0,\n",
       " 0,\n",
       " 0,\n",
       " 0,\n",
       " 0,\n",
       " 0,\n",
       " 0,\n",
       " 0,\n",
       " 0,\n",
       " 0,\n",
       " 0,\n",
       " 0,\n",
       " 0,\n",
       " 0,\n",
       " 0,\n",
       " 0,\n",
       " 0,\n",
       " 0,\n",
       " 0,\n",
       " 0,\n",
       " 0,\n",
       " 0,\n",
       " 0,\n",
       " 0,\n",
       " 0,\n",
       " 0,\n",
       " 0,\n",
       " 0,\n",
       " 0,\n",
       " 0,\n",
       " 0,\n",
       " 0,\n",
       " 0,\n",
       " 0,\n",
       " 0,\n",
       " 0,\n",
       " 0,\n",
       " 0,\n",
       " 0,\n",
       " 0,\n",
       " 0,\n",
       " 0,\n",
       " 0,\n",
       " 0,\n",
       " 0,\n",
       " 0,\n",
       " 0,\n",
       " 0,\n",
       " 0,\n",
       " 0,\n",
       " 0,\n",
       " 0,\n",
       " 0,\n",
       " 0,\n",
       " 0,\n",
       " 0,\n",
       " 0,\n",
       " 0,\n",
       " 0,\n",
       " 0,\n",
       " 0,\n",
       " 0,\n",
       " 0,\n",
       " 0,\n",
       " 0,\n",
       " 0,\n",
       " 0,\n",
       " 0,\n",
       " 0,\n",
       " 0,\n",
       " 0,\n",
       " 0,\n",
       " 0,\n",
       " 0,\n",
       " 0,\n",
       " 0,\n",
       " 0,\n",
       " 0,\n",
       " 0,\n",
       " 0,\n",
       " 0,\n",
       " 0,\n",
       " 0,\n",
       " 0,\n",
       " 0,\n",
       " 0,\n",
       " 0,\n",
       " 0,\n",
       " 0,\n",
       " 0,\n",
       " 0,\n",
       " 0,\n",
       " 0,\n",
       " 0,\n",
       " 0,\n",
       " 0,\n",
       " 0,\n",
       " 0,\n",
       " 0,\n",
       " 0,\n",
       " 0,\n",
       " 0,\n",
       " 0,\n",
       " 0,\n",
       " 0,\n",
       " 0,\n",
       " 0,\n",
       " 0,\n",
       " 0,\n",
       " 0,\n",
       " 0,\n",
       " 0,\n",
       " 0,\n",
       " 0,\n",
       " 0,\n",
       " 0,\n",
       " 0,\n",
       " 0,\n",
       " 0,\n",
       " 0,\n",
       " 0,\n",
       " 0,\n",
       " 0,\n",
       " 0,\n",
       " 0,\n",
       " 0,\n",
       " 0,\n",
       " 0,\n",
       " 0,\n",
       " 0,\n",
       " 0,\n",
       " 0,\n",
       " 0,\n",
       " 0,\n",
       " 0,\n",
       " 0,\n",
       " 0,\n",
       " 0,\n",
       " 0,\n",
       " 0,\n",
       " 0,\n",
       " 0,\n",
       " 0,\n",
       " 0,\n",
       " 0,\n",
       " 0,\n",
       " 0,\n",
       " 0,\n",
       " 0,\n",
       " 0,\n",
       " 0,\n",
       " 0,\n",
       " 0,\n",
       " 0,\n",
       " 0,\n",
       " 0,\n",
       " 0,\n",
       " 0,\n",
       " 0,\n",
       " 0,\n",
       " 0,\n",
       " 0,\n",
       " 0,\n",
       " 0,\n",
       " 0,\n",
       " 0,\n",
       " 0,\n",
       " 0,\n",
       " 0,\n",
       " 0,\n",
       " 0,\n",
       " 0,\n",
       " 0,\n",
       " 0,\n",
       " 0,\n",
       " 0,\n",
       " 0,\n",
       " 0,\n",
       " 0,\n",
       " 0,\n",
       " 0,\n",
       " 0,\n",
       " 0,\n",
       " 0,\n",
       " 0,\n",
       " 0,\n",
       " 0,\n",
       " 0,\n",
       " 0,\n",
       " 0,\n",
       " 0,\n",
       " 0,\n",
       " 0,\n",
       " 0,\n",
       " 0,\n",
       " 0,\n",
       " 0,\n",
       " 0,\n",
       " 0,\n",
       " 0,\n",
       " 0,\n",
       " 0,\n",
       " 0,\n",
       " 0,\n",
       " 0,\n",
       " 0,\n",
       " 0,\n",
       " 0,\n",
       " 0,\n",
       " 0,\n",
       " 0,\n",
       " 0,\n",
       " 0,\n",
       " 0,\n",
       " 0,\n",
       " 0,\n",
       " 0,\n",
       " 0,\n",
       " 0,\n",
       " 0,\n",
       " 0,\n",
       " 0,\n",
       " 0,\n",
       " 0,\n",
       " 0,\n",
       " 0,\n",
       " 0,\n",
       " 0,\n",
       " 0,\n",
       " 0,\n",
       " 0,\n",
       " 0,\n",
       " 0,\n",
       " 0,\n",
       " 0,\n",
       " 0,\n",
       " 0,\n",
       " 0,\n",
       " 0,\n",
       " 0,\n",
       " 0,\n",
       " 0,\n",
       " 0,\n",
       " 0,\n",
       " 0,\n",
       " 0,\n",
       " 0,\n",
       " 0,\n",
       " 0,\n",
       " 0,\n",
       " 0,\n",
       " 0,\n",
       " 0,\n",
       " 0,\n",
       " 0,\n",
       " 0,\n",
       " 0,\n",
       " 0,\n",
       " 0,\n",
       " 0,\n",
       " 0,\n",
       " 0,\n",
       " 0,\n",
       " 0,\n",
       " 0,\n",
       " 0,\n",
       " 0,\n",
       " 0,\n",
       " 0,\n",
       " 0,\n",
       " 0,\n",
       " 0,\n",
       " 0,\n",
       " 0,\n",
       " 0,\n",
       " 0,\n",
       " 0,\n",
       " 0,\n",
       " 0,\n",
       " 0,\n",
       " 0,\n",
       " 0,\n",
       " 0,\n",
       " 0,\n",
       " 0,\n",
       " 0,\n",
       " 0,\n",
       " 0,\n",
       " 0,\n",
       " 0,\n",
       " 0,\n",
       " 0,\n",
       " 0,\n",
       " 0,\n",
       " 0,\n",
       " 0,\n",
       " 0,\n",
       " 0,\n",
       " 0,\n",
       " 0,\n",
       " 0,\n",
       " 0,\n",
       " 0,\n",
       " 0,\n",
       " 0,\n",
       " 0,\n",
       " 0,\n",
       " 0,\n",
       " 0,\n",
       " 0,\n",
       " 0,\n",
       " 0,\n",
       " 0,\n",
       " 0,\n",
       " 0,\n",
       " 0,\n",
       " 0,\n",
       " 0,\n",
       " 0]"
      ]
     },
     "execution_count": 70,
     "metadata": {},
     "output_type": "execute_result"
    }
   ],
   "source": [
    "# Test_data output\n",
    "test_data"
   ]
  },
  {
   "cell_type": "code",
   "execution_count": 71,
   "metadata": {},
   "outputs": [
    {
     "data": {
      "text/plain": [
       "array([[  20,    1, 1373,   50,   53,    3,    4,  878,  173,  392,  682,\n",
       "          29,  724,    2, 4403,  275, 2077, 1060,  760,    1,  581,    0,\n",
       "           0,    0,    0,    0,    0,    0,    0,    0,    0,    0,    0,\n",
       "           0,    0,    0,    0,    0,    0,    0,    0,    0,    0,    0,\n",
       "           0,    0,    0,    0,    0,    0,    0,    0,    0,    0,    0,\n",
       "           0,    0,    0,    0,    0,    0,    0,    0,    0,    0,    0,\n",
       "           0,    0,    0,    0,    0,    0,    0,    0,    0,    0,    0,\n",
       "           0,    0,    0,    0,    0,    0,    0,    0,    0,    0,    0,\n",
       "           0,    0,    0,    0,    0,    0,    0,    0,    0,    0,    0,\n",
       "           0,    0,    0,    0,    0,    0,    0,    0,    0,    0,    0,\n",
       "           0,    0,    0,    0,    0,    0,    0,    0,    0,    0,    0,\n",
       "           0,    0,    0,    0,    0,    0,    0,    0,    0,    0,    0,\n",
       "           0,    0,    0,    0,    0,    0,    0,    0,    0,    0,    0,\n",
       "           0,    0,    0,    0,    0,    0,    0,    0,    0,    0,    0,\n",
       "           0,    0,    0,    0,    0,    0,    0,    0,    0,    0,    0,\n",
       "           0,    0,    0,    0,    0,    0,    0,    0,    0,    0,    0,\n",
       "           0,    0,    0,    0,    0,    0,    0,    0,    0,    0,    0,\n",
       "           0,    0,    0,    0,    0,    0,    0,    0,    0,    0,    0,\n",
       "           0,    0,    0,    0,    0,    0,    0,    0,    0,    0,    0,\n",
       "           0,    0,    0,    0,    0,    0,    0,    0,    0,    0,    0,\n",
       "           0,    0,    0,    0,    0,    0,    0,    0,    0,    0,    0,\n",
       "           0,    0,    0,    0,    0,    0,    0,    0,    0,    0,    0,\n",
       "           0,    0,    0,    0,    0,    0,    0,    0,    0,    0,    0,\n",
       "           0,    0,    0,    0,    0,    0,    0,    0,    0,    0,    0,\n",
       "           0,    0,    0,    0,    0,    0,    0,    0,    0,    0,    0,\n",
       "           0,    0,    0,    0,    0,    0,    0,    0,    0,    0,    0,\n",
       "           0,    0,    0,    0,    0,    0,    0,    0,    0,    0,    0,\n",
       "           0,    0,    0,    0,    0,    0,    0,    0,    0,    0,    0,\n",
       "           0,    0,    0,    0,    0,    0,    0,    0,    0,    0,    0,\n",
       "           0,    0,    0,    0,    0,    0,    0,    0,    0,    0,    0,\n",
       "           0,    0,    0,    0,    0,    0,    0,    0,    0,    0,    0,\n",
       "           0,    0,    0,    0,    0,    0,    0,    0,    0,    0,    0,\n",
       "           0,    0,    0,    0,    0,    0,    0,    0,    0,    0,    0,\n",
       "           0,    0,    0,    0,    0,    0,    0,    0,    0,    0,    0,\n",
       "           0,    0,    0,    0,    0,    0,    0,    0,    0,    0,    0,\n",
       "           0,    0,    0,    0,    0,    0,    0,    0,    0,    0,    0,\n",
       "           0,    0,    0,    0,    0,    0,    0,    0,    0,    0,    0,\n",
       "           0,    0,    0,    0,    0,    0,    0,    0,    0,    0,    0,\n",
       "           0,    0,    0,    0,    0,    0,    0,    0,    0,    0,    0,\n",
       "           0,    0,    0,    0,    0,    0,    0,    0,    0,    0,    0,\n",
       "           0,    0,    0,    0,    0,    0,    0,    0,    0,    0,    0,\n",
       "           0,    0,    0,    0,    0,    0,    0,    0,    0,    0,    0,\n",
       "           0,    0,    0,    0,    0,    0,    0,    0,    0,    0,    0,\n",
       "           0,    0,    0,    0,    0,    0,    0,    0,    0,    0,    0,\n",
       "           0,    0,    0,    0,    0,    0,    0,    0,    0,    0,    0,\n",
       "           0,    0,    0,    0,    0,    0]])"
      ]
     },
     "execution_count": 71,
     "metadata": {},
     "output_type": "execute_result"
    }
   ],
   "source": [
    "len_test_data"
   ]
  },
  {
   "cell_type": "markdown",
   "metadata": {},
   "source": [
    "Now that we have processed the review, we can send the resulting array to our model to predict the sentiment of the review."
   ]
  },
  {
   "cell_type": "code",
   "execution_count": 72,
   "metadata": {},
   "outputs": [
    {
     "data": {
      "text/plain": [
       "array(0.9602979, dtype=float32)"
      ]
     },
     "execution_count": 72,
     "metadata": {},
     "output_type": "execute_result"
    }
   ],
   "source": [
    "predictor.predict(len_test_data)"
   ]
  },
  {
   "cell_type": "markdown",
   "metadata": {},
   "source": [
    "Since the return value of our model is close to `1`, we can be certain that the review we submitted is positive."
   ]
  },
  {
   "cell_type": "markdown",
   "metadata": {},
   "source": [
    "### Delete the endpoint\n",
    "\n",
    "Of course, just like in the XGBoost notebook, once we've deployed an endpoint it continues to run until we tell it to shut down. Since we are done using our endpoint for now, we can delete it."
   ]
  },
  {
   "cell_type": "code",
   "execution_count": 73,
   "metadata": {},
   "outputs": [
    {
     "data": {
      "text/plain": [
       "'sagemaker-pytorch-2021-02-03-04-02-52-967'"
      ]
     },
     "execution_count": 73,
     "metadata": {},
     "output_type": "execute_result"
    }
   ],
   "source": [
    "predictor.endpoint"
   ]
  },
  {
   "cell_type": "code",
   "execution_count": 82,
   "metadata": {},
   "outputs": [
    {
     "name": "stderr",
     "output_type": "stream",
     "text": [
      "estimator.delete_endpoint() will be deprecated in SageMaker Python SDK v2. Please use the delete_endpoint() function on your predictor instead.\n"
     ]
    }
   ],
   "source": [
    "estimator.delete_endpoint()"
   ]
  },
  {
   "cell_type": "markdown",
   "metadata": {},
   "source": [
    "## Step 6 (again) - Deploy the model for the web app\n",
    "\n",
    "Now that we know that our model is working, it's time to create some custom inference code so that we can send the model a review which has not been processed and have it determine the sentiment of the review.\n",
    "\n",
    "As we saw above, by default the estimator which we created, when deployed, will use the entry script and directory which we provided when creating the model. However, since we now wish to accept a string as input and our model expects a processed review, we need to write some custom inference code.\n",
    "\n",
    "We will store the code that we write in the `serve` directory. Provided in this directory is the `model.py` file that we used to construct our model, a `utils.py` file which contains the `review_to_words` and `convert_and_pad` pre-processing functions which we used during the initial data processing, and `predict.py`, the file which will contain our custom inference code. Note also that `requirements.txt` is present which will tell SageMaker what Python libraries are required by our custom inference code.\n",
    "\n",
    "When deploying a PyTorch model in SageMaker, you are expected to provide four functions which the SageMaker inference container will use.\n",
    " - `model_fn`: This function is the same function that we used in the training script and it tells SageMaker how to load our model.\n",
    " - `input_fn`: This function receives the raw serialized input that has been sent to the model's endpoint and its job is to de-serialize and make the input available for the inference code.\n",
    " - `output_fn`: This function takes the output of the inference code and its job is to serialize this output and return it to the caller of the model's endpoint.\n",
    " - `predict_fn`: The heart of the inference script, this is where the actual prediction is done and is the function which you will need to complete.\n",
    "\n",
    "For the simple website that we are constructing during this project, the `input_fn` and `output_fn` methods are relatively straightforward. We only require being able to accept a string as input and we expect to return a single value as output. You might imagine though that in a more complex application the input or output may be image data or some other binary data which would require some effort to serialize.\n",
    "\n",
    "### (TODO) Writing inference code\n",
    "\n",
    "Before writing our custom inference code, we will begin by taking a look at the code which has been provided."
   ]
  },
  {
   "cell_type": "code",
   "execution_count": 74,
   "metadata": {},
   "outputs": [
    {
     "name": "stdout",
     "output_type": "stream",
     "text": [
      "\u001b[34mimport\u001b[39;49;00m \u001b[04m\u001b[36margparse\u001b[39;49;00m\r\n",
      "\u001b[34mimport\u001b[39;49;00m \u001b[04m\u001b[36mjson\u001b[39;49;00m\r\n",
      "\u001b[34mimport\u001b[39;49;00m \u001b[04m\u001b[36mos\u001b[39;49;00m\r\n",
      "\u001b[34mimport\u001b[39;49;00m \u001b[04m\u001b[36mpickle\u001b[39;49;00m\r\n",
      "\u001b[34mimport\u001b[39;49;00m \u001b[04m\u001b[36msys\u001b[39;49;00m\r\n",
      "\u001b[34mimport\u001b[39;49;00m \u001b[04m\u001b[36msagemaker_containers\u001b[39;49;00m\r\n",
      "\u001b[34mimport\u001b[39;49;00m \u001b[04m\u001b[36mpandas\u001b[39;49;00m \u001b[34mas\u001b[39;49;00m \u001b[04m\u001b[36mpd\u001b[39;49;00m\r\n",
      "\u001b[34mimport\u001b[39;49;00m \u001b[04m\u001b[36mnumpy\u001b[39;49;00m \u001b[34mas\u001b[39;49;00m \u001b[04m\u001b[36mnp\u001b[39;49;00m\r\n",
      "\u001b[34mimport\u001b[39;49;00m \u001b[04m\u001b[36mtorch\u001b[39;49;00m\r\n",
      "\u001b[34mimport\u001b[39;49;00m \u001b[04m\u001b[36mtorch\u001b[39;49;00m\u001b[04m\u001b[36m.\u001b[39;49;00m\u001b[04m\u001b[36mnn\u001b[39;49;00m \u001b[34mas\u001b[39;49;00m \u001b[04m\u001b[36mnn\u001b[39;49;00m\r\n",
      "\u001b[34mimport\u001b[39;49;00m \u001b[04m\u001b[36mtorch\u001b[39;49;00m\u001b[04m\u001b[36m.\u001b[39;49;00m\u001b[04m\u001b[36moptim\u001b[39;49;00m \u001b[34mas\u001b[39;49;00m \u001b[04m\u001b[36moptim\u001b[39;49;00m\r\n",
      "\u001b[34mimport\u001b[39;49;00m \u001b[04m\u001b[36mtorch\u001b[39;49;00m\u001b[04m\u001b[36m.\u001b[39;49;00m\u001b[04m\u001b[36mutils\u001b[39;49;00m\u001b[04m\u001b[36m.\u001b[39;49;00m\u001b[04m\u001b[36mdata\u001b[39;49;00m\r\n",
      "\r\n",
      "\u001b[34mfrom\u001b[39;49;00m \u001b[04m\u001b[36mmodel\u001b[39;49;00m \u001b[34mimport\u001b[39;49;00m LSTMClassifier\r\n",
      "\r\n",
      "\u001b[34mfrom\u001b[39;49;00m \u001b[04m\u001b[36mutils\u001b[39;49;00m \u001b[34mimport\u001b[39;49;00m review_to_words, convert_and_pad\r\n",
      "\r\n",
      "\u001b[34mdef\u001b[39;49;00m \u001b[32mmodel_fn\u001b[39;49;00m(model_dir):\r\n",
      "    \u001b[33m\"\"\"Load the PyTorch model from the `model_dir` directory.\"\"\"\u001b[39;49;00m\r\n",
      "    \u001b[36mprint\u001b[39;49;00m(\u001b[33m\"\u001b[39;49;00m\u001b[33mLoading model.\u001b[39;49;00m\u001b[33m\"\u001b[39;49;00m)\r\n",
      "\r\n",
      "    \u001b[37m# First, load the parameters used to create the model.\u001b[39;49;00m\r\n",
      "    model_info = {}\r\n",
      "    model_info_path = os.path.join(model_dir, \u001b[33m'\u001b[39;49;00m\u001b[33mmodel_info.pth\u001b[39;49;00m\u001b[33m'\u001b[39;49;00m)\r\n",
      "    \u001b[34mwith\u001b[39;49;00m \u001b[36mopen\u001b[39;49;00m(model_info_path, \u001b[33m'\u001b[39;49;00m\u001b[33mrb\u001b[39;49;00m\u001b[33m'\u001b[39;49;00m) \u001b[34mas\u001b[39;49;00m f:\r\n",
      "        model_info = torch.load(f)\r\n",
      "\r\n",
      "    \u001b[36mprint\u001b[39;49;00m(\u001b[33m\"\u001b[39;49;00m\u001b[33mmodel_info: \u001b[39;49;00m\u001b[33m{}\u001b[39;49;00m\u001b[33m\"\u001b[39;49;00m.format(model_info))\r\n",
      "\r\n",
      "    \u001b[37m# Determine the device and construct the model.\u001b[39;49;00m\r\n",
      "    device = torch.device(\u001b[33m\"\u001b[39;49;00m\u001b[33mcuda\u001b[39;49;00m\u001b[33m\"\u001b[39;49;00m \u001b[34mif\u001b[39;49;00m torch.cuda.is_available() \u001b[34melse\u001b[39;49;00m \u001b[33m\"\u001b[39;49;00m\u001b[33mcpu\u001b[39;49;00m\u001b[33m\"\u001b[39;49;00m)\r\n",
      "    model = LSTMClassifier(model_info[\u001b[33m'\u001b[39;49;00m\u001b[33membedding_dim\u001b[39;49;00m\u001b[33m'\u001b[39;49;00m], model_info[\u001b[33m'\u001b[39;49;00m\u001b[33mhidden_dim\u001b[39;49;00m\u001b[33m'\u001b[39;49;00m], model_info[\u001b[33m'\u001b[39;49;00m\u001b[33mvocab_size\u001b[39;49;00m\u001b[33m'\u001b[39;49;00m])\r\n",
      "\r\n",
      "    \u001b[37m# Load the store model parameters.\u001b[39;49;00m\r\n",
      "    model_path = os.path.join(model_dir, \u001b[33m'\u001b[39;49;00m\u001b[33mmodel.pth\u001b[39;49;00m\u001b[33m'\u001b[39;49;00m)\r\n",
      "    \u001b[34mwith\u001b[39;49;00m \u001b[36mopen\u001b[39;49;00m(model_path, \u001b[33m'\u001b[39;49;00m\u001b[33mrb\u001b[39;49;00m\u001b[33m'\u001b[39;49;00m) \u001b[34mas\u001b[39;49;00m f:\r\n",
      "        model.load_state_dict(torch.load(f))\r\n",
      "\r\n",
      "    \u001b[37m# Load the saved word_dict.\u001b[39;49;00m\r\n",
      "    word_dict_path = os.path.join(model_dir, \u001b[33m'\u001b[39;49;00m\u001b[33mword_dict.pkl\u001b[39;49;00m\u001b[33m'\u001b[39;49;00m)\r\n",
      "    \u001b[34mwith\u001b[39;49;00m \u001b[36mopen\u001b[39;49;00m(word_dict_path, \u001b[33m'\u001b[39;49;00m\u001b[33mrb\u001b[39;49;00m\u001b[33m'\u001b[39;49;00m) \u001b[34mas\u001b[39;49;00m f:\r\n",
      "        model.word_dict = pickle.load(f)\r\n",
      "\r\n",
      "    model.to(device).eval()\r\n",
      "\r\n",
      "    \u001b[36mprint\u001b[39;49;00m(\u001b[33m\"\u001b[39;49;00m\u001b[33mDone loading model.\u001b[39;49;00m\u001b[33m\"\u001b[39;49;00m)\r\n",
      "    \u001b[34mreturn\u001b[39;49;00m model\r\n",
      "\r\n",
      "\u001b[34mdef\u001b[39;49;00m \u001b[32minput_fn\u001b[39;49;00m(serialized_input_data, content_type):\r\n",
      "    \u001b[36mprint\u001b[39;49;00m(\u001b[33m'\u001b[39;49;00m\u001b[33mDeserializing the input data.\u001b[39;49;00m\u001b[33m'\u001b[39;49;00m)\r\n",
      "    \u001b[34mif\u001b[39;49;00m content_type == \u001b[33m'\u001b[39;49;00m\u001b[33mtext/plain\u001b[39;49;00m\u001b[33m'\u001b[39;49;00m:\r\n",
      "        data = serialized_input_data.decode(\u001b[33m'\u001b[39;49;00m\u001b[33mutf-8\u001b[39;49;00m\u001b[33m'\u001b[39;49;00m)\r\n",
      "        \u001b[34mreturn\u001b[39;49;00m data\r\n",
      "    \u001b[34mraise\u001b[39;49;00m \u001b[36mException\u001b[39;49;00m(\u001b[33m'\u001b[39;49;00m\u001b[33mRequested unsupported ContentType in content_type: \u001b[39;49;00m\u001b[33m'\u001b[39;49;00m + content_type)\r\n",
      "\r\n",
      "\u001b[34mdef\u001b[39;49;00m \u001b[32moutput_fn\u001b[39;49;00m(prediction_output, accept):\r\n",
      "    \u001b[36mprint\u001b[39;49;00m(\u001b[33m'\u001b[39;49;00m\u001b[33mSerializing the generated output.\u001b[39;49;00m\u001b[33m'\u001b[39;49;00m)\r\n",
      "    \u001b[34mreturn\u001b[39;49;00m \u001b[36mstr\u001b[39;49;00m(prediction_output)\r\n",
      "\r\n",
      "\u001b[34mdef\u001b[39;49;00m \u001b[32mpredict_fn\u001b[39;49;00m(input_data, model):\r\n",
      "    \u001b[36mprint\u001b[39;49;00m(\u001b[33m'\u001b[39;49;00m\u001b[33mInferring sentiment of input data.\u001b[39;49;00m\u001b[33m'\u001b[39;49;00m)\r\n",
      "\r\n",
      "    device = torch.device(\u001b[33m\"\u001b[39;49;00m\u001b[33mcuda\u001b[39;49;00m\u001b[33m\"\u001b[39;49;00m \u001b[34mif\u001b[39;49;00m torch.cuda.is_available() \u001b[34melse\u001b[39;49;00m \u001b[33m\"\u001b[39;49;00m\u001b[33mcpu\u001b[39;49;00m\u001b[33m\"\u001b[39;49;00m)\r\n",
      "    \r\n",
      "    \u001b[34mif\u001b[39;49;00m model.word_dict \u001b[35mis\u001b[39;49;00m \u001b[34mNone\u001b[39;49;00m:\r\n",
      "        \u001b[34mraise\u001b[39;49;00m \u001b[36mException\u001b[39;49;00m(\u001b[33m'\u001b[39;49;00m\u001b[33mModel has not been loaded properly, no word_dict.\u001b[39;49;00m\u001b[33m'\u001b[39;49;00m)\r\n",
      "    \r\n",
      "    \u001b[37m# TODO: Process input_data so that it is ready to be sent to our model.\u001b[39;49;00m\r\n",
      "    \u001b[37m#       You should produce two variables:\u001b[39;49;00m\r\n",
      "    \u001b[37m#         data_X   - A sequence of length 500 which represents the converted review\u001b[39;49;00m\r\n",
      "    \u001b[37m#         data_len - The length of the review\u001b[39;49;00m\r\n",
      "\r\n",
      "    words = review_to_words(input_data)\r\n",
      "    data_X, data_len  = convert_and_pad(model.word_dict, words)\r\n",
      "\r\n",
      "    \u001b[37m# Using data_X and data_len we construct an appropriate input tensor. Remember\u001b[39;49;00m\r\n",
      "    \u001b[37m# that our model expects input data of the form 'len, review[500]'.\u001b[39;49;00m\r\n",
      "    data_pack = np.hstack((data_len, data_X))\r\n",
      "    data_pack = data_pack.reshape(\u001b[34m1\u001b[39;49;00m, -\u001b[34m1\u001b[39;49;00m)\r\n",
      "    \r\n",
      "    data = torch.from_numpy(data_pack)\r\n",
      "    data = data.to(device)\r\n",
      "\r\n",
      "    \u001b[37m# Make sure to put the model into evaluation mode\u001b[39;49;00m\r\n",
      "    model.eval()\r\n",
      "\r\n",
      "    \u001b[37m# TODO: Compute the result of applying the model to the input data. The variable `result` should\u001b[39;49;00m\r\n",
      "    \u001b[37m#       be a numpy array which contains a single integer which is either 1 or 0\u001b[39;49;00m\r\n",
      "    \u001b[34mwith\u001b[39;49;00m torch.no_grad():\r\n",
      "        output = model(data)\r\n",
      "    result = np.round(output.numpy())\r\n",
      "    \r\n",
      "    \u001b[34mreturn\u001b[39;49;00m result\r\n"
     ]
    }
   ],
   "source": [
    "!pygmentize serve/predict.py"
   ]
  },
  {
   "cell_type": "markdown",
   "metadata": {},
   "source": [
    "As mentioned earlier, the `model_fn` method is the same as the one provided in the training code and the `input_fn` and `output_fn` methods are very simple and your task will be to complete the `predict_fn` method. Make sure that you save the completed file as `predict.py` in the `serve` directory.\n",
    "\n",
    "**TODO**: Complete the `predict_fn()` method in the `serve/predict.py` file.\n",
    "**Response*** >>  Done"
   ]
  },
  {
   "cell_type": "markdown",
   "metadata": {},
   "source": [
    "### Deploying the model\n",
    "\n",
    "Now that the custom inference code has been written, we will create and deploy our model. To begin with, we need to construct a new PyTorchModel object which points to the model artifacts created during training and also points to the inference code that we wish to use. Then we can call the deploy method to launch the deployment container.\n",
    "\n",
    "**NOTE**: The default behaviour for a deployed PyTorch model is to assume that any input passed to the predictor is a `numpy` array. In our case we want to send a string so we need to construct a simple wrapper around the `RealTimePredictor` class to accomodate simple strings. In a more complicated situation you may want to provide a serialization object, for example if you wanted to sent image data."
   ]
  },
  {
   "cell_type": "code",
   "execution_count": 75,
   "metadata": {},
   "outputs": [
    {
     "name": "stderr",
     "output_type": "stream",
     "text": [
      "Parameter image will be renamed to image_uri in SageMaker Python SDK v2.\n",
      "'create_image_uri' will be deprecated in favor of 'ImageURIProvider' class in SageMaker Python SDK v2.\n"
     ]
    },
    {
     "name": "stdout",
     "output_type": "stream",
     "text": [
      "---------------!"
     ]
    }
   ],
   "source": [
    "from sagemaker.predictor import RealTimePredictor\n",
    "from sagemaker.pytorch import PyTorchModel\n",
    "\n",
    "class StringPredictor(RealTimePredictor):\n",
    "    def __init__(self, endpoint_name, sagemaker_session):\n",
    "        super(StringPredictor, self).__init__(endpoint_name, sagemaker_session, content_type='text/plain')\n",
    "\n",
    "model = PyTorchModel(model_data=estimator.model_data,\n",
    "                     role = role,\n",
    "                     framework_version='0.4.0',\n",
    "                     entry_point='predict.py',\n",
    "                     source_dir='serve',\n",
    "                     predictor_cls=StringPredictor)\n",
    "predictor = model.deploy(initial_instance_count=1, instance_type='ml.m4.xlarge')"
   ]
  },
  {
   "cell_type": "markdown",
   "metadata": {},
   "source": [
    "### Testing the model\n",
    "\n",
    "Now that we have deployed our model with the custom inference code, we should test to see if everything is working. Here we test our model by loading the first `250` positive and negative reviews and send them to the endpoint, then collect the results. The reason for only sending some of the data is that the amount of time it takes for our model to process the input and then perform inference is quite long and so testing the entire data set would be prohibitive."
   ]
  },
  {
   "cell_type": "code",
   "execution_count": 76,
   "metadata": {},
   "outputs": [],
   "source": [
    "import glob\n",
    "\n",
    "def test_reviews(data_dir='../data/aclImdb', stop=250):\n",
    "    \n",
    "    results = []\n",
    "    ground = []\n",
    "    \n",
    "    # We make sure to test both positive and negative reviews    \n",
    "    for sentiment in ['pos', 'neg']:\n",
    "        \n",
    "        path = os.path.join(data_dir, 'test', sentiment, '*.txt')\n",
    "        files = glob.glob(path)\n",
    "        \n",
    "        files_read = 0\n",
    "        \n",
    "        print('Starting ', sentiment, ' files')\n",
    "        \n",
    "        # Iterate through the files and send them to the predictor\n",
    "        for f in files:\n",
    "            with open(f) as review:\n",
    "                # First, we store the ground truth (was the review positive or negative)\n",
    "                if sentiment == 'pos':\n",
    "                    ground.append(1)\n",
    "                else:\n",
    "                    ground.append(0)\n",
    "                # Read in the review and convert to 'utf-8' for transmission via HTTP\n",
    "                review_input = review.read().encode('utf-8')\n",
    "                # Send the review to the predictor and store the results\n",
    "                results.append(float(predictor.predict(review_input)))\n",
    "                \n",
    "            # Sending reviews to our endpoint one at a time takes a while so we\n",
    "            # only send a small number of reviews\n",
    "            files_read += 1\n",
    "            if files_read == stop:\n",
    "                break\n",
    "            \n",
    "    return ground, results"
   ]
  },
  {
   "cell_type": "code",
   "execution_count": 77,
   "metadata": {},
   "outputs": [
    {
     "name": "stdout",
     "output_type": "stream",
     "text": [
      "Starting  pos  files\n",
      "Starting  neg  files\n"
     ]
    }
   ],
   "source": [
    "ground, results = test_reviews()"
   ]
  },
  {
   "cell_type": "code",
   "execution_count": 78,
   "metadata": {},
   "outputs": [
    {
     "data": {
      "text/plain": [
       "0.846"
      ]
     },
     "execution_count": 78,
     "metadata": {},
     "output_type": "execute_result"
    }
   ],
   "source": [
    "from sklearn.metrics import accuracy_score\n",
    "accuracy_score(ground, results)"
   ]
  },
  {
   "cell_type": "markdown",
   "metadata": {},
   "source": [
    "As an additional test, we can try sending the `test_review` that we looked at earlier."
   ]
  },
  {
   "cell_type": "code",
   "execution_count": 79,
   "metadata": {},
   "outputs": [
    {
     "data": {
      "text/plain": [
       "b'1.0'"
      ]
     },
     "execution_count": 79,
     "metadata": {},
     "output_type": "execute_result"
    }
   ],
   "source": [
    "predictor.predict(test_review)"
   ]
  },
  {
   "cell_type": "markdown",
   "metadata": {},
   "source": [
    "Now that we know our endpoint is working as expected, we can set up the web page that will interact with it. If you don't have time to finish the project now, make sure to skip down to the end of this notebook and shut down your endpoint. You can deploy it again when you come back."
   ]
  },
  {
   "cell_type": "markdown",
   "metadata": {},
   "source": [
    "## Step 7 (again): Use the model for the web app\n",
    "\n",
    "> **TODO:** This entire section and the next contain tasks for you to complete, mostly using the AWS console.\n",
    "\n",
    "So far we have been accessing our model endpoint by constructing a predictor object which uses the endpoint and then just using the predictor object to perform inference. What if we wanted to create a web app which accessed our model? The way things are set up currently makes that not possible since in order to access a SageMaker endpoint the app would first have to authenticate with AWS using an IAM role which included access to SageMaker endpoints. However, there is an easier way! We just need to use some additional AWS services.\n",
    "\n",
    "<img src=\"Web App Diagram.svg\">\n",
    "\n",
    "The diagram above gives an overview of how the various services will work together. On the far right is the model which we trained above and which is deployed using SageMaker. On the far left is our web app that collects a user's movie review, sends it off and expects a positive or negative sentiment in return.\n",
    "\n",
    "In the middle is where some of the magic happens. We will construct a Lambda function, which you can think of as a straightforward Python function that can be executed whenever a specified event occurs. We will give this function permission to send and recieve data from a SageMaker endpoint.\n",
    "\n",
    "Lastly, the method we will use to execute the Lambda function is a new endpoint that we will create using API Gateway. This endpoint will be a url that listens for data to be sent to it. Once it gets some data it will pass that data on to the Lambda function and then return whatever the Lambda function returns. Essentially it will act as an interface that lets our web app communicate with the Lambda function.\n",
    "\n",
    "### Setting up a Lambda function\n",
    "\n",
    "The first thing we are going to do is set up a Lambda function. This Lambda function will be executed whenever our public API has data sent to it. When it is executed it will receive the data, perform any sort of processing that is required, send the data (the review) to the SageMaker endpoint we've created and then return the result.\n",
    "\n",
    "#### Part A: Create an IAM Role for the Lambda function\n",
    "\n",
    "Since we want the Lambda function to call a SageMaker endpoint, we need to make sure that it has permission to do so. To do this, we will construct a role that we can later give the Lambda function.\n",
    "\n",
    "Using the AWS Console, navigate to the **IAM** page and click on **Roles**. Then, click on **Create role**. Make sure that the **AWS service** is the type of trusted entity selected and choose **Lambda** as the service that will use this role, then click **Next: Permissions**.\n",
    "\n",
    "In the search box type `sagemaker` and select the check box next to the **AmazonSageMakerFullAccess** policy. Then, click on **Next: Review**.\n",
    "\n",
    "Lastly, give this role a name. Make sure you use a name that you will remember later on, for example `LambdaSageMakerRole`. Then, click on **Create role**.\n",
    "\n",
    "#### Part B: Create a Lambda function\n",
    "\n",
    "Now it is time to actually create the Lambda function.\n",
    "\n",
    "Using the AWS Console, navigate to the AWS Lambda page and click on **Create a function**. When you get to the next page, make sure that **Author from scratch** is selected. Now, name your Lambda function, using a name that you will remember later on, for example `sentiment_analysis_func`. Make sure that the **Python 3.6** runtime is selected and then choose the role that you created in the previous part. Then, click on **Create Function**.\n",
    "\n",
    "On the next page you will see some information about the Lambda function you've just created. If you scroll down you should see an editor in which you can write the code that will be executed when your Lambda function is triggered. In our example, we will use the code below. \n",
    "\n",
    "```python\n",
    "# We need to use the low-level library to interact with SageMaker since the SageMaker API\n",
    "# is not available natively through Lambda.\n",
    "import boto3\n",
    "\n",
    "def lambda_handler(event, context):\n",
    "\n",
    "    # The SageMaker runtime is what allows us to invoke the endpoint that we've created.\n",
    "    runtime = boto3.Session().client('sagemaker-runtime')\n",
    "\n",
    "    # Now we use the SageMaker runtime to invoke our endpoint, sending the review we were given\n",
    "    response = runtime.invoke_endpoint(EndpointName = '**ENDPOINT NAME HERE**',    # The name of the endpoint we created\n",
    "                                       ContentType = 'text/plain',                 # The data format that is expected\n",
    "                                       Body = event['body'])                       # The actual review\n",
    "\n",
    "    # The response is an HTTP response whose body contains the result of our inference\n",
    "    result = response['Body'].read().decode('utf-8')\n",
    "\n",
    "    return {\n",
    "        'statusCode' : 200,\n",
    "        'headers' : { 'Content-Type' : 'text/plain', 'Access-Control-Allow-Origin' : '*' },\n",
    "        'body' : result\n",
    "    }\n",
    "```\n",
    "\n",
    "Once you have copy and pasted the code above into the Lambda code editor, replace the `**ENDPOINT NAME HERE**` portion with the name of the endpoint that we deployed earlier. You can determine the name of the endpoint using the code cell below."
   ]
  },
  {
   "cell_type": "code",
   "execution_count": 80,
   "metadata": {},
   "outputs": [
    {
     "data": {
      "text/plain": [
       "'sagemaker-pytorch-2021-02-03-07-23-05-932'"
      ]
     },
     "execution_count": 80,
     "metadata": {},
     "output_type": "execute_result"
    }
   ],
   "source": [
    "predictor.endpoint"
   ]
  },
  {
   "cell_type": "markdown",
   "metadata": {},
   "source": [
    "Once you have added the endpoint name to the Lambda function, click on **Save**. Your Lambda function is now up and running. Next we need to create a way for our web app to execute the Lambda function.\n",
    "\n",
    "### Setting up API Gateway\n",
    "\n",
    "Now that our Lambda function is set up, it is time to create a new API using API Gateway that will trigger the Lambda function we have just created.\n",
    "\n",
    "Using AWS Console, navigate to **Amazon API Gateway** and then click on **Get started**.\n",
    "\n",
    "On the next page, make sure that **New API** is selected and give the new api a name, for example, `sentiment_analysis_api`. Then, click on **Create API**.\n",
    "\n",
    "Now we have created an API, however it doesn't currently do anything. What we want it to do is to trigger the Lambda function that we created earlier.\n",
    "\n",
    "Select the **Actions** dropdown menu and click **Create Method**. A new blank method will be created, select its dropdown menu and select **POST**, then click on the check mark beside it.\n",
    "\n",
    "For the integration point, make sure that **Lambda Function** is selected and click on the **Use Lambda Proxy integration**. This option makes sure that the data that is sent to the API is then sent directly to the Lambda function with no processing. It also means that the return value must be a proper response object as it will also not be processed by API Gateway.\n",
    "\n",
    "Type the name of the Lambda function you created earlier into the **Lambda Function** text entry box and then click on **Save**. Click on **OK** in the pop-up box that then appears, giving permission to API Gateway to invoke the Lambda function you created.\n",
    "\n",
    "The last step in creating the API Gateway is to select the **Actions** dropdown and click on **Deploy API**. You will need to create a new Deployment stage and name it anything you like, for example `prod`.\n",
    "\n",
    "You have now successfully set up a public API to access your SageMaker model. Make sure to copy or write down the URL provided to invoke your newly created public API as this will be needed in the next step. This URL can be found at the top of the page, highlighted in blue next to the text **Invoke URL**."
   ]
  },
  {
   "cell_type": "markdown",
   "metadata": {},
   "source": [
    "## Step 4: Deploying our web app\n",
    "\n",
    "Now that we have a publicly available API, we can start using it in a web app. For our purposes, we have provided a simple static html file which can make use of the public api you created earlier.\n",
    "\n",
    "In the `website` folder there should be a file called `index.html`. Download the file to your computer and open that file up in a text editor of your choice. There should be a line which contains **\\*\\*REPLACE WITH PUBLIC API URL\\*\\***. Replace this string with the url that you wrote down in the last step and then save the file.\n",
    "\n",
    "Now, if you open `index.html` on your local computer, your browser will behave as a local web server and you can use the provided site to interact with your SageMaker model.\n",
    "\n",
    "If you'd like to go further, you can host this html file anywhere you'd like, for example using github or hosting a static site on Amazon's S3. Once you have done this you can share the link with anyone you'd like and have them play with it too!\n",
    "\n",
    "> **Important Note** In order for the web app to communicate with the SageMaker endpoint, the endpoint has to actually be deployed and running. This means that you are paying for it. Make sure that the endpoint is running when you want to use the web app but that you shut it down when you don't need it, otherwise you will end up with a surprisingly large AWS bill.\n",
    "\n",
    "**TODO:** Make sure that you include the edited `index.html` file in your project submission."
   ]
  },
  {
   "cell_type": "markdown",
   "metadata": {},
   "source": [
    "Now that your web app is working, trying playing around with it and see how well it works.\n",
    "\n",
    "**Question**: Give an example of a review that you entered into your web app. What was the predicted sentiment of your example review?"
   ]
  },
  {
   "cell_type": "markdown",
   "metadata": {},
   "source": [
    "*************\n",
    "**Answer:**\n",
    "**************\n",
    "\n",
    "1) Review Entered :  Horrible movie\n",
    "   Model Response :  Your review was NEGATIVE\n",
    "\n",
    "\n",
    "\n",
    "2) Review Entered :  Awesome movie !.  I will watch again.\n",
    "   Model Response :  Your review was POSITIVE \n",
    "\n",
    "\n",
    "\n",
    "3) Review Entered :  I hate this moview\n",
    "   Model Response :  Your review was NEGATIVE\n",
    "\n",
    "\n",
    "\n",
    "4) Review Entered :  I don't know what to say about this moview. Moview plot was good. Actors performed well but movie was slow\n",
    "   Model Response :  Your review was NEGATIVE"
   ]
  },
  {
   "cell_type": "markdown",
   "metadata": {},
   "source": [
    "### Delete the endpoint\n",
    "\n",
    "Remember to always shut down your endpoint if you are no longer using it. You are charged for the length of time that the endpoint is running so if you forget and leave it on you could end up with an unexpectedly large bill."
   ]
  },
  {
   "cell_type": "code",
   "execution_count": 81,
   "metadata": {},
   "outputs": [],
   "source": [
    "predictor.delete_endpoint()"
   ]
  },
  {
   "cell_type": "code",
   "execution_count": null,
   "metadata": {},
   "outputs": [],
   "source": []
  }
 ],
 "metadata": {
  "kernelspec": {
   "display_name": "conda_pytorch_p36",
   "language": "python",
   "name": "conda_pytorch_p36"
  },
  "language_info": {
   "codemirror_mode": {
    "name": "ipython",
    "version": 3
   },
   "file_extension": ".py",
   "mimetype": "text/x-python",
   "name": "python",
   "nbconvert_exporter": "python",
   "pygments_lexer": "ipython3",
   "version": "3.6.10"
  }
 },
 "nbformat": 4,
 "nbformat_minor": 2
}
